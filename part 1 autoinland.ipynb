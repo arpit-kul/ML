{
 "cells": [
  {
   "cell_type": "code",
   "execution_count": 350,
   "id": "84a4318e",
   "metadata": {},
   "outputs": [],
   "source": [
    "import pandas as pd\n",
    "import numpy as np\n",
    "import seaborn as sns\n",
    "import matplotlib.pyplot as plt\n",
    "import warnings\n",
    "warnings.filterwarnings('ignore')\n",
    "pd.set_option('display.max_columns', 500)"
   ]
  },
  {
   "cell_type": "code",
   "execution_count": 351,
   "id": "7c8d56af",
   "metadata": {},
   "outputs": [],
   "source": [
    "df1 = pd.read_csv('Train.csv')\n",
    "df2 = pd.read_csv('Test.csv')"
   ]
  },
  {
   "cell_type": "code",
   "execution_count": 311,
   "id": "aa999a53",
   "metadata": {},
   "outputs": [],
   "source": [
    "df1['Policy End Date']=df1['Policy End Date'].astype('datetime64')\n",
    "df1['Policy Start Date']=df1['Policy Start Date'].astype('datetime64')\n",
    "df2['Policy End Date']=df2['Policy End Date'].astype('datetime64')\n",
    "df2['Policy Start Date']=df2['Policy Start Date'].astype('datetime64')\n",
    "\n",
    "df1['days']=(df1['Policy End Date']-df1['Policy Start Date']).dt.days\n",
    "df2['days']=(df2['Policy End Date']-df2['Policy Start Date']).dt.days"
   ]
  },
  {
   "cell_type": "code",
   "execution_count": 313,
   "id": "4a40ae7c",
   "metadata": {
    "scrolled": true
   },
   "outputs": [
    {
     "data": {
      "text/plain": [
       "ID                                object\n",
       "Policy Start Date         datetime64[ns]\n",
       "Policy End Date           datetime64[ns]\n",
       "Gender                            object\n",
       "Age                                int64\n",
       "First Transaction Date            object\n",
       "No_Pol                             int64\n",
       "Car_Category                      object\n",
       "Subject_Car_Colour                object\n",
       "Subject_Car_Make                  object\n",
       "LGA_Name                          object\n",
       "State                             object\n",
       "ProductName                       object\n",
       "target                             int64\n",
       "days                               int64\n",
       "dtype: object"
      ]
     },
     "execution_count": 313,
     "metadata": {},
     "output_type": "execute_result"
    }
   ],
   "source": [
    "df1.dtypes"
   ]
  },
  {
   "cell_type": "code",
   "execution_count": 314,
   "id": "de46cc04",
   "metadata": {},
   "outputs": [
    {
     "data": {
      "text/plain": [
       "ID                                object\n",
       "Policy Start Date         datetime64[ns]\n",
       "Policy End Date           datetime64[ns]\n",
       "Gender                            object\n",
       "Age                                int64\n",
       "First Transaction Date            object\n",
       "No_Pol                             int64\n",
       "Car_Category                      object\n",
       "Subject_Car_Colour                object\n",
       "Subject_Car_Make                  object\n",
       "LGA_Name                          object\n",
       "State                             object\n",
       "ProductName                       object\n",
       "days                               int64\n",
       "dtype: object"
      ]
     },
     "execution_count": 314,
     "metadata": {},
     "output_type": "execute_result"
    }
   ],
   "source": [
    "df2.dtypes"
   ]
  },
  {
   "cell_type": "code",
   "execution_count": 315,
   "id": "74d15721",
   "metadata": {},
   "outputs": [
    {
     "data": {
      "text/plain": [
       "ID                           0\n",
       "Policy Start Date            0\n",
       "Policy End Date              0\n",
       "Gender                     359\n",
       "Age                          0\n",
       "First Transaction Date       0\n",
       "No_Pol                       0\n",
       "Car_Category              3738\n",
       "Subject_Car_Colour        6962\n",
       "Subject_Car_Make          2476\n",
       "LGA_Name                  6476\n",
       "State                     6488\n",
       "ProductName                  0\n",
       "target                       0\n",
       "days                         0\n",
       "dtype: int64"
      ]
     },
     "execution_count": 315,
     "metadata": {},
     "output_type": "execute_result"
    }
   ],
   "source": [
    "df1.isnull().sum()"
   ]
  },
  {
   "cell_type": "code",
   "execution_count": 316,
   "id": "2bd48e96",
   "metadata": {},
   "outputs": [
    {
     "data": {
      "text/plain": [
       "ID                          0\n",
       "Policy Start Date           0\n",
       "Policy End Date             0\n",
       "Gender                     41\n",
       "Age                         0\n",
       "First Transaction Date      0\n",
       "No_Pol                      0\n",
       "Car_Category              372\n",
       "Subject_Car_Colour        697\n",
       "Subject_Car_Make          248\n",
       "LGA_Name                  656\n",
       "State                     656\n",
       "ProductName                 0\n",
       "days                        0\n",
       "dtype: int64"
      ]
     },
     "execution_count": 316,
     "metadata": {},
     "output_type": "execute_result"
    }
   ],
   "source": [
    "df2.isnull().sum()"
   ]
  },
  {
   "cell_type": "code",
   "execution_count": 317,
   "id": "26bd016f",
   "metadata": {},
   "outputs": [
    {
     "data": {
      "text/html": [
       "<div>\n",
       "<style scoped>\n",
       "    .dataframe tbody tr th:only-of-type {\n",
       "        vertical-align: middle;\n",
       "    }\n",
       "\n",
       "    .dataframe tbody tr th {\n",
       "        vertical-align: top;\n",
       "    }\n",
       "\n",
       "    .dataframe thead th {\n",
       "        text-align: right;\n",
       "    }\n",
       "</style>\n",
       "<table border=\"1\" class=\"dataframe\">\n",
       "  <thead>\n",
       "    <tr style=\"text-align: right;\">\n",
       "      <th></th>\n",
       "      <th>ID</th>\n",
       "      <th>Policy Start Date</th>\n",
       "      <th>Policy End Date</th>\n",
       "      <th>Gender</th>\n",
       "      <th>Age</th>\n",
       "      <th>First Transaction Date</th>\n",
       "      <th>No_Pol</th>\n",
       "      <th>Car_Category</th>\n",
       "      <th>Subject_Car_Colour</th>\n",
       "      <th>Subject_Car_Make</th>\n",
       "      <th>LGA_Name</th>\n",
       "      <th>State</th>\n",
       "      <th>ProductName</th>\n",
       "      <th>target</th>\n",
       "      <th>days</th>\n",
       "    </tr>\n",
       "  </thead>\n",
       "  <tbody>\n",
       "    <tr>\n",
       "      <th>0</th>\n",
       "      <td>ID_0040R73</td>\n",
       "      <td>2010-05-14</td>\n",
       "      <td>2011-05-13</td>\n",
       "      <td>Male</td>\n",
       "      <td>30</td>\n",
       "      <td>2010-05-14</td>\n",
       "      <td>1</td>\n",
       "      <td>Saloon</td>\n",
       "      <td>Black</td>\n",
       "      <td>TOYOTA</td>\n",
       "      <td>NaN</td>\n",
       "      <td>NaN</td>\n",
       "      <td>Car Classic</td>\n",
       "      <td>0</td>\n",
       "      <td>364</td>\n",
       "    </tr>\n",
       "    <tr>\n",
       "      <th>1</th>\n",
       "      <td>ID_0046BNK</td>\n",
       "      <td>2010-11-29</td>\n",
       "      <td>2011-11-28</td>\n",
       "      <td>Female</td>\n",
       "      <td>79</td>\n",
       "      <td>2010-11-29</td>\n",
       "      <td>1</td>\n",
       "      <td>JEEP</td>\n",
       "      <td>Grey</td>\n",
       "      <td>TOYOTA</td>\n",
       "      <td>NaN</td>\n",
       "      <td>NaN</td>\n",
       "      <td>Car Classic</td>\n",
       "      <td>1</td>\n",
       "      <td>364</td>\n",
       "    </tr>\n",
       "    <tr>\n",
       "      <th>2</th>\n",
       "      <td>ID_005QMC3</td>\n",
       "      <td>2010-03-21</td>\n",
       "      <td>2011-03-20</td>\n",
       "      <td>Male</td>\n",
       "      <td>43</td>\n",
       "      <td>2010-03-21</td>\n",
       "      <td>1</td>\n",
       "      <td>Saloon</td>\n",
       "      <td>Red</td>\n",
       "      <td>TOYOTA</td>\n",
       "      <td>NaN</td>\n",
       "      <td>NaN</td>\n",
       "      <td>Car Classic</td>\n",
       "      <td>0</td>\n",
       "      <td>364</td>\n",
       "    </tr>\n",
       "    <tr>\n",
       "      <th>3</th>\n",
       "      <td>ID_0079OHW</td>\n",
       "      <td>2010-08-21</td>\n",
       "      <td>2011-08-20</td>\n",
       "      <td>Male</td>\n",
       "      <td>2</td>\n",
       "      <td>2010-08-21</td>\n",
       "      <td>1</td>\n",
       "      <td>NaN</td>\n",
       "      <td>NaN</td>\n",
       "      <td>NaN</td>\n",
       "      <td>NaN</td>\n",
       "      <td>NaN</td>\n",
       "      <td>CarSafe</td>\n",
       "      <td>0</td>\n",
       "      <td>364</td>\n",
       "    </tr>\n",
       "    <tr>\n",
       "      <th>4</th>\n",
       "      <td>ID_00BRP63</td>\n",
       "      <td>2010-08-29</td>\n",
       "      <td>2010-12-31</td>\n",
       "      <td>Entity</td>\n",
       "      <td>20</td>\n",
       "      <td>2010-08-29</td>\n",
       "      <td>3</td>\n",
       "      <td>NaN</td>\n",
       "      <td>NaN</td>\n",
       "      <td>NaN</td>\n",
       "      <td>Lagos</td>\n",
       "      <td>Lagos</td>\n",
       "      <td>Muuve</td>\n",
       "      <td>1</td>\n",
       "      <td>124</td>\n",
       "    </tr>\n",
       "  </tbody>\n",
       "</table>\n",
       "</div>"
      ],
      "text/plain": [
       "           ID Policy Start Date Policy End Date  Gender  Age  \\\n",
       "0  ID_0040R73        2010-05-14      2011-05-13    Male   30   \n",
       "1  ID_0046BNK        2010-11-29      2011-11-28  Female   79   \n",
       "2  ID_005QMC3        2010-03-21      2011-03-20    Male   43   \n",
       "3  ID_0079OHW        2010-08-21      2011-08-20    Male    2   \n",
       "4  ID_00BRP63        2010-08-29      2010-12-31  Entity   20   \n",
       "\n",
       "  First Transaction Date  No_Pol Car_Category Subject_Car_Colour  \\\n",
       "0             2010-05-14       1       Saloon              Black   \n",
       "1             2010-11-29       1         JEEP               Grey   \n",
       "2             2010-03-21       1       Saloon                Red   \n",
       "3             2010-08-21       1          NaN                NaN   \n",
       "4             2010-08-29       3          NaN                NaN   \n",
       "\n",
       "  Subject_Car_Make LGA_Name  State  ProductName  target  days  \n",
       "0           TOYOTA      NaN    NaN  Car Classic       0   364  \n",
       "1           TOYOTA      NaN    NaN  Car Classic       1   364  \n",
       "2           TOYOTA      NaN    NaN  Car Classic       0   364  \n",
       "3              NaN      NaN    NaN      CarSafe       0   364  \n",
       "4              NaN    Lagos  Lagos        Muuve       1   124  "
      ]
     },
     "execution_count": 317,
     "metadata": {},
     "output_type": "execute_result"
    }
   ],
   "source": [
    "df1.head()"
   ]
  },
  {
   "cell_type": "code",
   "execution_count": 318,
   "id": "a88036f9",
   "metadata": {},
   "outputs": [
    {
     "data": {
      "text/html": [
       "<div>\n",
       "<style scoped>\n",
       "    .dataframe tbody tr th:only-of-type {\n",
       "        vertical-align: middle;\n",
       "    }\n",
       "\n",
       "    .dataframe tbody tr th {\n",
       "        vertical-align: top;\n",
       "    }\n",
       "\n",
       "    .dataframe thead th {\n",
       "        text-align: right;\n",
       "    }\n",
       "</style>\n",
       "<table border=\"1\" class=\"dataframe\">\n",
       "  <thead>\n",
       "    <tr style=\"text-align: right;\">\n",
       "      <th></th>\n",
       "      <th>ID</th>\n",
       "      <th>Policy Start Date</th>\n",
       "      <th>Policy End Date</th>\n",
       "      <th>Gender</th>\n",
       "      <th>Age</th>\n",
       "      <th>First Transaction Date</th>\n",
       "      <th>No_Pol</th>\n",
       "      <th>Car_Category</th>\n",
       "      <th>Subject_Car_Colour</th>\n",
       "      <th>Subject_Car_Make</th>\n",
       "      <th>LGA_Name</th>\n",
       "      <th>State</th>\n",
       "      <th>ProductName</th>\n",
       "      <th>days</th>\n",
       "    </tr>\n",
       "  </thead>\n",
       "  <tbody>\n",
       "    <tr>\n",
       "      <th>0</th>\n",
       "      <td>ID_01QM0NU</td>\n",
       "      <td>2010-10-23</td>\n",
       "      <td>2011-10-22</td>\n",
       "      <td>Female</td>\n",
       "      <td>46</td>\n",
       "      <td>2010-10-23</td>\n",
       "      <td>1</td>\n",
       "      <td>NaN</td>\n",
       "      <td>NaN</td>\n",
       "      <td>Ford</td>\n",
       "      <td>Abuja Municipal</td>\n",
       "      <td>Abuja-Municipal</td>\n",
       "      <td>Car Classic</td>\n",
       "      <td>364</td>\n",
       "    </tr>\n",
       "    <tr>\n",
       "      <th>1</th>\n",
       "      <td>ID_024NJLZ</td>\n",
       "      <td>2010-10-14</td>\n",
       "      <td>2011-10-13</td>\n",
       "      <td>Male</td>\n",
       "      <td>32</td>\n",
       "      <td>2010-10-14</td>\n",
       "      <td>1</td>\n",
       "      <td>NaN</td>\n",
       "      <td>NaN</td>\n",
       "      <td>NaN</td>\n",
       "      <td>Kosofe</td>\n",
       "      <td>Benue</td>\n",
       "      <td>Car Classic</td>\n",
       "      <td>364</td>\n",
       "    </tr>\n",
       "    <tr>\n",
       "      <th>2</th>\n",
       "      <td>ID_02NOVWQ</td>\n",
       "      <td>2010-08-29</td>\n",
       "      <td>2011-08-28</td>\n",
       "      <td>Female</td>\n",
       "      <td>45</td>\n",
       "      <td>2010-08-29</td>\n",
       "      <td>2</td>\n",
       "      <td>Saloon</td>\n",
       "      <td>Black</td>\n",
       "      <td>Honda</td>\n",
       "      <td>Wuse 11</td>\n",
       "      <td>Abuja</td>\n",
       "      <td>Car Classic</td>\n",
       "      <td>364</td>\n",
       "    </tr>\n",
       "    <tr>\n",
       "      <th>3</th>\n",
       "      <td>ID_02VSP68</td>\n",
       "      <td>2010-06-13</td>\n",
       "      <td>2011-06-12</td>\n",
       "      <td>Female</td>\n",
       "      <td>58</td>\n",
       "      <td>2010-06-13</td>\n",
       "      <td>1</td>\n",
       "      <td>Saloon</td>\n",
       "      <td>NaN</td>\n",
       "      <td>TOYOTA</td>\n",
       "      <td>NaN</td>\n",
       "      <td>NaN</td>\n",
       "      <td>CarSafe</td>\n",
       "      <td>364</td>\n",
       "    </tr>\n",
       "    <tr>\n",
       "      <th>4</th>\n",
       "      <td>ID_02YB37K</td>\n",
       "      <td>2010-07-01</td>\n",
       "      <td>2011-06-30</td>\n",
       "      <td>NaN</td>\n",
       "      <td>120</td>\n",
       "      <td>2010-07-01</td>\n",
       "      <td>1</td>\n",
       "      <td>Saloon</td>\n",
       "      <td>Red</td>\n",
       "      <td>Hyundai</td>\n",
       "      <td>Victoria Island</td>\n",
       "      <td>Lagos</td>\n",
       "      <td>Car Classic</td>\n",
       "      <td>364</td>\n",
       "    </tr>\n",
       "  </tbody>\n",
       "</table>\n",
       "</div>"
      ],
      "text/plain": [
       "           ID Policy Start Date Policy End Date  Gender  Age  \\\n",
       "0  ID_01QM0NU        2010-10-23      2011-10-22  Female   46   \n",
       "1  ID_024NJLZ        2010-10-14      2011-10-13    Male   32   \n",
       "2  ID_02NOVWQ        2010-08-29      2011-08-28  Female   45   \n",
       "3  ID_02VSP68        2010-06-13      2011-06-12  Female   58   \n",
       "4  ID_02YB37K        2010-07-01      2011-06-30     NaN  120   \n",
       "\n",
       "  First Transaction Date  No_Pol Car_Category Subject_Car_Colour  \\\n",
       "0             2010-10-23       1          NaN                NaN   \n",
       "1             2010-10-14       1          NaN                NaN   \n",
       "2             2010-08-29       2       Saloon              Black   \n",
       "3             2010-06-13       1       Saloon                NaN   \n",
       "4             2010-07-01       1       Saloon                Red   \n",
       "\n",
       "  Subject_Car_Make         LGA_Name            State  ProductName  days  \n",
       "0             Ford  Abuja Municipal  Abuja-Municipal  Car Classic   364  \n",
       "1              NaN           Kosofe            Benue  Car Classic   364  \n",
       "2            Honda          Wuse 11            Abuja  Car Classic   364  \n",
       "3           TOYOTA              NaN              NaN      CarSafe   364  \n",
       "4          Hyundai  Victoria Island            Lagos  Car Classic   364  "
      ]
     },
     "execution_count": 318,
     "metadata": {},
     "output_type": "execute_result"
    }
   ],
   "source": [
    "df2.head()"
   ]
  },
  {
   "cell_type": "code",
   "execution_count": 319,
   "id": "cbc652ae",
   "metadata": {},
   "outputs": [],
   "source": [
    "data = pd.concat([df1,df2],axis=0)"
   ]
  },
  {
   "cell_type": "code",
   "execution_count": 320,
   "id": "e15433a1",
   "metadata": {},
   "outputs": [
    {
     "data": {
      "text/html": [
       "<div>\n",
       "<style scoped>\n",
       "    .dataframe tbody tr th:only-of-type {\n",
       "        vertical-align: middle;\n",
       "    }\n",
       "\n",
       "    .dataframe tbody tr th {\n",
       "        vertical-align: top;\n",
       "    }\n",
       "\n",
       "    .dataframe thead th {\n",
       "        text-align: right;\n",
       "    }\n",
       "</style>\n",
       "<table border=\"1\" class=\"dataframe\">\n",
       "  <thead>\n",
       "    <tr style=\"text-align: right;\">\n",
       "      <th></th>\n",
       "      <th>ID</th>\n",
       "      <th>Policy Start Date</th>\n",
       "      <th>Policy End Date</th>\n",
       "      <th>Gender</th>\n",
       "      <th>Age</th>\n",
       "      <th>First Transaction Date</th>\n",
       "      <th>No_Pol</th>\n",
       "      <th>Car_Category</th>\n",
       "      <th>Subject_Car_Colour</th>\n",
       "      <th>Subject_Car_Make</th>\n",
       "      <th>LGA_Name</th>\n",
       "      <th>State</th>\n",
       "      <th>ProductName</th>\n",
       "      <th>target</th>\n",
       "      <th>days</th>\n",
       "    </tr>\n",
       "  </thead>\n",
       "  <tbody>\n",
       "    <tr>\n",
       "      <th>0</th>\n",
       "      <td>ID_0040R73</td>\n",
       "      <td>2010-05-14</td>\n",
       "      <td>2011-05-13</td>\n",
       "      <td>Male</td>\n",
       "      <td>30</td>\n",
       "      <td>2010-05-14</td>\n",
       "      <td>1</td>\n",
       "      <td>Saloon</td>\n",
       "      <td>Black</td>\n",
       "      <td>TOYOTA</td>\n",
       "      <td>NaN</td>\n",
       "      <td>NaN</td>\n",
       "      <td>Car Classic</td>\n",
       "      <td>0.0</td>\n",
       "      <td>364</td>\n",
       "    </tr>\n",
       "    <tr>\n",
       "      <th>1</th>\n",
       "      <td>ID_0046BNK</td>\n",
       "      <td>2010-11-29</td>\n",
       "      <td>2011-11-28</td>\n",
       "      <td>Female</td>\n",
       "      <td>79</td>\n",
       "      <td>2010-11-29</td>\n",
       "      <td>1</td>\n",
       "      <td>JEEP</td>\n",
       "      <td>Grey</td>\n",
       "      <td>TOYOTA</td>\n",
       "      <td>NaN</td>\n",
       "      <td>NaN</td>\n",
       "      <td>Car Classic</td>\n",
       "      <td>1.0</td>\n",
       "      <td>364</td>\n",
       "    </tr>\n",
       "    <tr>\n",
       "      <th>2</th>\n",
       "      <td>ID_005QMC3</td>\n",
       "      <td>2010-03-21</td>\n",
       "      <td>2011-03-20</td>\n",
       "      <td>Male</td>\n",
       "      <td>43</td>\n",
       "      <td>2010-03-21</td>\n",
       "      <td>1</td>\n",
       "      <td>Saloon</td>\n",
       "      <td>Red</td>\n",
       "      <td>TOYOTA</td>\n",
       "      <td>NaN</td>\n",
       "      <td>NaN</td>\n",
       "      <td>Car Classic</td>\n",
       "      <td>0.0</td>\n",
       "      <td>364</td>\n",
       "    </tr>\n",
       "    <tr>\n",
       "      <th>3</th>\n",
       "      <td>ID_0079OHW</td>\n",
       "      <td>2010-08-21</td>\n",
       "      <td>2011-08-20</td>\n",
       "      <td>Male</td>\n",
       "      <td>2</td>\n",
       "      <td>2010-08-21</td>\n",
       "      <td>1</td>\n",
       "      <td>NaN</td>\n",
       "      <td>NaN</td>\n",
       "      <td>NaN</td>\n",
       "      <td>NaN</td>\n",
       "      <td>NaN</td>\n",
       "      <td>CarSafe</td>\n",
       "      <td>0.0</td>\n",
       "      <td>364</td>\n",
       "    </tr>\n",
       "    <tr>\n",
       "      <th>4</th>\n",
       "      <td>ID_00BRP63</td>\n",
       "      <td>2010-08-29</td>\n",
       "      <td>2010-12-31</td>\n",
       "      <td>Entity</td>\n",
       "      <td>20</td>\n",
       "      <td>2010-08-29</td>\n",
       "      <td>3</td>\n",
       "      <td>NaN</td>\n",
       "      <td>NaN</td>\n",
       "      <td>NaN</td>\n",
       "      <td>Lagos</td>\n",
       "      <td>Lagos</td>\n",
       "      <td>Muuve</td>\n",
       "      <td>1.0</td>\n",
       "      <td>124</td>\n",
       "    </tr>\n",
       "  </tbody>\n",
       "</table>\n",
       "</div>"
      ],
      "text/plain": [
       "           ID Policy Start Date Policy End Date  Gender  Age  \\\n",
       "0  ID_0040R73        2010-05-14      2011-05-13    Male   30   \n",
       "1  ID_0046BNK        2010-11-29      2011-11-28  Female   79   \n",
       "2  ID_005QMC3        2010-03-21      2011-03-20    Male   43   \n",
       "3  ID_0079OHW        2010-08-21      2011-08-20    Male    2   \n",
       "4  ID_00BRP63        2010-08-29      2010-12-31  Entity   20   \n",
       "\n",
       "  First Transaction Date  No_Pol Car_Category Subject_Car_Colour  \\\n",
       "0             2010-05-14       1       Saloon              Black   \n",
       "1             2010-11-29       1         JEEP               Grey   \n",
       "2             2010-03-21       1       Saloon                Red   \n",
       "3             2010-08-21       1          NaN                NaN   \n",
       "4             2010-08-29       3          NaN                NaN   \n",
       "\n",
       "  Subject_Car_Make LGA_Name  State  ProductName  target  days  \n",
       "0           TOYOTA      NaN    NaN  Car Classic     0.0   364  \n",
       "1           TOYOTA      NaN    NaN  Car Classic     1.0   364  \n",
       "2           TOYOTA      NaN    NaN  Car Classic     0.0   364  \n",
       "3              NaN      NaN    NaN      CarSafe     0.0   364  \n",
       "4              NaN    Lagos  Lagos        Muuve     1.0   124  "
      ]
     },
     "execution_count": 320,
     "metadata": {},
     "output_type": "execute_result"
    }
   ],
   "source": [
    "data.head()"
   ]
  },
  {
   "cell_type": "code",
   "execution_count": 321,
   "id": "2ad55db7",
   "metadata": {},
   "outputs": [
    {
     "data": {
      "text/plain": [
       "array(['Male', 'Female', 'Entity', 'Joint Gender', nan, 'NO GENDER',\n",
       "       'NOT STATED', 'SEX'], dtype=object)"
      ]
     },
     "execution_count": 321,
     "metadata": {},
     "output_type": "execute_result"
    }
   ],
   "source": [
    "data['Gender'].unique()"
   ]
  },
  {
   "cell_type": "code",
   "execution_count": 322,
   "id": "1d96582f",
   "metadata": {},
   "outputs": [],
   "source": [
    "gender = {'Male':'Male', 'Female':'Female', 'Entity':np.nan, 'Joint Gender':'others', 'NO GENDER':np.nan,'NOT STATED':np.nan, 'SEX':np.nan}\n",
    "\n",
    "data['Gender']=data['Gender'].map(gender)"
   ]
  },
  {
   "cell_type": "code",
   "execution_count": 324,
   "id": "e6c857d0",
   "metadata": {},
   "outputs": [],
   "source": [
    "data.drop(['ID','Policy Start Date','Policy End Date','First Transaction Date','Subject_Car_Colour','LGA_Name','State'],axis=1,inplace=True)"
   ]
  },
  {
   "cell_type": "code",
   "execution_count": 325,
   "id": "2a270a09",
   "metadata": {},
   "outputs": [],
   "source": [
    "data = data.dropna(axis=0)"
   ]
  },
  {
   "cell_type": "code",
   "execution_count": 326,
   "id": "aacb669c",
   "metadata": {},
   "outputs": [],
   "source": [
    "gender_dummy = pd.get_dummies(data['Gender'],drop_first=True)\n",
    "gender_dummy = gender_dummy.reset_index(drop=True)\n",
    "\n",
    "from sklearn.preprocessing import LabelEncoder\n",
    "l1_car_cat = LabelEncoder()\n",
    "l2_subject_car = LabelEncoder()\n",
    "l3_product_name = LabelEncoder()\n",
    "\n",
    "data['Car_Category'] = l1_car_cat.fit_transform(data['Car_Category'])\n",
    "data['Subject_Car_Make'] = l2_subject_car.fit_transform(data['Subject_Car_Make'])\n",
    "data['ProductName'] = l3_product_name.fit_transform(data['ProductName'])"
   ]
  },
  {
   "cell_type": "code",
   "execution_count": 327,
   "id": "e3d3a9e2",
   "metadata": {},
   "outputs": [],
   "source": [
    "data.reset_index(drop=True,inplace=True)"
   ]
  },
  {
   "cell_type": "code",
   "execution_count": 336,
   "id": "fbaec427",
   "metadata": {
    "scrolled": true
   },
   "outputs": [],
   "source": [
    "data.to_csv('model_data.csv')"
   ]
  },
  {
   "cell_type": "code",
   "execution_count": 329,
   "id": "7403431a",
   "metadata": {},
   "outputs": [],
   "source": [
    "data = data.join(gender_dummy)\n",
    "data.drop('Gender',axis=1,inplace=True)"
   ]
  },
  {
   "cell_type": "code",
   "execution_count": 337,
   "id": "cee0cd08",
   "metadata": {},
   "outputs": [],
   "source": [
    "data = data[data['Age']>18]"
   ]
  },
  {
   "cell_type": "code",
   "execution_count": 339,
   "id": "bb7df0df",
   "metadata": {},
   "outputs": [],
   "source": [
    "data.to_csv('model_data.csv')"
   ]
  },
  {
   "cell_type": "code",
   "execution_count": null,
   "id": "9900cf20",
   "metadata": {},
   "outputs": [],
   "source": []
  },
  {
   "cell_type": "code",
   "execution_count": 344,
   "id": "1776bd3b",
   "metadata": {},
   "outputs": [],
   "source": [
    "test = pd.read_csv('Test.csv')"
   ]
  },
  {
   "cell_type": "code",
   "execution_count": 345,
   "id": "e3c9ad3a",
   "metadata": {},
   "outputs": [],
   "source": [
    "test['Gender'] = test['Gender'].map(gender)"
   ]
  },
  {
   "cell_type": "code",
   "execution_count": 346,
   "id": "ad936d86",
   "metadata": {},
   "outputs": [],
   "source": [
    "test['Policy End Date']=test['Policy End Date'].astype('datetime64')\n",
    "test['Policy Start Date']=test['Policy Start Date'].astype('datetime64')"
   ]
  },
  {
   "cell_type": "code",
   "execution_count": 347,
   "id": "62e2e79c",
   "metadata": {},
   "outputs": [],
   "source": [
    "test['days']=(test['Policy End Date']-test['Policy Start Date']).dt.days"
   ]
  },
  {
   "cell_type": "code",
   "execution_count": 348,
   "id": "ad8b47ac",
   "metadata": {},
   "outputs": [],
   "source": [
    "test.drop(['Policy Start Date','Policy End Date','First Transaction Date','Subject_Car_Colour','LGA_Name','State'],axis=1,inplace=True)"
   ]
  },
  {
   "cell_type": "code",
   "execution_count": 349,
   "id": "c606230e",
   "metadata": {},
   "outputs": [],
   "source": [
    "test.to_csv('testing_modified.csv')"
   ]
  },
  {
   "cell_type": "code",
   "execution_count": null,
   "id": "23a617fd",
   "metadata": {},
   "outputs": [],
   "source": []
  },
  {
   "cell_type": "code",
   "execution_count": null,
   "id": "296a350b",
   "metadata": {},
   "outputs": [],
   "source": []
  },
  {
   "cell_type": "code",
   "execution_count": null,
   "id": "268b7665",
   "metadata": {},
   "outputs": [],
   "source": []
  },
  {
   "cell_type": "code",
   "execution_count": null,
   "id": "bcaf17b8",
   "metadata": {},
   "outputs": [],
   "source": []
  },
  {
   "cell_type": "code",
   "execution_count": 381,
   "id": "9c740988",
   "metadata": {},
   "outputs": [],
   "source": [
    "df1 = pd.read_csv('Train.csv')"
   ]
  },
  {
   "cell_type": "code",
   "execution_count": 382,
   "id": "e077c1d8",
   "metadata": {},
   "outputs": [],
   "source": [
    "df1.dropna(inplace=True)"
   ]
  },
  {
   "cell_type": "code",
   "execution_count": 383,
   "id": "92453a0c",
   "metadata": {},
   "outputs": [
    {
     "data": {
      "text/plain": [
       "(2667, 14)"
      ]
     },
     "execution_count": 383,
     "metadata": {},
     "output_type": "execute_result"
    }
   ],
   "source": [
    "df1.shape"
   ]
  },
  {
   "cell_type": "code",
   "execution_count": 412,
   "id": "377eca5f",
   "metadata": {},
   "outputs": [],
   "source": [
    "from mlxtend.feature_selection import SequentialFeatureSelector\n",
    "from xgboost import XGBClassifier"
   ]
  },
  {
   "cell_type": "code",
   "execution_count": 413,
   "id": "4abb08f1",
   "metadata": {},
   "outputs": [],
   "source": [
    "sfs = SequentialFeatureSelector(estimator=XGBClassifier(),cv=3,k_features='best',n_jobs=-1)"
   ]
  },
  {
   "cell_type": "code",
   "execution_count": 386,
   "id": "bcc5705c",
   "metadata": {},
   "outputs": [],
   "source": [
    "x = df1.drop('target',axis=1)"
   ]
  },
  {
   "cell_type": "code",
   "execution_count": 387,
   "id": "875bbc02",
   "metadata": {},
   "outputs": [],
   "source": [
    "y = df1['target']"
   ]
  },
  {
   "cell_type": "code",
   "execution_count": null,
   "id": "dea70133",
   "metadata": {},
   "outputs": [],
   "source": []
  },
  {
   "cell_type": "code",
   "execution_count": 388,
   "id": "33acd612",
   "metadata": {},
   "outputs": [],
   "source": [
    "df1['Policy End Date']=df1['Policy End Date'].astype('datetime64')\n",
    "df1['Policy Start Date']=df1['Policy Start Date'].astype('datetime64')\n",
    "df1['days']=(df1['Policy End Date']-df1['Policy Start Date']).dt.days"
   ]
  },
  {
   "cell_type": "code",
   "execution_count": 389,
   "id": "9451454c",
   "metadata": {},
   "outputs": [],
   "source": [
    "df1.drop(['Policy Start Date','Policy End Date','First Transaction Date','ID'],axis=1,inplace=True)"
   ]
  },
  {
   "cell_type": "code",
   "execution_count": 390,
   "id": "ecefb19c",
   "metadata": {},
   "outputs": [
    {
     "data": {
      "text/html": [
       "<div>\n",
       "<style scoped>\n",
       "    .dataframe tbody tr th:only-of-type {\n",
       "        vertical-align: middle;\n",
       "    }\n",
       "\n",
       "    .dataframe tbody tr th {\n",
       "        vertical-align: top;\n",
       "    }\n",
       "\n",
       "    .dataframe thead th {\n",
       "        text-align: right;\n",
       "    }\n",
       "</style>\n",
       "<table border=\"1\" class=\"dataframe\">\n",
       "  <thead>\n",
       "    <tr style=\"text-align: right;\">\n",
       "      <th></th>\n",
       "      <th>Gender</th>\n",
       "      <th>Age</th>\n",
       "      <th>No_Pol</th>\n",
       "      <th>Car_Category</th>\n",
       "      <th>Subject_Car_Colour</th>\n",
       "      <th>Subject_Car_Make</th>\n",
       "      <th>LGA_Name</th>\n",
       "      <th>State</th>\n",
       "      <th>ProductName</th>\n",
       "      <th>target</th>\n",
       "      <th>days</th>\n",
       "    </tr>\n",
       "  </thead>\n",
       "  <tbody>\n",
       "    <tr>\n",
       "      <th>8</th>\n",
       "      <td>Female</td>\n",
       "      <td>71</td>\n",
       "      <td>2</td>\n",
       "      <td>JEEP</td>\n",
       "      <td>Black</td>\n",
       "      <td>REXTON</td>\n",
       "      <td>Badagry</td>\n",
       "      <td>Benue</td>\n",
       "      <td>Car Classic</td>\n",
       "      <td>0</td>\n",
       "      <td>364</td>\n",
       "    </tr>\n",
       "    <tr>\n",
       "      <th>22</th>\n",
       "      <td>Male</td>\n",
       "      <td>30</td>\n",
       "      <td>1</td>\n",
       "      <td>Saloon</td>\n",
       "      <td>Grey</td>\n",
       "      <td>TOYOTA</td>\n",
       "      <td>Ikeja</td>\n",
       "      <td>Lagos</td>\n",
       "      <td>Car Classic</td>\n",
       "      <td>1</td>\n",
       "      <td>364</td>\n",
       "    </tr>\n",
       "    <tr>\n",
       "      <th>24</th>\n",
       "      <td>Male</td>\n",
       "      <td>40</td>\n",
       "      <td>2</td>\n",
       "      <td>Saloon</td>\n",
       "      <td>Black</td>\n",
       "      <td>Honda</td>\n",
       "      <td>Abuja Municipal</td>\n",
       "      <td>Abuja-Municipal</td>\n",
       "      <td>Car Classic</td>\n",
       "      <td>0</td>\n",
       "      <td>364</td>\n",
       "    </tr>\n",
       "    <tr>\n",
       "      <th>26</th>\n",
       "      <td>Male</td>\n",
       "      <td>41</td>\n",
       "      <td>1</td>\n",
       "      <td>Saloon</td>\n",
       "      <td>Silver</td>\n",
       "      <td>TOYOTA</td>\n",
       "      <td>Yaba</td>\n",
       "      <td>Benue</td>\n",
       "      <td>Car Classic</td>\n",
       "      <td>0</td>\n",
       "      <td>358</td>\n",
       "    </tr>\n",
       "    <tr>\n",
       "      <th>39</th>\n",
       "      <td>Male</td>\n",
       "      <td>39</td>\n",
       "      <td>2</td>\n",
       "      <td>Saloon</td>\n",
       "      <td>Red</td>\n",
       "      <td>TOYOTA</td>\n",
       "      <td>Oshodi-Isolo</td>\n",
       "      <td>Oshodi-Isolo</td>\n",
       "      <td>Car Classic</td>\n",
       "      <td>0</td>\n",
       "      <td>364</td>\n",
       "    </tr>\n",
       "    <tr>\n",
       "      <th>...</th>\n",
       "      <td>...</td>\n",
       "      <td>...</td>\n",
       "      <td>...</td>\n",
       "      <td>...</td>\n",
       "      <td>...</td>\n",
       "      <td>...</td>\n",
       "      <td>...</td>\n",
       "      <td>...</td>\n",
       "      <td>...</td>\n",
       "      <td>...</td>\n",
       "      <td>...</td>\n",
       "    </tr>\n",
       "    <tr>\n",
       "      <th>12050</th>\n",
       "      <td>Male</td>\n",
       "      <td>59</td>\n",
       "      <td>1</td>\n",
       "      <td>JEEP</td>\n",
       "      <td>Black</td>\n",
       "      <td>TOYOTA</td>\n",
       "      <td>MAGODO</td>\n",
       "      <td>Benue</td>\n",
       "      <td>Car Classic</td>\n",
       "      <td>0</td>\n",
       "      <td>364</td>\n",
       "    </tr>\n",
       "    <tr>\n",
       "      <th>12052</th>\n",
       "      <td>Male</td>\n",
       "      <td>70</td>\n",
       "      <td>1</td>\n",
       "      <td>JEEP</td>\n",
       "      <td>Black</td>\n",
       "      <td>Lexus</td>\n",
       "      <td>Eti-Osa</td>\n",
       "      <td>Eti-Osa</td>\n",
       "      <td>Car Classic</td>\n",
       "      <td>0</td>\n",
       "      <td>364</td>\n",
       "    </tr>\n",
       "    <tr>\n",
       "      <th>12054</th>\n",
       "      <td>Male</td>\n",
       "      <td>33</td>\n",
       "      <td>1</td>\n",
       "      <td>Saloon</td>\n",
       "      <td>As Attached</td>\n",
       "      <td>TOYOTA</td>\n",
       "      <td>Port Harcourt</td>\n",
       "      <td>Rivers</td>\n",
       "      <td>Car Classic</td>\n",
       "      <td>0</td>\n",
       "      <td>364</td>\n",
       "    </tr>\n",
       "    <tr>\n",
       "      <th>12073</th>\n",
       "      <td>Female</td>\n",
       "      <td>31</td>\n",
       "      <td>1</td>\n",
       "      <td>Saloon</td>\n",
       "      <td>Cream</td>\n",
       "      <td>Hyundai</td>\n",
       "      <td>Lagos Island</td>\n",
       "      <td>Lagos</td>\n",
       "      <td>Car Classic</td>\n",
       "      <td>0</td>\n",
       "      <td>364</td>\n",
       "    </tr>\n",
       "    <tr>\n",
       "      <th>12078</th>\n",
       "      <td>Female</td>\n",
       "      <td>46</td>\n",
       "      <td>2</td>\n",
       "      <td>JEEP</td>\n",
       "      <td>Black</td>\n",
       "      <td>Land Rover</td>\n",
       "      <td>Lagos Island</td>\n",
       "      <td>Lagos</td>\n",
       "      <td>Car Classic</td>\n",
       "      <td>0</td>\n",
       "      <td>364</td>\n",
       "    </tr>\n",
       "  </tbody>\n",
       "</table>\n",
       "<p>2667 rows × 11 columns</p>\n",
       "</div>"
      ],
      "text/plain": [
       "       Gender  Age  No_Pol Car_Category Subject_Car_Colour Subject_Car_Make  \\\n",
       "8      Female   71       2         JEEP              Black           REXTON   \n",
       "22       Male   30       1       Saloon               Grey           TOYOTA   \n",
       "24       Male   40       2       Saloon              Black            Honda   \n",
       "26       Male   41       1       Saloon             Silver           TOYOTA   \n",
       "39       Male   39       2       Saloon                Red           TOYOTA   \n",
       "...       ...  ...     ...          ...                ...              ...   \n",
       "12050    Male   59       1         JEEP              Black           TOYOTA   \n",
       "12052    Male   70       1         JEEP              Black            Lexus   \n",
       "12054    Male   33       1       Saloon        As Attached           TOYOTA   \n",
       "12073  Female   31       1       Saloon              Cream          Hyundai   \n",
       "12078  Female   46       2         JEEP              Black       Land Rover   \n",
       "\n",
       "              LGA_Name            State  ProductName  target  days  \n",
       "8              Badagry            Benue  Car Classic       0   364  \n",
       "22               Ikeja            Lagos  Car Classic       1   364  \n",
       "24     Abuja Municipal  Abuja-Municipal  Car Classic       0   364  \n",
       "26                Yaba            Benue  Car Classic       0   358  \n",
       "39        Oshodi-Isolo     Oshodi-Isolo  Car Classic       0   364  \n",
       "...                ...              ...          ...     ...   ...  \n",
       "12050           MAGODO            Benue  Car Classic       0   364  \n",
       "12052          Eti-Osa          Eti-Osa  Car Classic       0   364  \n",
       "12054    Port Harcourt           Rivers  Car Classic       0   364  \n",
       "12073     Lagos Island            Lagos  Car Classic       0   364  \n",
       "12078     Lagos Island            Lagos  Car Classic       0   364  \n",
       "\n",
       "[2667 rows x 11 columns]"
      ]
     },
     "execution_count": 390,
     "metadata": {},
     "output_type": "execute_result"
    }
   ],
   "source": [
    "df1"
   ]
  },
  {
   "cell_type": "code",
   "execution_count": 391,
   "id": "9f1da589",
   "metadata": {},
   "outputs": [],
   "source": [
    "gender = {'Male':'Male', 'Female':'Female', 'Entity':np.nan, 'Joint Gender':'others', 'NO GENDER':np.nan,'NOT STATED':np.nan, 'SEX':np.nan}\n",
    "\n",
    "df1['Gender']=df1['Gender'].map(gender)"
   ]
  },
  {
   "cell_type": "code",
   "execution_count": 392,
   "id": "66c014f4",
   "metadata": {},
   "outputs": [],
   "source": [
    "gender_dummy = pd.get_dummies(df1['Gender'],drop_first=True)\n",
    "\n",
    "\n",
    "from sklearn.preprocessing import LabelEncoder\n",
    "l1_car_cat = LabelEncoder()\n",
    "l2_subject_car = LabelEncoder()\n",
    "l3_product_name = LabelEncoder()\n",
    "l5_lga_name = LabelEncoder()\n",
    "l4_state = LabelEncoder()\n",
    "l6_color = LabelEncoder()\n",
    "\n",
    "df1['Car_Category'] = l1_car_cat.fit_transform(df1['Car_Category'])\n",
    "df1['Subject_Car_Make'] = l2_subject_car.fit_transform(df1['Subject_Car_Make'])\n",
    "df1['ProductName'] = l3_product_name.fit_transform(df1['ProductName'])\n",
    "df1['LGA_Name'] = l5_lga_name.fit_transform(df1['LGA_Name'])\n",
    "df1['State'] = l4_state.fit_transform(df1['State'])\n",
    "df1['Subject_Car_Colour'] = l6_color.fit_transform(df1['Subject_Car_Colour'])"
   ]
  },
  {
   "cell_type": "code",
   "execution_count": 395,
   "id": "c40cc429",
   "metadata": {},
   "outputs": [],
   "source": [
    "df1.reset_index(drop=True,inplace=True)"
   ]
  },
  {
   "cell_type": "code",
   "execution_count": 396,
   "id": "745d6de6",
   "metadata": {},
   "outputs": [],
   "source": [
    "gender_dummy.reset_index(drop=True,inplace=True)"
   ]
  },
  {
   "cell_type": "code",
   "execution_count": 398,
   "id": "1194facf",
   "metadata": {},
   "outputs": [],
   "source": [
    "df1 = df1.join(gender_dummy)"
   ]
  },
  {
   "cell_type": "code",
   "execution_count": 400,
   "id": "8545e487",
   "metadata": {},
   "outputs": [],
   "source": [
    "df1.drop('Gender',axis=1,inplace=True)"
   ]
  },
  {
   "cell_type": "code",
   "execution_count": 401,
   "id": "f808b383",
   "metadata": {},
   "outputs": [
    {
     "data": {
      "text/html": [
       "<div>\n",
       "<style scoped>\n",
       "    .dataframe tbody tr th:only-of-type {\n",
       "        vertical-align: middle;\n",
       "    }\n",
       "\n",
       "    .dataframe tbody tr th {\n",
       "        vertical-align: top;\n",
       "    }\n",
       "\n",
       "    .dataframe thead th {\n",
       "        text-align: right;\n",
       "    }\n",
       "</style>\n",
       "<table border=\"1\" class=\"dataframe\">\n",
       "  <thead>\n",
       "    <tr style=\"text-align: right;\">\n",
       "      <th></th>\n",
       "      <th>Age</th>\n",
       "      <th>No_Pol</th>\n",
       "      <th>Car_Category</th>\n",
       "      <th>Subject_Car_Colour</th>\n",
       "      <th>Subject_Car_Make</th>\n",
       "      <th>LGA_Name</th>\n",
       "      <th>State</th>\n",
       "      <th>ProductName</th>\n",
       "      <th>target</th>\n",
       "      <th>days</th>\n",
       "      <th>Male</th>\n",
       "      <th>others</th>\n",
       "    </tr>\n",
       "  </thead>\n",
       "  <tbody>\n",
       "    <tr>\n",
       "      <th>0</th>\n",
       "      <td>71</td>\n",
       "      <td>2</td>\n",
       "      <td>1</td>\n",
       "      <td>4</td>\n",
       "      <td>34</td>\n",
       "      <td>39</td>\n",
       "      <td>17</td>\n",
       "      <td>1</td>\n",
       "      <td>0</td>\n",
       "      <td>364</td>\n",
       "      <td>0</td>\n",
       "      <td>0</td>\n",
       "    </tr>\n",
       "    <tr>\n",
       "      <th>1</th>\n",
       "      <td>30</td>\n",
       "      <td>1</td>\n",
       "      <td>7</td>\n",
       "      <td>18</td>\n",
       "      <td>41</td>\n",
       "      <td>86</td>\n",
       "      <td>54</td>\n",
       "      <td>1</td>\n",
       "      <td>1</td>\n",
       "      <td>364</td>\n",
       "      <td>1</td>\n",
       "      <td>0</td>\n",
       "    </tr>\n",
       "    <tr>\n",
       "      <th>2</th>\n",
       "      <td>40</td>\n",
       "      <td>2</td>\n",
       "      <td>7</td>\n",
       "      <td>4</td>\n",
       "      <td>13</td>\n",
       "      <td>14</td>\n",
       "      <td>5</td>\n",
       "      <td>1</td>\n",
       "      <td>0</td>\n",
       "      <td>364</td>\n",
       "      <td>1</td>\n",
       "      <td>0</td>\n",
       "    </tr>\n",
       "    <tr>\n",
       "      <th>3</th>\n",
       "      <td>41</td>\n",
       "      <td>1</td>\n",
       "      <td>7</td>\n",
       "      <td>26</td>\n",
       "      <td>41</td>\n",
       "      <td>199</td>\n",
       "      <td>17</td>\n",
       "      <td>1</td>\n",
       "      <td>0</td>\n",
       "      <td>358</td>\n",
       "      <td>1</td>\n",
       "      <td>0</td>\n",
       "    </tr>\n",
       "    <tr>\n",
       "      <th>4</th>\n",
       "      <td>39</td>\n",
       "      <td>2</td>\n",
       "      <td>7</td>\n",
       "      <td>24</td>\n",
       "      <td>41</td>\n",
       "      <td>165</td>\n",
       "      <td>71</td>\n",
       "      <td>1</td>\n",
       "      <td>0</td>\n",
       "      <td>364</td>\n",
       "      <td>1</td>\n",
       "      <td>0</td>\n",
       "    </tr>\n",
       "    <tr>\n",
       "      <th>...</th>\n",
       "      <td>...</td>\n",
       "      <td>...</td>\n",
       "      <td>...</td>\n",
       "      <td>...</td>\n",
       "      <td>...</td>\n",
       "      <td>...</td>\n",
       "      <td>...</td>\n",
       "      <td>...</td>\n",
       "      <td>...</td>\n",
       "      <td>...</td>\n",
       "      <td>...</td>\n",
       "      <td>...</td>\n",
       "    </tr>\n",
       "    <tr>\n",
       "      <th>2662</th>\n",
       "      <td>59</td>\n",
       "      <td>1</td>\n",
       "      <td>1</td>\n",
       "      <td>4</td>\n",
       "      <td>41</td>\n",
       "      <td>122</td>\n",
       "      <td>17</td>\n",
       "      <td>1</td>\n",
       "      <td>0</td>\n",
       "      <td>364</td>\n",
       "      <td>1</td>\n",
       "      <td>0</td>\n",
       "    </tr>\n",
       "    <tr>\n",
       "      <th>2663</th>\n",
       "      <td>70</td>\n",
       "      <td>1</td>\n",
       "      <td>1</td>\n",
       "      <td>4</td>\n",
       "      <td>23</td>\n",
       "      <td>64</td>\n",
       "      <td>29</td>\n",
       "      <td>1</td>\n",
       "      <td>0</td>\n",
       "      <td>364</td>\n",
       "      <td>1</td>\n",
       "      <td>0</td>\n",
       "    </tr>\n",
       "    <tr>\n",
       "      <th>2664</th>\n",
       "      <td>33</td>\n",
       "      <td>1</td>\n",
       "      <td>7</td>\n",
       "      <td>0</td>\n",
       "      <td>41</td>\n",
       "      <td>176</td>\n",
       "      <td>81</td>\n",
       "      <td>1</td>\n",
       "      <td>0</td>\n",
       "      <td>364</td>\n",
       "      <td>1</td>\n",
       "      <td>0</td>\n",
       "    </tr>\n",
       "    <tr>\n",
       "      <th>2665</th>\n",
       "      <td>31</td>\n",
       "      <td>1</td>\n",
       "      <td>7</td>\n",
       "      <td>10</td>\n",
       "      <td>14</td>\n",
       "      <td>119</td>\n",
       "      <td>54</td>\n",
       "      <td>1</td>\n",
       "      <td>0</td>\n",
       "      <td>364</td>\n",
       "      <td>0</td>\n",
       "      <td>0</td>\n",
       "    </tr>\n",
       "    <tr>\n",
       "      <th>2666</th>\n",
       "      <td>46</td>\n",
       "      <td>2</td>\n",
       "      <td>1</td>\n",
       "      <td>4</td>\n",
       "      <td>21</td>\n",
       "      <td>119</td>\n",
       "      <td>54</td>\n",
       "      <td>1</td>\n",
       "      <td>0</td>\n",
       "      <td>364</td>\n",
       "      <td>0</td>\n",
       "      <td>0</td>\n",
       "    </tr>\n",
       "  </tbody>\n",
       "</table>\n",
       "<p>2667 rows × 12 columns</p>\n",
       "</div>"
      ],
      "text/plain": [
       "      Age  No_Pol  Car_Category  Subject_Car_Colour  Subject_Car_Make  \\\n",
       "0      71       2             1                   4                34   \n",
       "1      30       1             7                  18                41   \n",
       "2      40       2             7                   4                13   \n",
       "3      41       1             7                  26                41   \n",
       "4      39       2             7                  24                41   \n",
       "...   ...     ...           ...                 ...               ...   \n",
       "2662   59       1             1                   4                41   \n",
       "2663   70       1             1                   4                23   \n",
       "2664   33       1             7                   0                41   \n",
       "2665   31       1             7                  10                14   \n",
       "2666   46       2             1                   4                21   \n",
       "\n",
       "      LGA_Name  State  ProductName  target  days  Male  others  \n",
       "0           39     17            1       0   364     0       0  \n",
       "1           86     54            1       1   364     1       0  \n",
       "2           14      5            1       0   364     1       0  \n",
       "3          199     17            1       0   358     1       0  \n",
       "4          165     71            1       0   364     1       0  \n",
       "...        ...    ...          ...     ...   ...   ...     ...  \n",
       "2662       122     17            1       0   364     1       0  \n",
       "2663        64     29            1       0   364     1       0  \n",
       "2664       176     81            1       0   364     1       0  \n",
       "2665       119     54            1       0   364     0       0  \n",
       "2666       119     54            1       0   364     0       0  \n",
       "\n",
       "[2667 rows x 12 columns]"
      ]
     },
     "execution_count": 401,
     "metadata": {},
     "output_type": "execute_result"
    }
   ],
   "source": [
    "df1"
   ]
  },
  {
   "cell_type": "code",
   "execution_count": 403,
   "id": "d62d32e8",
   "metadata": {},
   "outputs": [],
   "source": [
    "import scipy.stats as st\n",
    "\n",
    "iqr = st.iqr(df1['Age'])\n",
    "q1 = df1['Age'].quantile(0.25)\n",
    "q3 = df1['Age'].quantile(0.75)\n",
    "\n",
    "ll = q1 - (3*(iqr))\n",
    "ul = q3 + (3*iqr)\n",
    "\n",
    "model1 = df1[(df1['Age']>ll)&(df1['Age']<ul)]"
   ]
  },
  {
   "cell_type": "code",
   "execution_count": 404,
   "id": "6a4e2aeb",
   "metadata": {},
   "outputs": [
    {
     "data": {
      "text/plain": [
       "(2611, 12)"
      ]
     },
     "execution_count": 404,
     "metadata": {},
     "output_type": "execute_result"
    }
   ],
   "source": [
    "model1.isnull()"
   ]
  },
  {
   "cell_type": "code",
   "execution_count": 407,
   "id": "30fd0841",
   "metadata": {},
   "outputs": [],
   "source": [
    "x = model1.drop('target',axis=1)\n",
    "y = model1['target']"
   ]
  },
  {
   "cell_type": "code",
   "execution_count": 408,
   "id": "595b4080",
   "metadata": {},
   "outputs": [],
   "source": [
    "from sklearn.neighbors import KNeighborsClassifier"
   ]
  },
  {
   "cell_type": "code",
   "execution_count": 417,
   "id": "59af1df0",
   "metadata": {},
   "outputs": [],
   "source": [
    "sfs = SequentialFeatureSelector(estimator=XGBClassifier(),forward=False,cv=3,k_features='best',n_jobs=-1)"
   ]
  },
  {
   "cell_type": "code",
   "execution_count": 418,
   "id": "cabb96cb",
   "metadata": {},
   "outputs": [
    {
     "name": "stdout",
     "output_type": "stream",
     "text": [
      "[10:56:49] WARNING: C:/Users/Administrator/workspace/xgboost-win64_release_1.4.0/src/learner.cc:1095: Starting in XGBoost 1.3.0, the default evaluation metric used with the objective 'binary:logistic' was changed from 'error' to 'logloss'. Explicitly set eval_metric if you'd like to restore the old behavior.\n",
      "[10:56:50] WARNING: C:/Users/Administrator/workspace/xgboost-win64_release_1.4.0/src/learner.cc:1095: Starting in XGBoost 1.3.0, the default evaluation metric used with the objective 'binary:logistic' was changed from 'error' to 'logloss'. Explicitly set eval_metric if you'd like to restore the old behavior.\n",
      "[10:56:50] WARNING: C:/Users/Administrator/workspace/xgboost-win64_release_1.4.0/src/learner.cc:1095: Starting in XGBoost 1.3.0, the default evaluation metric used with the objective 'binary:logistic' was changed from 'error' to 'logloss'. Explicitly set eval_metric if you'd like to restore the old behavior.\n"
     ]
    },
    {
     "data": {
      "text/plain": [
       "SequentialFeatureSelector(cv=3,\n",
       "                          estimator=XGBClassifier(base_score=None, booster=None,\n",
       "                                                  colsample_bylevel=None,\n",
       "                                                  colsample_bynode=None,\n",
       "                                                  colsample_bytree=None,\n",
       "                                                  gamma=None, gpu_id=None,\n",
       "                                                  importance_type='gain',\n",
       "                                                  interaction_constraints=None,\n",
       "                                                  learning_rate=None,\n",
       "                                                  max_delta_step=None,\n",
       "                                                  max_depth=None,\n",
       "                                                  min_child_weight=None,\n",
       "                                                  missing=nan,\n",
       "                                                  monotone_constraints=None,\n",
       "                                                  n_estimators=100, n_jobs=None,\n",
       "                                                  num_parallel_tree=None,\n",
       "                                                  random_state=None,\n",
       "                                                  reg_alpha=None,\n",
       "                                                  reg_lambda=None,\n",
       "                                                  scale_pos_weight=None,\n",
       "                                                  subsample=None,\n",
       "                                                  tree_method=None,\n",
       "                                                  validate_parameters=None,\n",
       "                                                  verbosity=None),\n",
       "                          forward=False, k_features='best', n_jobs=-1)"
      ]
     },
     "execution_count": 418,
     "metadata": {},
     "output_type": "execute_result"
    }
   ],
   "source": [
    "sfs.fit(x,y)"
   ]
  },
  {
   "cell_type": "code",
   "execution_count": 419,
   "id": "afb60fa1",
   "metadata": {},
   "outputs": [
    {
     "data": {
      "text/plain": [
       "('No_Pol', 'Car_Category', 'others')"
      ]
     },
     "execution_count": 419,
     "metadata": {},
     "output_type": "execute_result"
    }
   ],
   "source": [
    "sfs.k_feature_names_"
   ]
  },
  {
   "cell_type": "code",
   "execution_count": 420,
   "id": "171685be",
   "metadata": {},
   "outputs": [],
   "source": [
    "df2 = pd.read_csv('Test.csv')"
   ]
  },
  {
   "cell_type": "code",
   "execution_count": 422,
   "id": "cfcd6b1b",
   "metadata": {},
   "outputs": [],
   "source": [
    "df2['Gender'] = df2['Gender'].map(gender)"
   ]
  },
  {
   "cell_type": "code",
   "execution_count": 423,
   "id": "40575927",
   "metadata": {},
   "outputs": [],
   "source": [
    "dum = pd.get_dummies(df2['Gender'],drop_first=True)"
   ]
  },
  {
   "cell_type": "code",
   "execution_count": 425,
   "id": "adc9ba3d",
   "metadata": {},
   "outputs": [],
   "source": [
    "df2 = df2.join(dum)"
   ]
  },
  {
   "cell_type": "code",
   "execution_count": 436,
   "id": "38c29f45",
   "metadata": {},
   "outputs": [],
   "source": [
    "xtest = df2[['No_Pol', 'Car_Category', 'others']]"
   ]
  },
  {
   "cell_type": "code",
   "execution_count": 427,
   "id": "24a4f3f8",
   "metadata": {},
   "outputs": [],
   "source": [
    "xtrain = model1[['No_Pol', 'Car_Category', 'others']]"
   ]
  },
  {
   "cell_type": "code",
   "execution_count": 428,
   "id": "cc1cbb8e",
   "metadata": {},
   "outputs": [],
   "source": [
    "ytrain = model1['target']"
   ]
  },
  {
   "cell_type": "code",
   "execution_count": 429,
   "id": "1adbc782",
   "metadata": {},
   "outputs": [
    {
     "name": "stdout",
     "output_type": "stream",
     "text": [
      "[11:01:02] WARNING: C:/Users/Administrator/workspace/xgboost-win64_release_1.4.0/src/learner.cc:1095: Starting in XGBoost 1.3.0, the default evaluation metric used with the objective 'binary:logistic' was changed from 'error' to 'logloss'. Explicitly set eval_metric if you'd like to restore the old behavior.\n"
     ]
    },
    {
     "data": {
      "text/plain": [
       "XGBClassifier(base_score=0.5, booster='gbtree', colsample_bylevel=1,\n",
       "              colsample_bynode=1, colsample_bytree=1, gamma=0, gpu_id=-1,\n",
       "              importance_type='gain', interaction_constraints='',\n",
       "              learning_rate=0.300000012, max_delta_step=0, max_depth=6,\n",
       "              min_child_weight=1, missing=nan, monotone_constraints='()',\n",
       "              n_estimators=100, n_jobs=4, num_parallel_tree=1, random_state=0,\n",
       "              reg_alpha=0, reg_lambda=1, scale_pos_weight=1, subsample=1,\n",
       "              tree_method='exact', validate_parameters=1, verbosity=None)"
      ]
     },
     "execution_count": 429,
     "metadata": {},
     "output_type": "execute_result"
    }
   ],
   "source": [
    "xgb = XGBClassifier()\n",
    "xgb.fit(xtrain,ytrain)"
   ]
  },
  {
   "cell_type": "code",
   "execution_count": 451,
   "id": "e2a7e427",
   "metadata": {},
   "outputs": [],
   "source": [
    "ypredict = xgb.predict(xtest)"
   ]
  },
  {
   "cell_type": "code",
   "execution_count": 449,
   "id": "50315b96",
   "metadata": {},
   "outputs": [
    {
     "data": {
      "text/plain": [
       "No_Pol          0\n",
       "Car_Category    0\n",
       "others          0\n",
       "dtype: int64"
      ]
     },
     "execution_count": 449,
     "metadata": {},
     "output_type": "execute_result"
    }
   ],
   "source": [
    "xtest.isnull().sum()"
   ]
  },
  {
   "cell_type": "code",
   "execution_count": null,
   "id": "3aa1af94",
   "metadata": {},
   "outputs": [],
   "source": []
  },
  {
   "cell_type": "code",
   "execution_count": 448,
   "id": "fb8b6ac9",
   "metadata": {},
   "outputs": [],
   "source": [
    "xtest['Car_Category'].fillna(value='Saloon',inplace=True)"
   ]
  },
  {
   "cell_type": "code",
   "execution_count": 450,
   "id": "c29eb910",
   "metadata": {},
   "outputs": [],
   "source": [
    "xtest['Car_Category'] = l1_car_cat.transform(xtest['Car_Category'])"
   ]
  },
  {
   "cell_type": "code",
   "execution_count": 438,
   "id": "8b922905",
   "metadata": {},
   "outputs": [],
   "source": [
    "df5 = pd.read_csv('Train.csv')"
   ]
  },
  {
   "cell_type": "code",
   "execution_count": 440,
   "id": "708052e4",
   "metadata": {},
   "outputs": [],
   "source": [
    "df5.dropna(axis=0,inplace=True)"
   ]
  },
  {
   "cell_type": "code",
   "execution_count": 443,
   "id": "b25047dc",
   "metadata": {},
   "outputs": [
    {
     "data": {
      "text/plain": [
       "0    Saloon\n",
       "dtype: object"
      ]
     },
     "execution_count": 443,
     "metadata": {},
     "output_type": "execute_result"
    }
   ],
   "source": [
    "df5['Car_Category'].mode()"
   ]
  },
  {
   "cell_type": "code",
   "execution_count": 457,
   "id": "22a95d68",
   "metadata": {},
   "outputs": [],
   "source": [
    "r = pd.DataFrame(df2['ID'],columns=['ID'])"
   ]
  },
  {
   "cell_type": "code",
   "execution_count": 458,
   "id": "de905185",
   "metadata": {},
   "outputs": [],
   "source": [
    "r['target'] = ypredict"
   ]
  },
  {
   "cell_type": "code",
   "execution_count": 460,
   "id": "87577964",
   "metadata": {},
   "outputs": [],
   "source": [
    "r.to_csv('koushik243.csv')"
   ]
  },
  {
   "cell_type": "code",
   "execution_count": null,
   "id": "aefd1dac",
   "metadata": {},
   "outputs": [],
   "source": []
  }
 ],
 "metadata": {
  "kernelspec": {
   "display_name": "Python 3",
   "language": "python",
   "name": "python3"
  },
  "language_info": {
   "codemirror_mode": {
    "name": "ipython",
    "version": 3
   },
   "file_extension": ".py",
   "mimetype": "text/x-python",
   "name": "python",
   "nbconvert_exporter": "python",
   "pygments_lexer": "ipython3",
   "version": "3.8.5"
  }
 },
 "nbformat": 4,
 "nbformat_minor": 5
}
