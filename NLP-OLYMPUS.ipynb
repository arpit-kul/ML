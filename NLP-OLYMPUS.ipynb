{
 "cells": [
  {
   "cell_type": "code",
   "execution_count": 2,
   "metadata": {},
   "outputs": [],
   "source": [
    "import pandas as pd\n",
    "import numpy as np\n",
    "import matplotlib.pyplot as plt\n",
    "import seaborn as sns\n",
    "%matplotlib inline\n",
    "from sklearn.neighbors import KNeighborsClassifier"
   ]
  },
  {
   "cell_type": "code",
   "execution_count": 3,
   "metadata": {},
   "outputs": [],
   "source": [
    "sampleTrain=['i will call you tonight','please help me....','Please call a cab please!']"
   ]
  },
  {
   "cell_type": "code",
   "execution_count": 4,
   "metadata": {},
   "outputs": [],
   "source": [
    "y=[0,1,0]  #taking ham statemet as 0 and spam statement as 1"
   ]
  },
  {
   "cell_type": "code",
   "execution_count": 5,
   "metadata": {},
   "outputs": [],
   "source": [
    "from sklearn.feature_extraction.text import CountVectorizer\n",
    "tonumeric=CountVectorizer()                #it helps convert text into numeric by creating vocabulary"
   ]
  },
  {
   "cell_type": "code",
   "execution_count": 6,
   "metadata": {},
   "outputs": [
    {
     "data": {
      "text/plain": [
       "CountVectorizer()"
      ]
     },
     "execution_count": 6,
     "metadata": {},
     "output_type": "execute_result"
    }
   ],
   "source": [
    "tonumeric.fit(sampleTrain)"
   ]
  },
  {
   "cell_type": "code",
   "execution_count": 8,
   "metadata": {},
   "outputs": [
    {
     "data": {
      "text/plain": [
       "['cab', 'call', 'help', 'me', 'please', 'tonight', 'will', 'you']"
      ]
     },
     "execution_count": 8,
     "metadata": {},
     "output_type": "execute_result"
    }
   ],
   "source": [
    "tonumeric.get_feature_names()"
   ]
  },
  {
   "cell_type": "code",
   "execution_count": 10,
   "metadata": {},
   "outputs": [
    {
     "data": {
      "text/plain": [
       "<3x8 sparse matrix of type '<class 'numpy.int64'>'\n",
       "\twith 10 stored elements in Compressed Sparse Row format>"
      ]
     },
     "execution_count": 10,
     "metadata": {},
     "output_type": "execute_result"
    }
   ],
   "source": [
    "sampleTrain_dtm=tonumeric.transform(sampleTrain)\n",
    "sampleTrain_dtm   #it is creating a sparse metrix which we cannt read,so we convert it into dense matrix"
   ]
  },
  {
   "cell_type": "code",
   "execution_count": 11,
   "metadata": {},
   "outputs": [
    {
     "data": {
      "text/plain": [
       "array([[0, 1, 0, 0, 0, 1, 1, 1],\n",
       "       [0, 0, 1, 1, 1, 0, 0, 0],\n",
       "       [1, 1, 0, 0, 2, 0, 0, 0]], dtype=int64)"
      ]
     },
     "execution_count": 11,
     "metadata": {},
     "output_type": "execute_result"
    }
   ],
   "source": [
    "sampleTrain_dtm.toarray()  #converting into dense array"
   ]
  },
  {
   "cell_type": "code",
   "execution_count": 12,
   "metadata": {},
   "outputs": [
    {
     "data": {
      "text/html": [
       "<div>\n",
       "<style scoped>\n",
       "    .dataframe tbody tr th:only-of-type {\n",
       "        vertical-align: middle;\n",
       "    }\n",
       "\n",
       "    .dataframe tbody tr th {\n",
       "        vertical-align: top;\n",
       "    }\n",
       "\n",
       "    .dataframe thead th {\n",
       "        text-align: right;\n",
       "    }\n",
       "</style>\n",
       "<table border=\"1\" class=\"dataframe\">\n",
       "  <thead>\n",
       "    <tr style=\"text-align: right;\">\n",
       "      <th></th>\n",
       "      <th>cab</th>\n",
       "      <th>call</th>\n",
       "      <th>help</th>\n",
       "      <th>me</th>\n",
       "      <th>please</th>\n",
       "      <th>tonight</th>\n",
       "      <th>will</th>\n",
       "      <th>you</th>\n",
       "    </tr>\n",
       "  </thead>\n",
       "  <tbody>\n",
       "    <tr>\n",
       "      <th>0</th>\n",
       "      <td>0</td>\n",
       "      <td>1</td>\n",
       "      <td>0</td>\n",
       "      <td>0</td>\n",
       "      <td>0</td>\n",
       "      <td>1</td>\n",
       "      <td>1</td>\n",
       "      <td>1</td>\n",
       "    </tr>\n",
       "    <tr>\n",
       "      <th>1</th>\n",
       "      <td>0</td>\n",
       "      <td>0</td>\n",
       "      <td>1</td>\n",
       "      <td>1</td>\n",
       "      <td>1</td>\n",
       "      <td>0</td>\n",
       "      <td>0</td>\n",
       "      <td>0</td>\n",
       "    </tr>\n",
       "    <tr>\n",
       "      <th>2</th>\n",
       "      <td>1</td>\n",
       "      <td>1</td>\n",
       "      <td>0</td>\n",
       "      <td>0</td>\n",
       "      <td>2</td>\n",
       "      <td>0</td>\n",
       "      <td>0</td>\n",
       "      <td>0</td>\n",
       "    </tr>\n",
       "  </tbody>\n",
       "</table>\n",
       "</div>"
      ],
      "text/plain": [
       "   cab  call  help  me  please  tonight  will  you\n",
       "0    0     1     0   0       0        1     1    1\n",
       "1    0     0     1   1       1        0     0    0\n",
       "2    1     1     0   0       2        0     0    0"
      ]
     },
     "execution_count": 12,
     "metadata": {},
     "output_type": "execute_result"
    }
   ],
   "source": [
    "pd.DataFrame(sampleTrain_dtm.toarray(),columns=tonumeric.get_feature_names())"
   ]
  },
  {
   "cell_type": "code",
   "execution_count": null,
   "metadata": {},
   "outputs": [],
   "source": [
    "#build a model to predict the target"
   ]
  },
  {
   "cell_type": "code",
   "execution_count": 13,
   "metadata": {},
   "outputs": [
    {
     "data": {
      "text/plain": [
       "KNeighborsClassifier(n_neighbors=1)"
      ]
     },
     "execution_count": 13,
     "metadata": {},
     "output_type": "execute_result"
    }
   ],
   "source": [
    "knn=KNeighborsClassifier(n_neighbors=1)\n",
    "knn.fit(sampleTrain_dtm,y)"
   ]
  },
  {
   "cell_type": "code",
   "execution_count": 20,
   "metadata": {},
   "outputs": [],
   "source": [
    "#test text for model validation\n",
    "sampleTest=[\"Don't call please\"]"
   ]
  },
  {
   "cell_type": "code",
   "execution_count": 21,
   "metadata": {},
   "outputs": [
    {
     "data": {
      "text/plain": [
       "array([[0, 1, 0, 0, 1, 0, 0, 0]], dtype=int64)"
      ]
     },
     "execution_count": 21,
     "metadata": {},
     "output_type": "execute_result"
    }
   ],
   "source": [
    "#to check first transfrom in dtm\n",
    "sampleTest_dtm=tonumeric.transform(sampleTest)\n",
    "sampleTest_dtm.toarray()"
   ]
  },
  {
   "cell_type": "code",
   "execution_count": 22,
   "metadata": {},
   "outputs": [
    {
     "data": {
      "text/plain": [
       "['cab', 'call', 'help', 'me', 'please', 'tonight', 'will', 'you']"
      ]
     },
     "execution_count": 22,
     "metadata": {},
     "output_type": "execute_result"
    }
   ],
   "source": [
    "tonumeric.get_feature_names()"
   ]
  },
  {
   "cell_type": "code",
   "execution_count": 23,
   "metadata": {},
   "outputs": [
    {
     "data": {
      "text/plain": [
       "array([0])"
      ]
     },
     "execution_count": 23,
     "metadata": {},
     "output_type": "execute_result"
    }
   ],
   "source": [
    "knn.predict(sampleTest_dtm)"
   ]
  },
  {
   "cell_type": "code",
   "execution_count": null,
   "metadata": {},
   "outputs": [],
   "source": [
    "#sms data set"
   ]
  },
  {
   "cell_type": "code",
   "execution_count": 24,
   "metadata": {
    "scrolled": true
   },
   "outputs": [
    {
     "data": {
      "text/html": [
       "<div>\n",
       "<style scoped>\n",
       "    .dataframe tbody tr th:only-of-type {\n",
       "        vertical-align: middle;\n",
       "    }\n",
       "\n",
       "    .dataframe tbody tr th {\n",
       "        vertical-align: top;\n",
       "    }\n",
       "\n",
       "    .dataframe thead th {\n",
       "        text-align: right;\n",
       "    }\n",
       "</style>\n",
       "<table border=\"1\" class=\"dataframe\">\n",
       "  <thead>\n",
       "    <tr style=\"text-align: right;\">\n",
       "      <th></th>\n",
       "      <th>label</th>\n",
       "      <th>message</th>\n",
       "    </tr>\n",
       "  </thead>\n",
       "  <tbody>\n",
       "    <tr>\n",
       "      <th>0</th>\n",
       "      <td>ham</td>\n",
       "      <td>Go until jurong point, crazy.. Available only ...</td>\n",
       "    </tr>\n",
       "    <tr>\n",
       "      <th>1</th>\n",
       "      <td>ham</td>\n",
       "      <td>Ok lar... Joking wif u oni...</td>\n",
       "    </tr>\n",
       "    <tr>\n",
       "      <th>2</th>\n",
       "      <td>spam</td>\n",
       "      <td>Free entry in 2 a wkly comp to win FA Cup fina...</td>\n",
       "    </tr>\n",
       "    <tr>\n",
       "      <th>3</th>\n",
       "      <td>ham</td>\n",
       "      <td>U dun say so early hor... U c already then say...</td>\n",
       "    </tr>\n",
       "    <tr>\n",
       "      <th>4</th>\n",
       "      <td>ham</td>\n",
       "      <td>Nah I don't think he goes to usf, he lives aro...</td>\n",
       "    </tr>\n",
       "  </tbody>\n",
       "</table>\n",
       "</div>"
      ],
      "text/plain": [
       "  label                                            message\n",
       "0   ham  Go until jurong point, crazy.. Available only ...\n",
       "1   ham                      Ok lar... Joking wif u oni...\n",
       "2  spam  Free entry in 2 a wkly comp to win FA Cup fina...\n",
       "3   ham  U dun say so early hor... U c already then say...\n",
       "4   ham  Nah I don't think he goes to usf, he lives aro..."
      ]
     },
     "execution_count": 24,
     "metadata": {},
     "output_type": "execute_result"
    }
   ],
   "source": [
    "df=pd.read_table('C:\\\\Users\\\\This PC\\\\Downloads\\\\NLP_Artifacts\\\\NLP_Artifacts\\\\sms.tsv',header=None,names=['label','message'])\n",
    "df.head()"
   ]
  },
  {
   "cell_type": "code",
   "execution_count": 26,
   "metadata": {},
   "outputs": [
    {
     "data": {
      "text/plain": [
       "(5572, 2)"
      ]
     },
     "execution_count": 26,
     "metadata": {},
     "output_type": "execute_result"
    }
   ],
   "source": [
    "df.shape"
   ]
  },
  {
   "cell_type": "code",
   "execution_count": 28,
   "metadata": {},
   "outputs": [],
   "source": [
    "#label is categorical we need to convert into numerical\n",
    "df['label_num']=df.label.map({'ham':0,'spam':1})"
   ]
  },
  {
   "cell_type": "code",
   "execution_count": 29,
   "metadata": {},
   "outputs": [
    {
     "data": {
      "text/html": [
       "<div>\n",
       "<style scoped>\n",
       "    .dataframe tbody tr th:only-of-type {\n",
       "        vertical-align: middle;\n",
       "    }\n",
       "\n",
       "    .dataframe tbody tr th {\n",
       "        vertical-align: top;\n",
       "    }\n",
       "\n",
       "    .dataframe thead th {\n",
       "        text-align: right;\n",
       "    }\n",
       "</style>\n",
       "<table border=\"1\" class=\"dataframe\">\n",
       "  <thead>\n",
       "    <tr style=\"text-align: right;\">\n",
       "      <th></th>\n",
       "      <th>label</th>\n",
       "      <th>message</th>\n",
       "      <th>label_num</th>\n",
       "    </tr>\n",
       "  </thead>\n",
       "  <tbody>\n",
       "    <tr>\n",
       "      <th>0</th>\n",
       "      <td>ham</td>\n",
       "      <td>Go until jurong point, crazy.. Available only ...</td>\n",
       "      <td>0</td>\n",
       "    </tr>\n",
       "    <tr>\n",
       "      <th>1</th>\n",
       "      <td>ham</td>\n",
       "      <td>Ok lar... Joking wif u oni...</td>\n",
       "      <td>0</td>\n",
       "    </tr>\n",
       "    <tr>\n",
       "      <th>2</th>\n",
       "      <td>spam</td>\n",
       "      <td>Free entry in 2 a wkly comp to win FA Cup fina...</td>\n",
       "      <td>1</td>\n",
       "    </tr>\n",
       "    <tr>\n",
       "      <th>3</th>\n",
       "      <td>ham</td>\n",
       "      <td>U dun say so early hor... U c already then say...</td>\n",
       "      <td>0</td>\n",
       "    </tr>\n",
       "    <tr>\n",
       "      <th>4</th>\n",
       "      <td>ham</td>\n",
       "      <td>Nah I don't think he goes to usf, he lives aro...</td>\n",
       "      <td>0</td>\n",
       "    </tr>\n",
       "  </tbody>\n",
       "</table>\n",
       "</div>"
      ],
      "text/plain": [
       "  label                                            message  label_num\n",
       "0   ham  Go until jurong point, crazy.. Available only ...          0\n",
       "1   ham                      Ok lar... Joking wif u oni...          0\n",
       "2  spam  Free entry in 2 a wkly comp to win FA Cup fina...          1\n",
       "3   ham  U dun say so early hor... U c already then say...          0\n",
       "4   ham  Nah I don't think he goes to usf, he lives aro...          0"
      ]
     },
     "execution_count": 29,
     "metadata": {},
     "output_type": "execute_result"
    }
   ],
   "source": [
    "df.head()"
   ]
  },
  {
   "cell_type": "code",
   "execution_count": 31,
   "metadata": {},
   "outputs": [
    {
     "data": {
      "text/plain": [
       "ham     4825\n",
       "spam     747\n",
       "Name: label, dtype: int64"
      ]
     },
     "execution_count": 31,
     "metadata": {},
     "output_type": "execute_result"
    }
   ],
   "source": [
    "df.label.value_counts()"
   ]
  },
  {
   "cell_type": "code",
   "execution_count": 32,
   "metadata": {},
   "outputs": [
    {
     "name": "stdout",
     "output_type": "stream",
     "text": [
      "(5572,)\n",
      "(5572,)\n"
     ]
    }
   ],
   "source": [
    "X=df.message\n",
    "y=df.label_num\n",
    "print(X.shape)\n",
    "print(y.shape)"
   ]
  },
  {
   "cell_type": "code",
   "execution_count": 36,
   "metadata": {},
   "outputs": [],
   "source": [
    "from sklearn.model_selection import train_test_split\n",
    "xtrain,xtest,ytrain,ytest=train_test_split(X,y,random_state=4,train_size=0.75)"
   ]
  },
  {
   "cell_type": "code",
   "execution_count": 37,
   "metadata": {},
   "outputs": [
    {
     "data": {
      "text/plain": [
       "CountVectorizer()"
      ]
     },
     "execution_count": 37,
     "metadata": {},
     "output_type": "execute_result"
    }
   ],
   "source": [
    "tonumeric=CountVectorizer()\n",
    "tonumeric.fit(X)  #create vocabulary"
   ]
  },
  {
   "cell_type": "code",
   "execution_count": 41,
   "metadata": {},
   "outputs": [
    {
     "data": {
      "text/plain": [
       "<4179x8713 sparse matrix of type '<class 'numpy.int64'>'\n",
       "\twith 55347 stored elements in Compressed Sparse Row format>"
      ]
     },
     "execution_count": 41,
     "metadata": {},
     "output_type": "execute_result"
    }
   ],
   "source": [
    "X_train_dtm=tonumeric.transform(xtrain)\n",
    "X_train_dtm"
   ]
  },
  {
   "cell_type": "code",
   "execution_count": 47,
   "metadata": {},
   "outputs": [
    {
     "data": {
      "text/plain": [
       "['00',\n",
       " '000',\n",
       " '000pes',\n",
       " '008704050406',\n",
       " '0089',\n",
       " '0121',\n",
       " '01223585236',\n",
       " '01223585334',\n",
       " '0125698789',\n",
       " '02',\n",
       " '0207',\n",
       " '02072069400',\n",
       " '02073162414',\n",
       " '02085076972',\n",
       " '021',\n",
       " '03',\n",
       " '04',\n",
       " '0430',\n",
       " '05',\n",
       " '050703',\n",
       " '0578',\n",
       " '06',\n",
       " '07',\n",
       " '07008009200',\n",
       " '07046744435',\n",
       " '07090201529',\n",
       " '07090298926',\n",
       " '07099833605',\n",
       " '07123456789',\n",
       " '0721072',\n",
       " '07732584351',\n",
       " '07734396839',\n",
       " '07742676969',\n",
       " '07753741225',\n",
       " '0776xxxxxxx',\n",
       " '07781482378',\n",
       " '07786200117',\n",
       " '077xxx',\n",
       " '078',\n",
       " '07801543489',\n",
       " '07808',\n",
       " '07808247860',\n",
       " '07808726822',\n",
       " '07815296484',\n",
       " '07821230901',\n",
       " '078498',\n",
       " '07880867867',\n",
       " '0789xxxxxxx',\n",
       " '07946746291',\n",
       " '0796xxxxxx',\n",
       " '07973788240',\n",
       " '07xxxxxxxxx',\n",
       " '08',\n",
       " '0800',\n",
       " '08000407165',\n",
       " '08000776320',\n",
       " '08000839402',\n",
       " '08000930705',\n",
       " '08000938767',\n",
       " '08001950382',\n",
       " '08002888812',\n",
       " '08002986030',\n",
       " '08002986906',\n",
       " '08002988890',\n",
       " '08006344447',\n",
       " '0808',\n",
       " '08081263000',\n",
       " '08081560665',\n",
       " '0825',\n",
       " '083',\n",
       " '0844',\n",
       " '08448350055',\n",
       " '08448714184',\n",
       " '0845',\n",
       " '08450542832',\n",
       " '08452810071',\n",
       " '08452810073',\n",
       " '08452810075over18',\n",
       " '0870',\n",
       " '08700435505150p',\n",
       " '08700469649',\n",
       " '08700621170150p',\n",
       " '08701213186',\n",
       " '08701237397',\n",
       " '08701417012',\n",
       " '08701417012150p',\n",
       " '0870141701216',\n",
       " '087016248',\n",
       " '08701752560',\n",
       " '087018728737',\n",
       " '0870241182716',\n",
       " '08702490080',\n",
       " '08702840625',\n",
       " '08704050406',\n",
       " '08704439680',\n",
       " '08704439680ts',\n",
       " '08706091795',\n",
       " '0870737910216yrs',\n",
       " '08707500020',\n",
       " '08707509020',\n",
       " '0870753331018',\n",
       " '08707808226',\n",
       " '08708034412',\n",
       " '08708800282',\n",
       " '08709222922',\n",
       " '08709501522',\n",
       " '0871',\n",
       " '087104711148',\n",
       " '08712101358',\n",
       " '08712103738',\n",
       " '0871212025016',\n",
       " '08712300220',\n",
       " '087123002209am',\n",
       " '08712317606',\n",
       " '08712400200',\n",
       " '08712400602450p',\n",
       " '08712400603',\n",
       " '08712402050',\n",
       " '08712402578',\n",
       " '08712402779',\n",
       " '08712402902',\n",
       " '08712402972',\n",
       " '08712404000',\n",
       " '08712405020',\n",
       " '08712405022',\n",
       " '08712460324',\n",
       " '08712466669',\n",
       " '0871277810710p',\n",
       " '0871277810810',\n",
       " '0871277810910p',\n",
       " '08714342399',\n",
       " '087147123779am',\n",
       " '08714712379',\n",
       " '08714712388',\n",
       " '08714712394',\n",
       " '08714712412',\n",
       " '08714714011',\n",
       " '08715203028',\n",
       " '08715203649',\n",
       " '08715203652',\n",
       " '08715203656',\n",
       " '08715203677',\n",
       " '08715203685',\n",
       " '08715203694',\n",
       " '08715205273',\n",
       " '08715500022',\n",
       " '08715705022',\n",
       " '08717111821',\n",
       " '08717168528',\n",
       " '08717205546',\n",
       " '0871750',\n",
       " '08717507382',\n",
       " '08717509990',\n",
       " '08717890890',\n",
       " '08717895698',\n",
       " '08717898035',\n",
       " '08718711108',\n",
       " '08718720201',\n",
       " '08718723815',\n",
       " '08718725756',\n",
       " '08718726270',\n",
       " '087187262701',\n",
       " '08718726970',\n",
       " '08718726971',\n",
       " '08718726978',\n",
       " '087187272008',\n",
       " '08718727868',\n",
       " '08718727870',\n",
       " '08718727870150ppm',\n",
       " '08718730555',\n",
       " '08718730666',\n",
       " '08718738001',\n",
       " '08718738002',\n",
       " '08718738034',\n",
       " '08719180219',\n",
       " '08719180248',\n",
       " '08719181259',\n",
       " '08719181503',\n",
       " '08719181513',\n",
       " '08719839835',\n",
       " '08719899217',\n",
       " '08719899229',\n",
       " '08719899230',\n",
       " '09',\n",
       " '09041940223',\n",
       " '09050000301',\n",
       " '09050000332',\n",
       " '09050000460',\n",
       " '09050000555',\n",
       " '09050000878',\n",
       " '09050000928',\n",
       " '09050001295',\n",
       " '09050001808',\n",
       " '09050002311',\n",
       " '09050003091',\n",
       " '09050005321',\n",
       " '09050090044',\n",
       " '09050280520',\n",
       " '09053750005',\n",
       " '09056242159',\n",
       " '09057039994',\n",
       " '09058091854',\n",
       " '09058091870',\n",
       " '09058094454',\n",
       " '09058094455',\n",
       " '09058094507',\n",
       " '09058094565',\n",
       " '09058094583',\n",
       " '09058094594',\n",
       " '09058094597',\n",
       " '09058094599',\n",
       " '09058095107',\n",
       " '09058095201',\n",
       " '09058097189',\n",
       " '09058097218',\n",
       " '09058098002',\n",
       " '09058099801',\n",
       " '09061104276',\n",
       " '09061104283',\n",
       " '09061209465',\n",
       " '09061213237',\n",
       " '09061221061',\n",
       " '09061221066',\n",
       " '09061701444',\n",
       " '09061701461',\n",
       " '09061701851',\n",
       " '09061701939',\n",
       " '09061702893',\n",
       " '09061743386',\n",
       " '09061743806',\n",
       " '09061743810',\n",
       " '09061743811',\n",
       " '09061744553',\n",
       " '09061749602',\n",
       " '09061790121',\n",
       " '09061790125',\n",
       " '09061790126',\n",
       " '09063440451',\n",
       " '09063442151',\n",
       " '09063458130',\n",
       " '0906346330',\n",
       " '09064011000',\n",
       " '09064012103',\n",
       " '09064012160',\n",
       " '09064015307',\n",
       " '09064017295',\n",
       " '09064017305',\n",
       " '09064018838',\n",
       " '09064019014',\n",
       " '09064019788',\n",
       " '09065069120',\n",
       " '09065069154',\n",
       " '09065171142',\n",
       " '09065174042',\n",
       " '09065394514',\n",
       " '09065394973',\n",
       " '09065989180',\n",
       " '09065989182',\n",
       " '09066350750',\n",
       " '09066358152',\n",
       " '09066358361',\n",
       " '09066361921',\n",
       " '09066362206',\n",
       " '09066362220',\n",
       " '09066362231',\n",
       " '09066364311',\n",
       " '09066364349',\n",
       " '09066364589',\n",
       " '09066368327',\n",
       " '09066368470',\n",
       " '09066368753',\n",
       " '09066380611',\n",
       " '09066382422',\n",
       " '09066612661',\n",
       " '09066649731from',\n",
       " '09066660100',\n",
       " '09071512432',\n",
       " '09071512433',\n",
       " '09071517866',\n",
       " '09077818151',\n",
       " '09090204448',\n",
       " '09090900040',\n",
       " '09094100151',\n",
       " '09094646631',\n",
       " '09094646899',\n",
       " '09095350301',\n",
       " '09096102316',\n",
       " '09099725823',\n",
       " '09099726395',\n",
       " '09099726429',\n",
       " '09099726481',\n",
       " '09099726553',\n",
       " '09111030116',\n",
       " '09111032124',\n",
       " '09701213186',\n",
       " '0a',\n",
       " '0quit',\n",
       " '10',\n",
       " '100',\n",
       " '1000',\n",
       " '1000call',\n",
       " '1000s',\n",
       " '100p',\n",
       " '100percent',\n",
       " '100txt',\n",
       " '1013',\n",
       " '1030',\n",
       " '10am',\n",
       " '10k',\n",
       " '10p',\n",
       " '10ppm',\n",
       " '10th',\n",
       " '11',\n",
       " '1120',\n",
       " '113',\n",
       " '1131',\n",
       " '114',\n",
       " '1146',\n",
       " '116',\n",
       " '1172',\n",
       " '118p',\n",
       " '11mths',\n",
       " '11pm',\n",
       " '12',\n",
       " '1205',\n",
       " '120p',\n",
       " '121',\n",
       " '1225',\n",
       " '123',\n",
       " '125',\n",
       " '1250',\n",
       " '125gift',\n",
       " '128',\n",
       " '12hours',\n",
       " '12hrs',\n",
       " '12mths',\n",
       " '13',\n",
       " '130',\n",
       " '1327',\n",
       " '139',\n",
       " '14',\n",
       " '140',\n",
       " '1405',\n",
       " '140ppm',\n",
       " '145',\n",
       " '1450',\n",
       " '146tf150p',\n",
       " '14tcr',\n",
       " '14thmarch',\n",
       " '15',\n",
       " '150',\n",
       " '1500',\n",
       " '150p',\n",
       " '150p16',\n",
       " '150pm',\n",
       " '150ppermesssubscription',\n",
       " '150ppm',\n",
       " '150ppmpobox10183bhamb64xe',\n",
       " '150ppmsg',\n",
       " '150pw',\n",
       " '151',\n",
       " '153',\n",
       " '15541',\n",
       " '15pm',\n",
       " '16',\n",
       " '165',\n",
       " '1680',\n",
       " '169',\n",
       " '177',\n",
       " '18',\n",
       " '180',\n",
       " '1843',\n",
       " '18p',\n",
       " '18yrs',\n",
       " '195',\n",
       " '1956669',\n",
       " '1apple',\n",
       " '1b6a5ecef91ff9',\n",
       " '1cup',\n",
       " '1da',\n",
       " '1er',\n",
       " '1hr',\n",
       " '1im',\n",
       " '1lemon',\n",
       " '1mega',\n",
       " '1million',\n",
       " '1pm',\n",
       " '1st',\n",
       " '1st4terms',\n",
       " '1stchoice',\n",
       " '1stone',\n",
       " '1thing',\n",
       " '1tulsi',\n",
       " '1win150ppmx3',\n",
       " '1winaweek',\n",
       " '1winawk',\n",
       " '1x150p',\n",
       " '1yf',\n",
       " '20',\n",
       " '200',\n",
       " '2000',\n",
       " '2003',\n",
       " '2004',\n",
       " '2005',\n",
       " '2006',\n",
       " '2007',\n",
       " '200p',\n",
       " '2025050',\n",
       " '20m12aq',\n",
       " '20p',\n",
       " '21',\n",
       " '21870000',\n",
       " '21st',\n",
       " '22',\n",
       " '220',\n",
       " '220cm2',\n",
       " '2309',\n",
       " '23f',\n",
       " '23g',\n",
       " '24',\n",
       " '24hrs',\n",
       " '24m',\n",
       " '24th',\n",
       " '25',\n",
       " '250',\n",
       " '250k',\n",
       " '255',\n",
       " '25p',\n",
       " '26',\n",
       " '2667',\n",
       " '26th',\n",
       " '27',\n",
       " '28',\n",
       " '2814032',\n",
       " '28days',\n",
       " '28th',\n",
       " '28thfeb',\n",
       " '29',\n",
       " '2b',\n",
       " '2bold',\n",
       " '2c',\n",
       " '2channel',\n",
       " '2day',\n",
       " '2docd',\n",
       " '2end',\n",
       " '2exit',\n",
       " '2ez',\n",
       " '2find',\n",
       " '2getha',\n",
       " '2geva',\n",
       " '2go',\n",
       " '2gthr',\n",
       " '2hook',\n",
       " '2hrs',\n",
       " '2i',\n",
       " '2kbsubject',\n",
       " '2lands',\n",
       " '2marrow',\n",
       " '2moro',\n",
       " '2morow',\n",
       " '2morro',\n",
       " '2morrow',\n",
       " '2morrowxxxx',\n",
       " '2mro',\n",
       " '2mrw',\n",
       " '2mwen',\n",
       " '2nd',\n",
       " '2nhite',\n",
       " '2nights',\n",
       " '2nite',\n",
       " '2optout',\n",
       " '2p',\n",
       " '2price',\n",
       " '2px',\n",
       " '2rcv',\n",
       " '2stop',\n",
       " '2stoptx',\n",
       " '2stoptxt',\n",
       " '2u',\n",
       " '2u2',\n",
       " '2watershd',\n",
       " '2waxsto',\n",
       " '2wks',\n",
       " '2wt',\n",
       " '2wu',\n",
       " '2years',\n",
       " '2yr',\n",
       " '2yrs',\n",
       " '30',\n",
       " '300',\n",
       " '3000',\n",
       " '300603',\n",
       " '300603t',\n",
       " '300p',\n",
       " '3030',\n",
       " '30apr',\n",
       " '30ish',\n",
       " '30pm',\n",
       " '30pp',\n",
       " '30s',\n",
       " '30th',\n",
       " '31',\n",
       " '3100',\n",
       " '310303',\n",
       " '31p',\n",
       " '32',\n",
       " '32000',\n",
       " '3230',\n",
       " '32323',\n",
       " '326',\n",
       " '33',\n",
       " '330',\n",
       " '350',\n",
       " '3510i',\n",
       " '35p',\n",
       " '3650',\n",
       " '36504',\n",
       " '3680',\n",
       " '373',\n",
       " '3750',\n",
       " '37819',\n",
       " '38',\n",
       " '382',\n",
       " '391784',\n",
       " '3aj',\n",
       " '3d',\n",
       " '3days',\n",
       " '3g',\n",
       " '3gbp',\n",
       " '3hrs',\n",
       " '3lions',\n",
       " '3lp',\n",
       " '3miles',\n",
       " '3mins',\n",
       " '3mobile',\n",
       " '3optical',\n",
       " '3pound',\n",
       " '3qxj9',\n",
       " '3rd',\n",
       " '3ss',\n",
       " '3uz',\n",
       " '3wks',\n",
       " '3x',\n",
       " '3xx',\n",
       " '40',\n",
       " '400',\n",
       " '400mins',\n",
       " '400thousad',\n",
       " '402',\n",
       " '4041',\n",
       " '40411',\n",
       " '40533',\n",
       " '40gb',\n",
       " '40mph',\n",
       " '41685',\n",
       " '41782',\n",
       " '420',\n",
       " '42049',\n",
       " '4217',\n",
       " '42478',\n",
       " '42810',\n",
       " '430',\n",
       " '434',\n",
       " '44',\n",
       " '440',\n",
       " '4403ldnw1a7rw18',\n",
       " '44345',\n",
       " '447797706009',\n",
       " '447801259231',\n",
       " '448712404000',\n",
       " '449050000301',\n",
       " '449071512431',\n",
       " '45',\n",
       " '450',\n",
       " '450p',\n",
       " '450ppw',\n",
       " '450pw',\n",
       " '45239',\n",
       " '45pm',\n",
       " '47',\n",
       " '4719',\n",
       " '4742',\n",
       " '47per',\n",
       " '48',\n",
       " '4882',\n",
       " '48922',\n",
       " '49',\n",
       " '49557',\n",
       " '4a',\n",
       " '4brekkie',\n",
       " '4d',\n",
       " '4eva',\n",
       " '4few',\n",
       " '4fil',\n",
       " '4get',\n",
       " '4give',\n",
       " '4got',\n",
       " '4goten',\n",
       " '4info',\n",
       " '4jx',\n",
       " '4msgs',\n",
       " '4mths',\n",
       " '4my',\n",
       " '4qf2',\n",
       " '4t',\n",
       " '4th',\n",
       " '4the',\n",
       " '4thnov',\n",
       " '4txt',\n",
       " '4u',\n",
       " '4utxt',\n",
       " '4w',\n",
       " '4ward',\n",
       " '4wrd',\n",
       " '4xx26',\n",
       " '4years',\n",
       " '50',\n",
       " '500',\n",
       " '5000',\n",
       " '505060',\n",
       " '50award',\n",
       " '50ea',\n",
       " '50gbp',\n",
       " '50p',\n",
       " '50perweeksub',\n",
       " '50perwksub',\n",
       " '50pm',\n",
       " '50pmmorefrommobile2bremoved',\n",
       " '50ppm',\n",
       " '50rcvd',\n",
       " '50s',\n",
       " '515',\n",
       " '5226',\n",
       " '523',\n",
       " '5249',\n",
       " '526',\n",
       " '528',\n",
       " '530',\n",
       " '54',\n",
       " '542',\n",
       " '545',\n",
       " '5digital',\n",
       " '5free',\n",
       " '5ish',\n",
       " '5k',\n",
       " '5min',\n",
       " '5mls',\n",
       " '5p',\n",
       " '5pm',\n",
       " '5th',\n",
       " '5wb',\n",
       " '5we',\n",
       " '5wkg',\n",
       " '5wq',\n",
       " '5years',\n",
       " '60',\n",
       " '600',\n",
       " '6031',\n",
       " '6089',\n",
       " '60p',\n",
       " '61',\n",
       " '61200',\n",
       " '61610',\n",
       " '62220cncl',\n",
       " '6230',\n",
       " '62468',\n",
       " '62735',\n",
       " '630',\n",
       " '63miles',\n",
       " '645',\n",
       " '65',\n",
       " '650',\n",
       " '66',\n",
       " '6669',\n",
       " '674',\n",
       " '67441233',\n",
       " '68866',\n",
       " '69101',\n",
       " '69200',\n",
       " '69669',\n",
       " '69696',\n",
       " '69698',\n",
       " '69855',\n",
       " '69866',\n",
       " '69876',\n",
       " '69888',\n",
       " '69888nyt',\n",
       " '69911',\n",
       " '69969',\n",
       " '69988',\n",
       " '6days',\n",
       " '6hl',\n",
       " '6hrs',\n",
       " '6ish',\n",
       " '6missed',\n",
       " '6months',\n",
       " '6ph',\n",
       " '6pm',\n",
       " '6th',\n",
       " '6times',\n",
       " '6wu',\n",
       " '6zf',\n",
       " '700',\n",
       " '71',\n",
       " '7250',\n",
       " '7250i',\n",
       " '730',\n",
       " '731',\n",
       " '74355',\n",
       " '75',\n",
       " '750',\n",
       " '7548',\n",
       " '75max',\n",
       " '762',\n",
       " '7634',\n",
       " '7684',\n",
       " '77',\n",
       " '7732584351',\n",
       " '78',\n",
       " '786',\n",
       " '7876150ppm',\n",
       " '79',\n",
       " '7am',\n",
       " '7cfca1a',\n",
       " '7ish',\n",
       " '7mp',\n",
       " '7oz',\n",
       " '7pm',\n",
       " '7th',\n",
       " '7ws',\n",
       " '7zs',\n",
       " '80',\n",
       " '800',\n",
       " '8000930705',\n",
       " '80062',\n",
       " '8007',\n",
       " '80082',\n",
       " '80086',\n",
       " '80122300p',\n",
       " '80155',\n",
       " '80160',\n",
       " '80182',\n",
       " '8027',\n",
       " '80488',\n",
       " '80608',\n",
       " '8077',\n",
       " '80878',\n",
       " '81010',\n",
       " '81151',\n",
       " '81303',\n",
       " '81618',\n",
       " '82050',\n",
       " '820554ad0a1705572711',\n",
       " '82242',\n",
       " '82277',\n",
       " '82324',\n",
       " '82468',\n",
       " '83021',\n",
       " '83039',\n",
       " '83049',\n",
       " '83110',\n",
       " '83118',\n",
       " '83222',\n",
       " '83332',\n",
       " '83338',\n",
       " '83355',\n",
       " '83370',\n",
       " '83383',\n",
       " '83435',\n",
       " '83600',\n",
       " '83738',\n",
       " '84',\n",
       " '84025',\n",
       " '84122',\n",
       " '84128',\n",
       " '84199',\n",
       " '84484',\n",
       " '85',\n",
       " '850',\n",
       " '85023',\n",
       " '85069',\n",
       " '85222',\n",
       " '85233',\n",
       " '8552',\n",
       " '85555',\n",
       " '86021',\n",
       " '861',\n",
       " '864233',\n",
       " '86688',\n",
       " '86888',\n",
       " '87021',\n",
       " '87066',\n",
       " '87070',\n",
       " '87077',\n",
       " '87121',\n",
       " '87131',\n",
       " '8714714',\n",
       " '872',\n",
       " '87239',\n",
       " '87575',\n",
       " '8800',\n",
       " '88039',\n",
       " '88066',\n",
       " '88088',\n",
       " '88222',\n",
       " '88600',\n",
       " '88800',\n",
       " '8883',\n",
       " '88877',\n",
       " '88888',\n",
       " '89034',\n",
       " '89070',\n",
       " '89080',\n",
       " '89105',\n",
       " '89123',\n",
       " '89545',\n",
       " '89555',\n",
       " '89693',\n",
       " '89938',\n",
       " '8am',\n",
       " '8ball',\n",
       " '8lb',\n",
       " '8p',\n",
       " '8pm',\n",
       " '8th',\n",
       " '8wp',\n",
       " '900',\n",
       " '9061100010',\n",
       " '910',\n",
       " '9153',\n",
       " '9280114',\n",
       " '92h',\n",
       " '930',\n",
       " '9307622',\n",
       " '945',\n",
       " '946',\n",
       " '95',\n",
       " '9755',\n",
       " '9758',\n",
       " '97n7qp',\n",
       " '98321561',\n",
       " '99',\n",
       " '9996',\n",
       " '9ae',\n",
       " '9am',\n",
       " '9ja',\n",
       " '9pm',\n",
       " '9t',\n",
       " '9th',\n",
       " '9yt',\n",
       " '____',\n",
       " 'a21',\n",
       " 'a30',\n",
       " 'aa',\n",
       " 'aah',\n",
       " 'aaniye',\n",
       " 'aaooooright',\n",
       " 'aathi',\n",
       " 'ab',\n",
       " 'abbey',\n",
       " 'abdomen',\n",
       " 'abeg',\n",
       " 'abel',\n",
       " 'aberdeen',\n",
       " 'abi',\n",
       " 'ability',\n",
       " 'abiola',\n",
       " 'abj',\n",
       " 'able',\n",
       " 'abnormally',\n",
       " 'about',\n",
       " 'aboutas',\n",
       " 'above',\n",
       " 'abroad',\n",
       " 'absence',\n",
       " 'absolutely',\n",
       " 'absolutly',\n",
       " 'abstract',\n",
       " 'abt',\n",
       " 'abta',\n",
       " 'aburo',\n",
       " 'abuse',\n",
       " 'abusers',\n",
       " 'ac',\n",
       " 'academic',\n",
       " 'acc',\n",
       " 'accent',\n",
       " 'accenture',\n",
       " 'accept',\n",
       " 'access',\n",
       " 'accessible',\n",
       " 'accidant',\n",
       " 'accident',\n",
       " 'accidentally',\n",
       " 'accommodation',\n",
       " 'accommodationvouchers',\n",
       " 'accomodate',\n",
       " 'accomodations',\n",
       " 'accordin',\n",
       " 'accordingly',\n",
       " 'account',\n",
       " 'accounting',\n",
       " 'accounts',\n",
       " 'accumulation',\n",
       " 'achan',\n",
       " 'ache',\n",
       " 'achieve',\n",
       " 'acid',\n",
       " 'acknowledgement',\n",
       " 'acl03530150pm',\n",
       " 'acnt',\n",
       " 'aco',\n",
       " 'across',\n",
       " 'act',\n",
       " 'acted',\n",
       " 'actin',\n",
       " 'acting',\n",
       " 'action',\n",
       " 'activ8',\n",
       " 'activate',\n",
       " 'active',\n",
       " 'activities',\n",
       " 'actor',\n",
       " 'actual',\n",
       " 'actually',\n",
       " 'ad',\n",
       " 'adam',\n",
       " 'add',\n",
       " 'addamsfa',\n",
       " 'added',\n",
       " 'addicted',\n",
       " 'addie',\n",
       " 'adding',\n",
       " 'address',\n",
       " 'adds',\n",
       " 'adewale',\n",
       " 'adi',\n",
       " 'adjustable',\n",
       " 'admin',\n",
       " 'administrator',\n",
       " 'admirer',\n",
       " 'admission',\n",
       " 'admit',\n",
       " 'adore',\n",
       " 'adoring',\n",
       " 'adp',\n",
       " 'adress',\n",
       " 'adrian',\n",
       " 'adrink',\n",
       " 'ads',\n",
       " 'adsense',\n",
       " 'adult',\n",
       " 'adults',\n",
       " 'advance',\n",
       " 'adventure',\n",
       " 'adventuring',\n",
       " 'advice',\n",
       " 'advise',\n",
       " 'advising',\n",
       " 'advisors',\n",
       " 'aeronautics',\n",
       " 'aeroplane',\n",
       " 'afew',\n",
       " 'affair',\n",
       " 'affairs',\n",
       " 'affection',\n",
       " 'affectionate',\n",
       " 'affections',\n",
       " 'affidavit',\n",
       " 'afford',\n",
       " 'afghanistan',\n",
       " 'afraid',\n",
       " 'africa',\n",
       " 'african',\n",
       " 'aft',\n",
       " 'after',\n",
       " 'afternon',\n",
       " 'afternoon',\n",
       " 'afternoons',\n",
       " 'afterwards',\n",
       " 'aftr',\n",
       " 'ag',\n",
       " 'again',\n",
       " 'against',\n",
       " 'agalla',\n",
       " 'age',\n",
       " 'age16',\n",
       " 'age23',\n",
       " 'agency',\n",
       " 'agent',\n",
       " 'agents',\n",
       " 'ages',\n",
       " 'agidhane',\n",
       " 'aging',\n",
       " 'ago',\n",
       " 'agree',\n",
       " 'ah',\n",
       " 'aha',\n",
       " 'ahead',\n",
       " 'ahhh',\n",
       " ...]"
      ]
     },
     "execution_count": 47,
     "metadata": {},
     "output_type": "execute_result"
    }
   ],
   "source": [
    "tonumeric.get_feature_names()"
   ]
  },
  {
   "cell_type": "code",
   "execution_count": 42,
   "metadata": {},
   "outputs": [
    {
     "data": {
      "text/plain": [
       "array([[0, 0, 0, ..., 0, 0, 0],\n",
       "       [0, 0, 0, ..., 0, 0, 0],\n",
       "       [0, 0, 0, ..., 0, 0, 0],\n",
       "       ...,\n",
       "       [0, 0, 0, ..., 0, 0, 0],\n",
       "       [0, 0, 0, ..., 0, 0, 0],\n",
       "       [0, 0, 0, ..., 0, 0, 0]], dtype=int64)"
      ]
     },
     "execution_count": 42,
     "metadata": {},
     "output_type": "execute_result"
    }
   ],
   "source": [
    "X_train_dtm.toarray()"
   ]
  },
  {
   "cell_type": "code",
   "execution_count": 46,
   "metadata": {},
   "outputs": [
    {
     "data": {
      "text/plain": [
       "<1393x8713 sparse matrix of type '<class 'numpy.int64'>'\n",
       "\twith 18822 stored elements in Compressed Sparse Row format>"
      ]
     },
     "execution_count": 46,
     "metadata": {},
     "output_type": "execute_result"
    }
   ],
   "source": [
    "X_test_dtm=tonumeric.transform(xtest)\n",
    "X_test_dtm"
   ]
  },
  {
   "cell_type": "code",
   "execution_count": 48,
   "metadata": {},
   "outputs": [],
   "source": [
    "from sklearn.naive_bayes import MultinomialNB  #creating model"
   ]
  },
  {
   "cell_type": "code",
   "execution_count": 49,
   "metadata": {},
   "outputs": [
    {
     "data": {
      "text/plain": [
       "MultinomialNB()"
      ]
     },
     "execution_count": 49,
     "metadata": {},
     "output_type": "execute_result"
    }
   ],
   "source": [
    "nb=MultinomialNB()\n",
    "nb.fit(X_train_dtm,ytrain)"
   ]
  },
  {
   "cell_type": "code",
   "execution_count": 50,
   "metadata": {},
   "outputs": [],
   "source": [
    "ypred=nb.predict(X_test_dtm)"
   ]
  },
  {
   "cell_type": "code",
   "execution_count": 54,
   "metadata": {},
   "outputs": [],
   "source": [
    "from sklearn.metrics import confusion_matrix,accuracy_score,roc_auc_score"
   ]
  },
  {
   "cell_type": "code",
   "execution_count": 52,
   "metadata": {},
   "outputs": [
    {
     "data": {
      "text/plain": [
       "array([[1166,   18],\n",
       "       [  13,  196]], dtype=int64)"
      ]
     },
     "execution_count": 52,
     "metadata": {},
     "output_type": "execute_result"
    }
   ],
   "source": [
    "confusion_matrix(ytest,ypred)"
   ]
  },
  {
   "cell_type": "code",
   "execution_count": 53,
   "metadata": {},
   "outputs": [
    {
     "data": {
      "text/plain": [
       "array([4.88075360e-15, 2.14014230e-03, 1.08921810e-02, ...,\n",
       "       1.64689328e-05, 5.56170837e-11, 4.33925798e-15])"
      ]
     },
     "execution_count": 53,
     "metadata": {},
     "output_type": "execute_result"
    }
   ],
   "source": [
    "yprob=nb.predict_proba(X_test_dtm)[:,1]\n",
    "yprob"
   ]
  },
  {
   "cell_type": "code",
   "execution_count": 55,
   "metadata": {},
   "outputs": [
    {
     "data": {
      "text/plain": [
       "0.9845548299495667"
      ]
     },
     "execution_count": 55,
     "metadata": {},
     "output_type": "execute_result"
    }
   ],
   "source": [
    "roc_auc_score(ytest,yprob)"
   ]
  },
  {
   "cell_type": "code",
   "execution_count": 56,
   "metadata": {},
   "outputs": [
    {
     "data": {
      "text/plain": [
       "0.9777458722182341"
      ]
     },
     "execution_count": 56,
     "metadata": {},
     "output_type": "execute_result"
    }
   ],
   "source": [
    "accuracy_score(ytest,ypred)"
   ]
  },
  {
   "cell_type": "code",
   "execution_count": null,
   "metadata": {},
   "outputs": [],
   "source": [
    "#comparing "
   ]
  },
  {
   "cell_type": "code",
   "execution_count": 57,
   "metadata": {},
   "outputs": [],
   "source": [
    "from sklearn.linear_model import LogisticRegression\n",
    "lr=LogisticRegression()"
   ]
  },
  {
   "cell_type": "code",
   "execution_count": 58,
   "metadata": {},
   "outputs": [
    {
     "data": {
      "text/plain": [
       "LogisticRegression()"
      ]
     },
     "execution_count": 58,
     "metadata": {},
     "output_type": "execute_result"
    }
   ],
   "source": [
    "lr.fit(X_train_dtm,ytrain)"
   ]
  },
  {
   "cell_type": "code",
   "execution_count": 59,
   "metadata": {},
   "outputs": [],
   "source": [
    "ypred1=lr.predict(X_test_dtm)"
   ]
  },
  {
   "cell_type": "code",
   "execution_count": 60,
   "metadata": {},
   "outputs": [
    {
     "data": {
      "text/plain": [
       "0.9834888729361091"
      ]
     },
     "execution_count": 60,
     "metadata": {},
     "output_type": "execute_result"
    }
   ],
   "source": [
    "lr.score(X_test_dtm,ytest)"
   ]
  },
  {
   "cell_type": "code",
   "execution_count": 61,
   "metadata": {},
   "outputs": [
    {
     "data": {
      "text/plain": [
       "0.9834888729361091"
      ]
     },
     "execution_count": 61,
     "metadata": {},
     "output_type": "execute_result"
    }
   ],
   "source": [
    "accuracy_score(ytest,ypred1)"
   ]
  },
  {
   "cell_type": "code",
   "execution_count": 62,
   "metadata": {},
   "outputs": [
    {
     "data": {
      "text/plain": [
       "0.9920996055864477"
      ]
     },
     "execution_count": 62,
     "metadata": {},
     "output_type": "execute_result"
    }
   ],
   "source": [
    "yprob1=lr.predict_proba(X_test_dtm)[:,1]\n",
    "roc_auc_score(ytest,yprob1)"
   ]
  },
  {
   "cell_type": "code",
   "execution_count": null,
   "metadata": {},
   "outputs": [],
   "source": [
    "#TF_IDF"
   ]
  },
  {
   "cell_type": "code",
   "execution_count": 64,
   "metadata": {},
   "outputs": [
    {
     "data": {
      "text/plain": [
       "['i will call you tonight', 'please help me....', 'Please call a cab please!']"
      ]
     },
     "execution_count": 64,
     "metadata": {},
     "output_type": "execute_result"
    }
   ],
   "source": [
    "sampleTrain"
   ]
  },
  {
   "cell_type": "code",
   "execution_count": 65,
   "metadata": {},
   "outputs": [],
   "source": [
    "from sklearn.feature_extraction.text import TfidfVectorizer"
   ]
  },
  {
   "cell_type": "code",
   "execution_count": 66,
   "metadata": {},
   "outputs": [],
   "source": [
    "tonumericTFIDF=TfidfVectorizer()"
   ]
  },
  {
   "cell_type": "code",
   "execution_count": 67,
   "metadata": {},
   "outputs": [
    {
     "data": {
      "text/plain": [
       "TfidfVectorizer()"
      ]
     },
     "execution_count": 67,
     "metadata": {},
     "output_type": "execute_result"
    }
   ],
   "source": [
    "tonumericTFIDF.fit(sampleTrain)"
   ]
  },
  {
   "cell_type": "code",
   "execution_count": 68,
   "metadata": {},
   "outputs": [
    {
     "data": {
      "text/plain": [
       "['cab', 'call', 'help', 'me', 'please', 'tonight', 'will', 'you']"
      ]
     },
     "execution_count": 68,
     "metadata": {},
     "output_type": "execute_result"
    }
   ],
   "source": [
    "tonumericTFIDF.get_feature_names()"
   ]
  },
  {
   "cell_type": "code",
   "execution_count": 69,
   "metadata": {},
   "outputs": [],
   "source": [
    "sampletrainTFIDF_dtm=tonumericTFIDF.transform(sampleTrain)"
   ]
  },
  {
   "cell_type": "code",
   "execution_count": 71,
   "metadata": {},
   "outputs": [
    {
     "data": {
      "text/plain": [
       "array([[0.        , 0.40204024, 0.        , 0.        , 0.        ,\n",
       "        0.52863461, 0.52863461, 0.52863461],\n",
       "       [0.        , 0.        , 0.62276601, 0.62276601, 0.4736296 ,\n",
       "        0.        , 0.        , 0.        ],\n",
       "       [0.50689001, 0.38550292, 0.        , 0.        , 0.77100584,\n",
       "        0.        , 0.        , 0.        ]])"
      ]
     },
     "execution_count": 71,
     "metadata": {},
     "output_type": "execute_result"
    }
   ],
   "source": [
    "sampletrainTFIDF_dtm.toarray()"
   ]
  },
  {
   "cell_type": "code",
   "execution_count": 72,
   "metadata": {},
   "outputs": [
    {
     "data": {
      "text/html": [
       "<div>\n",
       "<style scoped>\n",
       "    .dataframe tbody tr th:only-of-type {\n",
       "        vertical-align: middle;\n",
       "    }\n",
       "\n",
       "    .dataframe tbody tr th {\n",
       "        vertical-align: top;\n",
       "    }\n",
       "\n",
       "    .dataframe thead th {\n",
       "        text-align: right;\n",
       "    }\n",
       "</style>\n",
       "<table border=\"1\" class=\"dataframe\">\n",
       "  <thead>\n",
       "    <tr style=\"text-align: right;\">\n",
       "      <th></th>\n",
       "      <th>cab</th>\n",
       "      <th>call</th>\n",
       "      <th>help</th>\n",
       "      <th>me</th>\n",
       "      <th>please</th>\n",
       "      <th>tonight</th>\n",
       "      <th>will</th>\n",
       "      <th>you</th>\n",
       "    </tr>\n",
       "  </thead>\n",
       "  <tbody>\n",
       "    <tr>\n",
       "      <th>0</th>\n",
       "      <td>0.00000</td>\n",
       "      <td>0.402040</td>\n",
       "      <td>0.000000</td>\n",
       "      <td>0.000000</td>\n",
       "      <td>0.000000</td>\n",
       "      <td>0.528635</td>\n",
       "      <td>0.528635</td>\n",
       "      <td>0.528635</td>\n",
       "    </tr>\n",
       "    <tr>\n",
       "      <th>1</th>\n",
       "      <td>0.00000</td>\n",
       "      <td>0.000000</td>\n",
       "      <td>0.622766</td>\n",
       "      <td>0.622766</td>\n",
       "      <td>0.473630</td>\n",
       "      <td>0.000000</td>\n",
       "      <td>0.000000</td>\n",
       "      <td>0.000000</td>\n",
       "    </tr>\n",
       "    <tr>\n",
       "      <th>2</th>\n",
       "      <td>0.50689</td>\n",
       "      <td>0.385503</td>\n",
       "      <td>0.000000</td>\n",
       "      <td>0.000000</td>\n",
       "      <td>0.771006</td>\n",
       "      <td>0.000000</td>\n",
       "      <td>0.000000</td>\n",
       "      <td>0.000000</td>\n",
       "    </tr>\n",
       "  </tbody>\n",
       "</table>\n",
       "</div>"
      ],
      "text/plain": [
       "       cab      call      help        me    please   tonight      will  \\\n",
       "0  0.00000  0.402040  0.000000  0.000000  0.000000  0.528635  0.528635   \n",
       "1  0.00000  0.000000  0.622766  0.622766  0.473630  0.000000  0.000000   \n",
       "2  0.50689  0.385503  0.000000  0.000000  0.771006  0.000000  0.000000   \n",
       "\n",
       "        you  \n",
       "0  0.528635  \n",
       "1  0.000000  \n",
       "2  0.000000  "
      ]
     },
     "execution_count": 72,
     "metadata": {},
     "output_type": "execute_result"
    }
   ],
   "source": [
    "pd.DataFrame(sampletrainTFIDF_dtm.toarray(),columns=tonumericTFIDF.get_feature_names())"
   ]
  },
  {
   "cell_type": "code",
   "execution_count": 73,
   "metadata": {},
   "outputs": [
    {
     "data": {
      "text/plain": [
       "['i will call you tonight', 'please help me....', 'Please call a cab please!']"
      ]
     },
     "execution_count": 73,
     "metadata": {},
     "output_type": "execute_result"
    }
   ],
   "source": [
    "sampleTrain"
   ]
  },
  {
   "cell_type": "code",
   "execution_count": null,
   "metadata": {},
   "outputs": [],
   "source": [
    "#stemming and lemmatization\n",
    "#finne tuning"
   ]
  },
  {
   "cell_type": "code",
   "execution_count": 79,
   "metadata": {},
   "outputs": [
    {
     "data": {
      "text/plain": [
       "TfidfVectorizer(stop_words='english')"
      ]
     },
     "execution_count": 79,
     "metadata": {},
     "output_type": "execute_result"
    }
   ],
   "source": [
    "tonumericTFIDF=TfidfVectorizer(stop_words='english') # it remove english words\n",
    "tonumericTFIDF.fit(xtrain)"
   ]
  },
  {
   "cell_type": "code",
   "execution_count": 80,
   "metadata": {},
   "outputs": [
    {
     "data": {
      "text/plain": [
       "7240"
      ]
     },
     "execution_count": 80,
     "metadata": {},
     "output_type": "execute_result"
    }
   ],
   "source": [
    "len(tonumericTFIDF.get_feature_names())"
   ]
  },
  {
   "cell_type": "code",
   "execution_count": 82,
   "metadata": {},
   "outputs": [],
   "source": [
    "tonumericTFIDF=TfidfVectorizer(ngram_range=(1,2)) #ngram range means como of uni and bigram"
   ]
  },
  {
   "cell_type": "code",
   "execution_count": 83,
   "metadata": {},
   "outputs": [
    {
     "data": {
      "text/plain": [
       "TfidfVectorizer(ngram_range=(1, 2))"
      ]
     },
     "execution_count": 83,
     "metadata": {},
     "output_type": "execute_result"
    }
   ],
   "source": [
    "tonumericTFIDF.fit(xtrain)"
   ]
  },
  {
   "cell_type": "code",
   "execution_count": 86,
   "metadata": {},
   "outputs": [
    {
     "data": {
      "text/plain": [
       "41202"
      ]
     },
     "execution_count": 86,
     "metadata": {},
     "output_type": "execute_result"
    }
   ],
   "source": [
    "len(tonumericTFIDF.get_feature_names())"
   ]
  },
  {
   "cell_type": "code",
   "execution_count": null,
   "metadata": {},
   "outputs": [],
   "source": [
    "#max_df ignore terms appear in more tha 75% of documents"
   ]
  },
  {
   "cell_type": "code",
   "execution_count": 87,
   "metadata": {},
   "outputs": [
    {
     "data": {
      "text/plain": [
       "TfidfVectorizer(max_df=0.75)"
      ]
     },
     "execution_count": 87,
     "metadata": {},
     "output_type": "execute_result"
    }
   ],
   "source": [
    "tonumericTFIDF=TfidfVectorizer(max_df=0.75)\n",
    "tonumericTFIDF.fit(xtrain)"
   ]
  },
  {
   "cell_type": "code",
   "execution_count": 88,
   "metadata": {},
   "outputs": [
    {
     "data": {
      "text/plain": [
       "7504"
      ]
     },
     "execution_count": 88,
     "metadata": {},
     "output_type": "execute_result"
    }
   ],
   "source": [
    "len(tonumericTFIDF.get_feature_names())"
   ]
  },
  {
   "cell_type": "code",
   "execution_count": null,
   "metadata": {},
   "outputs": [],
   "source": [
    "#min_df keep terms that appear in atleast 2 documents"
   ]
  },
  {
   "cell_type": "code",
   "execution_count": 89,
   "metadata": {},
   "outputs": [
    {
     "data": {
      "text/plain": [
       "3431"
      ]
     },
     "execution_count": 89,
     "metadata": {},
     "output_type": "execute_result"
    }
   ],
   "source": [
    "tonumericTFIDF=TfidfVectorizer(min_df=2)\n",
    "tonumericTFIDF.fit(xtrain)\n",
    "len(tonumericTFIDF.get_feature_names())"
   ]
  },
  {
   "cell_type": "code",
   "execution_count": null,
   "metadata": {},
   "outputs": [],
   "source": [
    "#word Cloud"
   ]
  },
  {
   "cell_type": "code",
   "execution_count": 92,
   "metadata": {},
   "outputs": [],
   "source": [
    "from wordcloud import WordCloud"
   ]
  },
  {
   "cell_type": "code",
   "execution_count": 91,
   "metadata": {},
   "outputs": [
    {
     "data": {
      "text/html": [
       "<div>\n",
       "<style scoped>\n",
       "    .dataframe tbody tr th:only-of-type {\n",
       "        vertical-align: middle;\n",
       "    }\n",
       "\n",
       "    .dataframe tbody tr th {\n",
       "        vertical-align: top;\n",
       "    }\n",
       "\n",
       "    .dataframe thead th {\n",
       "        text-align: right;\n",
       "    }\n",
       "</style>\n",
       "<table border=\"1\" class=\"dataframe\">\n",
       "  <thead>\n",
       "    <tr style=\"text-align: right;\">\n",
       "      <th></th>\n",
       "      <th>label</th>\n",
       "      <th>message</th>\n",
       "      <th>label_num</th>\n",
       "    </tr>\n",
       "  </thead>\n",
       "  <tbody>\n",
       "    <tr>\n",
       "      <th>0</th>\n",
       "      <td>ham</td>\n",
       "      <td>Go until jurong point, crazy.. Available only ...</td>\n",
       "      <td>0</td>\n",
       "    </tr>\n",
       "    <tr>\n",
       "      <th>1</th>\n",
       "      <td>ham</td>\n",
       "      <td>Ok lar... Joking wif u oni...</td>\n",
       "      <td>0</td>\n",
       "    </tr>\n",
       "    <tr>\n",
       "      <th>2</th>\n",
       "      <td>spam</td>\n",
       "      <td>Free entry in 2 a wkly comp to win FA Cup fina...</td>\n",
       "      <td>1</td>\n",
       "    </tr>\n",
       "    <tr>\n",
       "      <th>3</th>\n",
       "      <td>ham</td>\n",
       "      <td>U dun say so early hor... U c already then say...</td>\n",
       "      <td>0</td>\n",
       "    </tr>\n",
       "    <tr>\n",
       "      <th>4</th>\n",
       "      <td>ham</td>\n",
       "      <td>Nah I don't think he goes to usf, he lives aro...</td>\n",
       "      <td>0</td>\n",
       "    </tr>\n",
       "  </tbody>\n",
       "</table>\n",
       "</div>"
      ],
      "text/plain": [
       "  label                                            message  label_num\n",
       "0   ham  Go until jurong point, crazy.. Available only ...          0\n",
       "1   ham                      Ok lar... Joking wif u oni...          0\n",
       "2  spam  Free entry in 2 a wkly comp to win FA Cup fina...          1\n",
       "3   ham  U dun say so early hor... U c already then say...          0\n",
       "4   ham  Nah I don't think he goes to usf, he lives aro...          0"
      ]
     },
     "execution_count": 91,
     "metadata": {},
     "output_type": "execute_result"
    }
   ],
   "source": [
    "df.head()"
   ]
  },
  {
   "cell_type": "code",
   "execution_count": 96,
   "metadata": {},
   "outputs": [
    {
     "data": {
      "image/png": "[encoded data removed]",
      "text/plain": [
       "<Figure size 1440x1440 with 1 Axes>"
      ]
     },
     "metadata": {
      "needs_background": "light"
     },
     "output_type": "display_data"
    }
   ],
   "source": [
    "wc=WordCloud()\n",
    "wc.generate(str(df['message']))\n",
    "plt.figure(figsize=(20,20))\n",
    "plt.imshow(wc)\n",
    "plt.show()"
   ]
  },
  {
   "cell_type": "code",
   "execution_count": null,
   "metadata": {},
   "outputs": [],
   "source": [
    "#lemmatization and stemming"
   ]
  },
  {
   "cell_type": "code",
   "execution_count": 97,
   "metadata": {},
   "outputs": [],
   "source": [
    "import nltk"
   ]
  },
  {
   "cell_type": "code",
   "execution_count": 98,
   "metadata": {},
   "outputs": [
    {
     "name": "stderr",
     "output_type": "stream",
     "text": [
      "[nltk_data] Downloading package punkt to C:\\Users\\This\n",
      "[nltk_data]     PC\\AppData\\Roaming\\nltk_data...\n",
      "[nltk_data]   Unzipping tokenizers\\punkt.zip.\n"
     ]
    },
    {
     "data": {
      "text/plain": [
       "True"
      ]
     },
     "execution_count": 98,
     "metadata": {},
     "output_type": "execute_result"
    }
   ],
   "source": [
    "nltk.download('punkt')"
   ]
  },
  {
   "cell_type": "code",
   "execution_count": 99,
   "metadata": {},
   "outputs": [],
   "source": [
    "from nltk.stem import LancasterStemmer,PorterStemmer"
   ]
  },
  {
   "cell_type": "code",
   "execution_count": 100,
   "metadata": {},
   "outputs": [],
   "source": [
    "porter=PorterStemmer()\n",
    "lancaster=LancasterStemmer()"
   ]
  },
  {
   "cell_type": "code",
   "execution_count": 102,
   "metadata": {},
   "outputs": [
    {
     "name": "stdout",
     "output_type": "stream",
     "text": [
      "cat\n",
      "troubl\n",
      "tickl\n",
      "fickl\n"
     ]
    }
   ],
   "source": [
    "print(porter.stem('cats'))\n",
    "print(porter.stem('troubling'))\n",
    "print(porter.stem('tickling'))\n",
    "print(porter.stem('fickling'))"
   ]
  },
  {
   "cell_type": "code",
   "execution_count": 103,
   "metadata": {},
   "outputs": [
    {
     "data": {
      "text/plain": [
       "'pythoners are very intelligent and work very pytholy and now they are pythoning their way to success.'"
      ]
     },
     "execution_count": 103,
     "metadata": {},
     "output_type": "execute_result"
    }
   ],
   "source": [
    "s='pythoners are very intelligent and work very pytholy and now they are pythoning their way to success.'\n",
    "porter.stem(s)"
   ]
  },
  {
   "cell_type": "code",
   "execution_count": 105,
   "metadata": {},
   "outputs": [
    {
     "name": "stdout",
     "output_type": "stream",
     "text": [
      "python are veri intellig and work veri pytholi and now they are python their way to success . \n"
     ]
    }
   ],
   "source": [
    "from nltk.tokenize import sent_tokenize,word_tokenize\n",
    "def stem(sentence):\n",
    "    token_words=word_tokenize(s)\n",
    "    token_words\n",
    "    stem_sentence=[]\n",
    "    for word in token_words:\n",
    "        stem_sentence.append(porter.stem(word))\n",
    "        stem_sentence.append(\" \")\n",
    "    return \"\".join(stem_sentence)\n",
    "x=stem(s)\n",
    "print(x)"
   ]
  },
  {
   "cell_type": "code",
   "execution_count": 106,
   "metadata": {},
   "outputs": [
    {
     "name": "stdout",
     "output_type": "stream",
     "text": [
      "python are veri intellig and work veri pytholi and now they are python their way to success\n"
     ]
    }
   ],
   "source": [
    "from textblob import TextBlob\n",
    "sent=TextBlob(s)\n",
    "print(' '.join([porter.stem(word) for word in sent.words]))"
   ]
  },
  {
   "cell_type": "code",
   "execution_count": null,
   "metadata": {},
   "outputs": [],
   "source": [
    "#sentiment calculation"
   ]
  },
  {
   "cell_type": "code",
   "execution_count": 107,
   "metadata": {},
   "outputs": [],
   "source": [
    "from textblob import TextBlob"
   ]
  },
  {
   "cell_type": "code",
   "execution_count": 108,
   "metadata": {},
   "outputs": [],
   "source": [
    "t='i hate everything that goes in my ear'"
   ]
  },
  {
   "cell_type": "code",
   "execution_count": 109,
   "metadata": {},
   "outputs": [],
   "source": [
    "r=TextBlob(t)"
   ]
  },
  {
   "cell_type": "code",
   "execution_count": 110,
   "metadata": {},
   "outputs": [
    {
     "data": {
      "text/plain": [
       "Sentiment(polarity=-0.8, subjectivity=0.9)"
      ]
     },
     "execution_count": 110,
     "metadata": {},
     "output_type": "execute_result"
    }
   ],
   "source": [
    "r.sentiment"
   ]
  },
  {
   "cell_type": "code",
   "execution_count": null,
   "metadata": {},
   "outputs": [],
   "source": [
    "#Data Scraping"
   ]
  },
  {
   "cell_type": "code",
   "execution_count": 111,
   "metadata": {},
   "outputs": [],
   "source": [
    "import requests \n",
    "from bs4 import BeautifulSoup\n",
    "import os"
   ]
  },
  {
   "cell_type": "code",
   "execution_count": 112,
   "metadata": {},
   "outputs": [],
   "source": [
    "url = 'https://inshorts.com/en/read/world'"
   ]
  },
  {
   "cell_type": "code",
   "execution_count": 114,
   "metadata": {},
   "outputs": [
    {
     "data": {
      "text/plain": [
       "['https:', '', 'inshorts.com', 'en', 'read', 'world']"
      ]
     },
     "execution_count": 114,
     "metadata": {},
     "output_type": "execute_result"
    }
   ],
   "source": [
    "news_data=[]\n",
    "news_category=url.split('/')\n",
    "news_category"
   ]
  },
  {
   "cell_type": "code",
   "execution_count": 115,
   "metadata": {},
   "outputs": [],
   "source": [
    "news_category=news_category[-1]"
   ]
  },
  {
   "cell_type": "code",
   "execution_count": 116,
   "metadata": {
    "scrolled": true
   },
   "outputs": [
    {
     "data": {
      "text/plain": [
       "b'<!doctype html>\\n<html lang=\"en\">\\n\\n<head>\\n  <meta charset=\"utf-8\" />\\n  <style>\\n    /* The Modal (background) */\\n    .modal_contact {\\n        display: none; /* Hidden by default */\\n        position: fixed; /* Stay in place */\\n        z-index: 8; /* Sit on top */\\n        left: 0;\\n        top: 0;\\n        width: 100%; /* Full width */\\n        height: 100%;\\n        overflow: auto; /* Enable scroll if needed */\\n        background-color: rgb(0,0,0); /* Fallback color */\\n        background-color: rgba(0,0,0,0.4); /* Black w/ opacity */\\n    }\\n\\n    /* Modal Content/Box */\\n    .modal-content {\\n        background-color: #fefefe;\\n        margin: 15% auto;\\n        padding: 20px !important;\\n        padding-top: 0 !important;\\n        /* border: 1px solid #888; */\\n        text-align: center;\\n        position: relative;\\n        border-radius: 6px;\\n    }\\n\\n    /* The Close Button */\\n    .close {\\n      left: 90%;\\n      color: #aaa;\\n      float: right;\\n      font-size: 28px;\\n      font-weight: bold;\\n    /* position: absolute; */\\n    /* bottom: 86%; */\\n    /* display: inline-block; */\\n    /* padding-left: 5%; */\\n    }\\n\\n    .close:hover,\\n    .close:focus {\\n        color: black;\\n        text-decoration: none;\\n        cursor: pointer;\\n    }\\n\\n    #myBtn {\\n      background: #999999;\\n      color: #ffffff;\\n      text-transform: uppercase;\\n      font-weight: bold;\\n      box-shadow: none;\\n      border-radius: 4px;\\n      border: none;\\n      font-size: .8rem;\\n      /* width: 8rem; */\\n      height: 2rem;\\n      line-height: 2rem;\\n    }\\n\\n    .contact {\\n      margin-bottom: 4%;\\n      clear: both;\\n    }\\n  </style>\\n\\n  \\n    \\n  <meta http-equiv=\"Content-Type\" content=\"text/html; charset=UTF-8\"/>\\n  <meta name=\"viewport\" content=\"width=device-width, initial-scale=1, maximum-scale=1.0, user-scalable=no\"/>\\n\\n  <meta http-equiv=\"X-UA-Compatible\" content=\"IE=edge\">\\n  <link rel=\"manifest\" href=\"manifest.json\">\\n\\n  <!-- Fallback to homescreen for Chrome   <39 on Android -->\\n  <meta name=\"mobile-web-app-capable\" content=\"yes\">\\n  <meta name=\"application-name\" content=\"inshorts\">\\n  <link rel=\"icon\" sizes=\"192x192\" href=\"https://assets.inshorts.com/website_assets/images/favicon.png\">\\n\\n  <!-- Add to homescreen for Safari on iOS -->\\n  <meta name=\"apple-mobile-web-app-capable\" content=\"yes\">\\n  <meta name=\"apple-mobile-web-app-status-bar-style\" content=\"#424242\">\\n  <meta name=\"apple-mobile-web-app-title\" content=\"inshorts\">\\n  <link rel=\"apple-touch-icon\" href=\"https://assets.inshorts.com/website_assets/images/favicon.png\">\\n\\n  <!-- Tile icon for Win8 (144x144 + tile color) -->\\n  <meta name=\"msapplication-TileImage\" content=\"fav/favicon.png\">\\n  <meta name=\"msapplication-TileColor\" content=\"#424242\">\\n\\n  <meta name=\"theme-color\" content=\"#424242\">\\n  <meta http-equiv=\"content-type\" content=\"text/html; charset=UTF-8\"/>\\n  <meta name=\"msapplication-navbutton-color\" content=\"#424242\">\\n  <meta name=\"apple-mobile-web-app-status-bar-style\" content=\"#424242\">\\n  <link rel=\"apple-touch-startup-image\" href=\"https://assets.inshorts.com/website_assets/images/favicon.png\">\\n  <meta name=\"apple-mobile-web-app-status-bar-style\" content=\"black-translucent\">\\n    <meta name=\"twitter:card\" content=\"app\"/>\\n  <meta name=\"twitter:site\" content=\"@inshorts\"/>\\n  <meta name=\"twitter:creator\" content=\"@inshorts\"/>\\n  <meta name=\"twitter:description\" content=\"Inshorts delivers news in less than 60 words, containing only the essential facts, compromising on anything that is close to opinionating and storytelling.\"/>\\n  <meta name=\"twitter:app:country\" content=\"IN\"/>\\n  <meta name=\"twitter:app:name:iphone\" content=\"Inshorts - Stay Informed\"/>\\n  <meta name=\"twitter:app:id:iphone\" content=\"892146527\"/>\\n  <meta name=\"twitter:app:url:iphone\" content=\"nis://news\"/>\\n  <meta name=\"twitter:app:name:ipad\" content=\"Inshorts - Stay Informed\"/>\\n  <meta name=\"twitter:app:id:ipad\" content=\"892146527\"/>\\n  <meta name=\"twitter:app:url:ipad\" content=\"nis://news\"/>\\n  <meta name=\"twitter:app:name:googleplay\" content=\"Inshorts - Stay Informed\"/>\\n  <meta name=\"twitter:app:id:googleplay\" content=\"com.nis.app\"/>\\n  <meta name=\"twitter:app:url:googleplay\" content=\"nis://news\"/>\\n\\n  <meta name=\"description\" content=\"Read international news in English in less that 60 words and get updated with all top news and current affairs and headlines in a fast and easy way with inshorts.\"/>\\n  <link href=\"https://inshorts.com/en/read/world\" rel=\"canonical\" />\\n  <link href=\"https://inshorts.com/en/read/world\" rel=\"alternate\" reflang=\"en\" />\\n  <meta name=\"apple-itunes-app\" content=\"app-id=892146527\">\\n  <meta name=\"google-play-app\" content=\"app-id=com.nis.app\">\\n\\n  <title>World News Headlines | Latest International News in English with Inshorts</title>\\n  <!-- CSS  -->\\n  <link href=\\'https://fonts.googleapis.com/css?family=Roboto\\' rel=\\'stylesheet\\' type=\\'text/css\\'>\\n  <link href=\"https://fonts.googleapis.com/icon?family=Material+Icons\" rel=\"stylesheet\">\\n  <link rel=\"stylesheet\" href=\"https://cdnjs.cloudflare.com/ajax/libs/materialize/0.97.1/css/materialize.min.css\">\\n  <link href=\\'https://fonts.googleapis.com/css?family=Hind:500,600,400&subset=latin,devanagari\\' rel=\\'stylesheet\\' type=\\'text/css\\'>\\n  <link href=\"/dist/styles/main.css\" type=\"text/css\" rel=\"stylesheet\" media=\"screen,projection\"/>\\n  <link href=\"/dist/styles/index.css\" type=\"text/css\" rel=\"stylesheet\" media=\"screen,projection\"/>\\n  <link href=\"/dist/styles/read.css\" type=\"text/css\" rel=\"stylesheet\" media=\"screen,projection\"/>\\n  <link href=\"/dist/styles/news-card.css\" type=\"text/css\" rel=\"stylesheet\" media=\"screen,projection\"/>\\n  <link rel=\"icon\" type=\"image/png\" href=\"https://assets.inshorts.com/website_assets/images/favicon.png\" />\\n  <link rel=\"manifest\" href=\"/dist/manifest.json\">\\n  <script async=\\'async\\' src=\\'https://www.googletagservices.com/tag/js/gpt.js\\'></script>\\n  <script>\\n    var googletag = googletag || {};\\n    googletag.cmd = googletag.cmd || [];\\n    let top_banner_slot;\\n  </script>\\n\\n  <!-- Top banner for desktop-->\\n  <script>\\n    googletag.cmd.push(function() {\\n      \\n      \\n        //Top banner for desktop\\n        top_banner_slot = googletag.defineSlot(\\'/142919096/inshorts_website_728x90\\', [728, 90], \\'div-gpt-ad-1536585015617-0\\')\\n        .addService(googletag.pubads())\\n        .setCollapseEmptyDiv(true,true);\\n      \\n\\n      googletag.pubads().disableInitialLoad();\\n      googletag.pubads().enableSingleRequest();\\n      googletag.enableServices();\\n    });\\n  </script>\\n\\n  <!-- Facebook Pixel Code -->\\n  <script>\\n    !function(f,b,e,v,n,t,s)\\n    {if(f.fbq)return;n=f.fbq=function(){n.callMethod?\\n    n.callMethod.apply(n,arguments):n.queue.push(arguments)};\\n    if(!f._fbq)f._fbq=n;n.push=n;n.loaded=!0;n.version=\\'2.0\\';\\n    n.queue=[];t=b.createElement(e);t.async=!0;\\n    t.src=v;s=b.getElementsByTagName(e)[0];\\n    s.parentNode.insertBefore(t,s)}(window, document,\\'script\\',\\n    \\'https://connect.facebook.net/en_US/fbevents.js\\');\\n    fbq(\\'init\\', \\'822966517773327\\');\\n    fbq(\\'track\\', \\'PageView\\');\\n  </script>\\n  <noscript><img height=\"1\" width=\"1\" style=\"display:none\"\\n    src=\"https://www.facebook.com/tr?id=822966517773327&ev=PageView&noscript=1\"\\n  /></noscript>\\n  <!-- End Facebook Pixel Code -->\\n  <!-- Mix panel script start -->\\n<script>\\n  (function(f,b){if(!b.__SV){var e,g,i,h;window.mixpanel=b;b._i=[];b.init=function(e,f,c){function g(a,d){var b=d.split(\".\");2==b.length&&(a=a[b[0]],d=b[1]);a[d]=function(){a.push([d].concat(Array.prototype.slice.call(arguments,0)))}}var a=b;\"undefined\"!==typeof c?a=b[c]=[]:c=\"mixpanel\";a.people=a.people||[];a.toString=function(a){var d=\"mixpanel\";\"mixpanel\"!==c&&(d+=\".\"+c);a||(d+=\" (stub)\");return d};a.people.toString=function(){return a.toString(1)+\".people (stub)\"};i=\"disable time_event track track_pageview track_links track_forms track_with_groups add_group set_group remove_group register register_once alias unregister identify name_tag set_config reset opt_in_tracking opt_out_tracking has_opted_in_tracking has_opted_out_tracking clear_opt_in_out_tracking start_batch_senders people.set people.set_once people.unset people.increment people.append people.union people.track_charge people.clear_charges people.delete_user people.remove\".split(\" \");\\n  for(h=0;h<i.length;h++)g(a,i[h]);var j=\"set set_once union unset remove delete\".split(\" \");a.get_group=function(){function b(c){d[c]=function(){call2_args=arguments;call2=[c].concat(Array.prototype.slice.call(call2_args,0));a.push([e,call2])}}for(var d={},e=[\"get_group\"].concat(Array.prototype.slice.call(arguments,0)),c=0;c<j.length;c++)b(j[c]);return d};b._i.push([e,f,c])};b.__SV=1.2;e=f.createElement(\"script\");e.type=\"text/javascript\";e.async=!0;e.src=\"undefined\"!==typeof MIXPANEL_CUSTOM_LIB_URL?\\n  MIXPANEL_CUSTOM_LIB_URL:\"file:\"===f.location.protocol&&\"//cdn.mxpnl.com/libs/mixpanel-2-latest.min.js\".match(/^\\\\/\\\\//)?\"https://cdn.mxpnl.com/libs/mixpanel-2-latest.min.js\":\"//cdn.mxpnl.com/libs/mixpanel-2-latest.min.js\";g=f.getElementsByTagName(\"script\")[0];g.parentNode.insertBefore(e,g)}})(document,window.mixpanel||[]);\\n  mixpanel.init(\"a99a1037068944b00a0cc8ee56c94e8c\")\\n  mixpanel.track(\"pageview\")\\n  </script>\\n<!-- Mix panel script end -->\\n</head>\\n<script>\\n  (function(i,s,o,g,r,a,m){i[\\'GoogleAnalyticsObject\\']=r;i[r]=i[r]||function(){\\n  (i[r].q=i[r].q||[]).push(arguments)},i[r].l=1*new Date();a=s.createElement(o),\\n  m=s.getElementsByTagName(o)[0];a.async=1;a.src=g;m.parentNode.insertBefore(a,m)\\n  })(window,document,\\'script\\',\\'//www.google-analytics.com/analytics.js\\',\\'ga\\');\\n\\n  ga(\\'create\\', \\'UA-55157535-6\\', \\'auto\\');\\n  ga(\\'send\\', \\'pageview\\');  \\n</script>\\n  <!-- Add After importing GA and Mixpanel scripts -->\\n<script>\\n  function track_GA_Mixpanel({hitType, category, action, label, value = 1}){\\n    if (window && window.ga) {\\n      ga(\\'send\\', {\\n            hitType: \\'event\\',\\n            eventCategory: category,\\n            eventAction: action,\\n            eventLabel: label,\\n            eventValue: value\\n        });\\n    }\\n    // mix panel analytics\\n    if(window && window.mixpanel){\\n        mixpanel.track(\"event\", {category, action, label, value});\\n    }\\n  }\\n</script>\\n<body>\\n\\n\\n  <!-- Begin comScore Tag -->\\n  <script>\\n    var _comscore = _comscore || [];\\n    _comscore.push({ c1: \"2\", c2: \"28268321\" });\\n    (function() {\\n      var s = document.createElement(\"script\"), el = document.getElementsByTagName(\"script\")[0]; s.async = true;\\n      s.src = (document.location.protocol == \"https:\" ? \"https://sb\" : \"http://b\") + \".scorecardresearch.com/beacon.js\";\\n      el.parentNode.insertBefore(s, el);\\n    })();\\n  </script>\\n  <noscript>\\n    <img src=\"https://sb.scorecardresearch.com/p?c1=2&c2=28268321&cv=2.0&cj=1\" />\\n  </noscript>\\n  \\n  \\n  <!-- HEADER START -->\\n  <div class=\"header z-depth-1\">\\n    <div class=\"menu clickable\">\\n      <button class=\"c-hamburger c-hamburger--htx\" ><span>toggle menu</span></button><span class=\"unselectable\">Menu</span>\\n    </div>\\n    <!--\\n    <div class=\"search-wrapper hide-on-small-only\">\\n      <input class=\"search-box\" placeholder=\"Search\" id=\"search\"/>\\n      <i id=\"search_icon\" class=\"material-icons search-icon\">search</i>\\n      <div class=\"search-box-ul\">&nbsp;</div>\\n    </div>\\n    -->\\n    <a href=\"/\"><img src=\"https://assets.inshorts.com/website_assets/images/logo_inshorts.png\" class=\"logo\"/></a>\\n  </div>\\n  <!-- HEADER END -->\\n\\n  \\n<!--SIDEBAR START -->\\n    <div class=\"hide-on-med-and-up sidebar-bg\" style=\"display: none;\">&nbsp;</div>\\n    <div class=\"sidebar\" style=\"overflow-y: scroll;\">\\n      <div class=\"lang-bar\" style=\"\">\\n        <div class=\"lang-selector clickable\">\\n          <a href=\\'/en/read/world\\'><div class=\"lang-en selected\">English</div></a>\\n          <a href=\\'/hi/read/world\\'><div class=\"lang-hi \">\\xe0\\xa4\\xb9\\xe0\\xa4\\xbf\\xe0\\xa4\\xa8\\xe0\\xa5\\x8d\\xe0\\xa4\\xa6\\xe0\\xa5\\x80</div></a>\\n        </div>\\n      </div>\\n\\n      <div>\\n        <div class=\"category-header\">Categories</div>\\n        <ul class=\"category-list\">\\n\\n          <a onclick=\"track_GA_Mixpanel({\\'hitType\\': \\'event\\', \\'category\\': \\'LinkToAllNews\\', \\'action\\': \\'clicked\\', \\'label\\': \\'RedirectedToAllNews\\' });\" href=\\'/en/read\\'> <li class=\"active-category \" >All News</li> </a>\\n\\n\\n          <a onclick=\"track_GA_Mixpanel({\\'hitType\\': \\'event\\', \\'category\\': \\'LinkToIndiaNews\\', \\'action\\': \\'clicked\\', \\'label\\': \\'RedirectedToIndiaNews\\' });\" href=\\'/en/read/national\\'> <li class=\"active-category \">India</li> </a>\\n\\n          <a onclick=\"track_GA_Mixpanel({\\'hitType\\': \\'event\\', \\'category\\': \\'LinkToBusinessNews\\', \\'action\\': \\'clicked\\', \\'label\\':  \\'RedirectedToBusinessNews\\' });\"  href=\\'/en/read/business\\'> <li class=\"active-category \">Business</li> </a>\\n\\n          <a onclick=\"track_GA_Mixpanel({\\'hitType\\': \\'event\\', \\'category\\': \\'LinkTosportsNews\\', \\'action\\': \\'clicked\\', \\'label\\': \\'RedirectedToSportsNews\\' });\"  href=\\'/en/read/sports\\'> <li class=\"active-category \">Sports</li> </a>\\n          <a onclick=\"track_GA_Mixpanel({\\'hitType\\': \\'event\\', \\'category\\': \\'LinkToworldNews\\', \\'action\\': \\'clicked\\', \\'label\\': \\'RedirectedToworldNews\\' });\" href=\\'/en/read/world\\'> <li class=\"active-category selected\">World</li> </a>\\n\\n          <a onclick=\"track_GA_Mixpanel({\\'hitType\\': \\'event\\', \\'category\\': \\'LinkToworldNews\\', \\'action\\': \\'clicked\\',   \\'label\\': \\'RedirectedToworldNews\\' });\"  href=\\'/en/read/politics\\'> <li class=\"active-category \">Politics</li> </a>\\n          <a onclick=\"track_GA_Mixpanel({\\'hitType\\': \\'event\\', \\'category\\': \\'LinkTotechnologyNews\\', \\'action\\': \\'clicked\\', \\'label\\': \\'RedirectedTotechnologyNews\\' });\" href=\\'/en/read/technology\\'> <li class=\"active-category \">Technology</li> </a>\\n\\n          <a onclick=\"track_GA_Mixpanel({\\'hitType\\': \\'event\\', \\'category\\': \\'LinkTostartupNews\\', \\'action\\': \\'clicked\\', \\'label\\': \\'RedirectedTostartupNews\\' });\"  href=\\'/en/read/startup\\'> <li class=\"active-category \">Startup</li> </a>\\n\\n\\n          <a onclick=\"track_GA_Mixpanel({\\'hitType\\': \\'event\\', \\'category\\': \\'LinkToEntertainmentNews\\', \\'action\\': \\'clicked\\', \\'label\\': \\'RedirectedToEntertainmentNews\\' });\"  href=\\'/en/read/entertainment\\'> <li class=\"active-category \">Entertainment</li> </a>\\n\\n\\n          <a onclick=\"track_GA_Mixpanel({\\'hitType\\': \\'event\\', \\'category\\': \\'LinkToMiscellaneousNews\\', \\'action\\': \\'clicked\\', \\'label\\': \\'RedirectedToMiscellaneousNews\\' });\"  href=\\'/en/read/miscellaneous\\'> <li class=\"active-category \">Miscellaneous</li> </a>\\n\\n          <a onclick=\"track_GA_Mixpanel({\\'hitType\\': \\'event\\', \\'category\\': \\'LinkTohatkeNews\\', \\'action\\': \\'clicked\\', \\'label\\': \\'RedirectedTohatkeNews\\' });\"  href=\\'/en/read/hatke\\'> <li class=\"active-category \">Hatke</li> </a>\\n\\n          <a onclick=\"track_GA_Mixpanel({\\'hitType\\': \\'event\\', \\'category\\': \\'LinkToscienceNews\\', \\'action\\': \\'clicked\\', \\'label\\': \\'RedirectedToscienceNews\\' });\"  href=\\'/en/read/science\\'> <li class=\"active-category \">Science</li> </a>\\n\\n          <a onclick=\"track_GA_Mixpanel({\\'hitType\\': \\'event\\', \\'category\\': \\'LinkToautomobileNews\\', \\'action\\': \\'clicked\\', \\'label\\': \\'RedirectedToautomobileNews\\' });\"  href=\\'/en/read/automobile\\'> <li class=\"active-category \">Automobile</li> </a>\\n\\n        </ul>\\n      </div>\\n    </div>\\n<!--SIDEBAR END -->\\n\\n  <!-- BODY START -->\\n  <div class=\"container\" style=\"min-height:550px;\">\\n    <div class=\"row\" style=\"padding-top:110px;\">\\n      \\n        <div id=\\'div-gpt-ad-1536585015617-0\\' style=\\'height:90px; width:728px;margin: auto; margin-bottom: 1%;\\'>\\n          <script>\\n          googletag.cmd.push(function() { \\n            googletag.display(\\'div-gpt-ad-1536585015617-0\\'); \\n            googletag.pubads().refresh([top_banner_slot]);\\n          });\\n          </script>\\n        </div>\\n      \\n      \\n\\n      \\n      <div class=\"hide-on-med-and-down z-depth-1\" style=\"margin-left : auto;margin-right : auto;margin-bottom: 32px;width : 900px;height:48px;background: #f44336\">\\n        <div style=\"font-weight: 300;color:white !important;font-size:14px;margin-left: 48px;margin-top: 13px;position: absolute;display: block;\">\\n          For the best experience use <a target=\"_blank\" href=\"https://inshorts.com/mobile\" style=\"color:white;appearance: none;font-weight: 500;\">inshorts</a> app on your smartphone\\n        </div>\\n        \\n        \\n      </div>\\n      \\n      <div class=\"card-stack\">\\n        \\n\\n\\n\\n\\n\\n<div class=\"\">\\n<div class=\"news-card z-depth-1\" itemscope itemtype=\"http://schema.org/NewsArticle\">\\n  <span content=\"\" itemscope itemprop=\"mainEntityOfPage\" itemType=\"https://schema.org/WebPage\" itemid=\"https://inshorts.com/en/news/indias-covid19-crisis-a-warning-for-low-middleincome-nations-imf-1621671945453\"></span>\\n  <span itemtype=\"https://schema.org/Person\" itemscope=\"itemscope\" itemprop=\"author\">\\n    <span itemprop=\"name\" content=\"Kiran Khatri\"></span>\\n  </span>\\n  <span itemprop=\"description\" content=\"India&#39;s COVID-19 crisis a warning for low &amp; middle-income nations: IMF\"></span>\\n  <span itemprop=\"image\" itemscope itemtype=\"https://schema.org/ImageObject\">\\n    <meta itemprop=\"url\" content=\"https://static.inshorts.com/inshorts/images/v1/variants/jpg/m/2021/05_may/22_sat/img_1621670424502_975.jpg?\"></meta>\\n    <meta itemprop=\"width\" content=\"864\"></meta>\\n    <meta itemprop=\"height\" content=\"483\"></meta>\\n  </span>\\n  <span itemtype=\"https://schema.org/Organization\" itemscope=\"itemscope\" itemprop=\"publisher\">\\n    <span itemprop=\"url\" content=\"https://inshorts.com/\"></span>\\n    <span itemprop=\"name\" content=\"Inshorts\"></span>\\n    <span itemprop=\"logo\" itemscope itemtype=\"https://schema.org/ImageObject\">\\n      <span itemprop=\"url\" content=\"https://assets.inshorts.com/inshorts/images/v1/variants/jpg/m/2018/11_nov/21_wed/img_1542823931298_497.jpg\"></span>\\n      <meta itemprop=\"width\" content=\"400\"></meta>\\n      <meta itemprop=\"height\" content=\"60\"></meta>\\n    </span>\\n  </span>\\n  <div class=\"news-card-image\" style= \"background-image: url(\\'https://static.inshorts.com/inshorts/images/v1/variants/jpg/m/2021/05_may/22_sat/img_1621670424502_975.jpg?\\')\">\\n  </div>\\n  <div class=\"news-card-title news-right-box\">\\n    <a class=\"clickable\" onclick=\"track_GA_Mixpanel({\\'hitType\\': \\'event\\', \\'category\\': \\'TitleOfNews\\', \\'action\\': \\'clicked\\', \\'label\\': \\'India&#39;s%20COVID-19%20crisis%20a%20warning%20for%20low%20%26%20middle-income%20nations%3A%20IMF)\\' });\"  style=\"color:#44444d!important\" href=\"/en/news/indias-covid19-crisis-a-warning-for-low-middleincome-nations-imf-1621671945453\">\\n      <span itemprop=\"headline\">India&#39;s COVID-19 crisis a warning for low &amp; middle-income nations: IMF</span>\\n    </a>\\n    <div class=\"news-card-author-time news-card-author-time-in-title\">\\n      <a href=\"/prev/en/news/indias-covid19-crisis-a-warning-for-low-middleincome-nations-imf-1621671945453\"><span class=\"short\">short</span></a> by <span class=\"author\">Kiran Khatri</span> / \\n      <span class=\"time\" itemprop=\"datePublished\" content=\"2021-05-22T08:25:45.000Z\">01:55 pm</span> on <span clas=\"date\">22 May 2021,Saturday</span>\\n    </div>\\n  </div>\\n  <div class=\"news-card-content news-right-box\">\\n    <div itemprop=\"articleBody\">The International Monetary Fund has said that the ongoing second COVID-19 wave in India, following a &#34;terrible wave&#34; in Brazil, is a &#34;sign the worst may be yet to come&#34; for developing countries. &#34;India is a warning of possible events in other low and middle-income countries that so far have seemingly escaped the pandemic, including in Africa,&#34; the IMF added.</div>\\n    <div class=\"news-card-author-time news-card-author-time-in-content\">\\n      <a href=\"/prev/en/news/indias-covid19-crisis-a-warning-for-low-middleincome-nations-imf-1621671945453\"><span class=\"short\">short</span></a> by <span class=\"author\">Kiran Khatri</span> / \\n      <span class=\"time\" itemprop=\"dateModified\" content=\"2021-05-22T08:25:45.000Z\" >01:55 pm</span> on <span class=\"date\">22 May</span>\\n    </div>\\n  </div>\\n  \\n\\n</div>\\n\\n  \\n</div>\\n\\n\\n\\n\\n<div class=\"\">\\n<div class=\"news-card z-depth-1\" itemscope itemtype=\"http://schema.org/NewsArticle\">\\n  <span content=\"\" itemscope itemprop=\"mainEntityOfPage\" itemType=\"https://schema.org/WebPage\" itemid=\"https://inshorts.com/en/news/what-is-vaccine-tourism-and-can-indians-go-abroad-for-covid19-vaccine-shots-1621611332585\"></span>\\n  <span itemtype=\"https://schema.org/Person\" itemscope=\"itemscope\" itemprop=\"author\">\\n    <span itemprop=\"name\" content=\"Arshiya Chopra\"></span>\\n  </span>\\n  <span itemprop=\"description\" content=\"What is &#39;vaccine tourism&#39; and can Indians go abroad for Covid-19 vaccine shots?\"></span>\\n  <span itemprop=\"image\" itemscope itemtype=\"https://schema.org/ImageObject\">\\n    <meta itemprop=\"url\" content=\"https://static.inshorts.com/inshorts/images/v1/variants/jpg/m/2021/05_may/21_fri/img_1621609060522_712.jpg?\"></meta>\\n    <meta itemprop=\"width\" content=\"864\"></meta>\\n    <meta itemprop=\"height\" content=\"483\"></meta>\\n  </span>\\n  <span itemtype=\"https://schema.org/Organization\" itemscope=\"itemscope\" itemprop=\"publisher\">\\n    <span itemprop=\"url\" content=\"https://inshorts.com/\"></span>\\n    <span itemprop=\"name\" content=\"Inshorts\"></span>\\n    <span itemprop=\"logo\" itemscope itemtype=\"https://schema.org/ImageObject\">\\n      <span itemprop=\"url\" content=\"https://assets.inshorts.com/inshorts/images/v1/variants/jpg/m/2018/11_nov/21_wed/img_1542823931298_497.jpg\"></span>\\n      <meta itemprop=\"width\" content=\"400\"></meta>\\n      <meta itemprop=\"height\" content=\"60\"></meta>\\n    </span>\\n  </span>\\n  <div class=\"news-card-image\" style= \"background-image: url(\\'https://static.inshorts.com/inshorts/images/v1/variants/jpg/m/2021/05_may/21_fri/img_1621609060522_712.jpg?\\')\">\\n  </div>\\n  <div class=\"news-card-title news-right-box\">\\n    <a class=\"clickable\" onclick=\"track_GA_Mixpanel({\\'hitType\\': \\'event\\', \\'category\\': \\'TitleOfNews\\', \\'action\\': \\'clicked\\', \\'label\\': \\'What%20is%20&#39;vaccine%20tourism&#39;%20and%20can%20Indians%20go%20abroad%20for%20Covid-19%20vaccine%20shots%3F)\\' });\"  style=\"color:#44444d!important\" href=\"/en/news/what-is-vaccine-tourism-and-can-indians-go-abroad-for-covid19-vaccine-shots-1621611332585\">\\n      <span itemprop=\"headline\">What is &#39;vaccine tourism&#39; and can Indians go abroad for Covid-19 vaccine shots?</span>\\n    </a>\\n    <div class=\"news-card-author-time news-card-author-time-in-title\">\\n      <a href=\"/prev/en/news/what-is-vaccine-tourism-and-can-indians-go-abroad-for-covid19-vaccine-shots-1621611332585\"><span class=\"short\">short</span></a> by <span class=\"author\">Arshiya Chopra</span> / \\n      <span class=\"time\" itemprop=\"datePublished\" content=\"2021-05-21T15:35:32.000Z\">09:05 pm</span> on <span clas=\"date\">21 May 2021,Friday</span>\\n    </div>\\n  </div>\\n  <div class=\"news-card-content news-right-box\">\\n    <div itemprop=\"articleBody\">Vaccine tourism usually refers to visiting another country or state to get a vaccine. Recently, an agency launched a \\xe2\\x82\\xb91.3-lakh tour package promising Indian tourists trip to Russia and two Sputnik V vaccine doses. Several Indians recently visited Dubai to avail China&#39;s Sinopharm vaccine shots. It&#39;s currently not illegal to travel abroad to get vaccinated if air travel is allowed.</div>\\n    <div class=\"news-card-author-time news-card-author-time-in-content\">\\n      <a href=\"/prev/en/news/what-is-vaccine-tourism-and-can-indians-go-abroad-for-covid19-vaccine-shots-1621611332585\"><span class=\"short\">short</span></a> by <span class=\"author\">Arshiya Chopra</span> / \\n      <span class=\"time\" itemprop=\"dateModified\" content=\"2021-05-21T15:35:32.000Z\" >09:05 pm</span> on <span class=\"date\">21 May</span>\\n    </div>\\n  </div>\\n  \\n\\n</div>\\n\\n  \\n</div>\\n\\n\\n\\n\\n<div class=\"\">\\n<div class=\"news-card z-depth-1\" itemscope itemtype=\"http://schema.org/NewsArticle\">\\n  <span content=\"\" itemscope itemprop=\"mainEntityOfPage\" itemType=\"https://schema.org/WebPage\" itemid=\"https://inshorts.com/en/news/pak-min-accused-of-antisemitism-over-interview-israel-says-sorry-to-hear-his-remarks-1621614925781\"></span>\\n  <span itemtype=\"https://schema.org/Person\" itemscope=\"itemscope\" itemprop=\"author\">\\n    <span itemprop=\"name\" content=\"Daisy Mowke\"></span>\\n  </span>\\n  <span itemprop=\"description\" content=\"Pak min accused of anti-Semitism over interview, Israel says &#39;sorry to hear his remarks&#39;\"></span>\\n  <span itemprop=\"image\" itemscope itemtype=\"https://schema.org/ImageObject\">\\n    <meta itemprop=\"url\" content=\"https://static.inshorts.com/inshorts/images/v1/variants/jpg/m/2021/05_may/21_fri/img_1621612768701_398.jpg?\"></meta>\\n    <meta itemprop=\"width\" content=\"864\"></meta>\\n    <meta itemprop=\"height\" content=\"483\"></meta>\\n  </span>\\n  <span itemtype=\"https://schema.org/Organization\" itemscope=\"itemscope\" itemprop=\"publisher\">\\n    <span itemprop=\"url\" content=\"https://inshorts.com/\"></span>\\n    <span itemprop=\"name\" content=\"Inshorts\"></span>\\n    <span itemprop=\"logo\" itemscope itemtype=\"https://schema.org/ImageObject\">\\n      <span itemprop=\"url\" content=\"https://assets.inshorts.com/inshorts/images/v1/variants/jpg/m/2018/11_nov/21_wed/img_1542823931298_497.jpg\"></span>\\n      <meta itemprop=\"width\" content=\"400\"></meta>\\n      <meta itemprop=\"height\" content=\"60\"></meta>\\n    </span>\\n  </span>\\n  <div class=\"news-card-image\" style= \"background-image: url(\\'https://static.inshorts.com/inshorts/images/v1/variants/jpg/m/2021/05_may/21_fri/img_1621612768701_398.jpg?\\')\">\\n  </div>\\n  <div class=\"news-card-title news-right-box\">\\n    <a class=\"clickable\" onclick=\"track_GA_Mixpanel({\\'hitType\\': \\'event\\', \\'category\\': \\'TitleOfNews\\', \\'action\\': \\'clicked\\', \\'label\\': \\'Pak%20min%20accused%20of%20anti-Semitism%20over%20interview%2C%20Israel%20says%20&#39;sorry%20to%20hear%20his%20remarks&#39;)\\' });\"  style=\"color:#44444d!important\" href=\"/en/news/pak-min-accused-of-antisemitism-over-interview-israel-says-sorry-to-hear-his-remarks-1621614925781\">\\n      <span itemprop=\"headline\">Pak min accused of anti-Semitism over interview, Israel says &#39;sorry to hear his remarks&#39;</span>\\n    </a>\\n    <div class=\"news-card-author-time news-card-author-time-in-title\">\\n      <a href=\"/prev/en/news/pak-min-accused-of-antisemitism-over-interview-israel-says-sorry-to-hear-his-remarks-1621614925781\"><span class=\"short\">short</span></a> by <span class=\"author\">Daisy Mowke</span> / \\n      <span class=\"time\" itemprop=\"datePublished\" content=\"2021-05-21T16:35:25.000Z\">10:05 pm</span> on <span clas=\"date\">21 May 2021,Friday</span>\\n    </div>\\n  </div>\\n  <div class=\"news-card-content news-right-box\">\\n    <div itemprop=\"articleBody\">Israel has expressed regret over Pakistan Foreign Minister Shah Mahmood Qureshi&#39;s alleged anti-Semitic remark. During a CNN interview, Qureshi said, &#34;Israel is losing...media war despite...connections, deep pockets and [ability to] control media.&#34; &#34;I&#39;m sorry to hear [Qureshi]...expressed himself in anti-Semitic manner,&#34; Rony Yedidia Clein, Deputy Chief of Mission, Israel Embassy in India, said.\\n\\n\\n</div>\\n    <div class=\"news-card-author-time news-card-author-time-in-content\">\\n      <a href=\"/prev/en/news/pak-min-accused-of-antisemitism-over-interview-israel-says-sorry-to-hear-his-remarks-1621614925781\"><span class=\"short\">short</span></a> by <span class=\"author\">Daisy Mowke</span> / \\n      <span class=\"time\" itemprop=\"dateModified\" content=\"2021-05-21T16:35:25.000Z\" >10:05 pm</span> on <span class=\"date\">21 May</span>\\n    </div>\\n  </div>\\n  \\n    <div class=\"news-card-footer news-right-box\">\\n      <div class=\"read-more\">read more at <a class=\"source\" onclick=\"track_GA_Mixpanel({\\'hitType\\': \\'event\\', \\'category\\': \\'ReadMore\\', \\'action\\': \\'clicked\\', \\'label\\': \\'WION\\' });\" target=\"_blank\" href=\"https://www.wionews.com/south-asia/sorry-to-hear-pak-foreign-minister-shah-mahmood-qureshi-expressing-himself-in-anti-semitic-manner-says-israeli-diplomat-386547/amp?utm_campaign=fullarticle&amp;utm_medium=referral&amp;utm_source=inshorts \">WION</a></div>\\n    </div>\\n  \\n\\n</div>\\n\\n  \\n</div>\\n\\n\\n\\n\\n<div class=\"\">\\n<div class=\"news-card z-depth-1\" itemscope itemtype=\"http://schema.org/NewsArticle\">\\n  <span content=\"\" itemscope itemprop=\"mainEntityOfPage\" itemType=\"https://schema.org/WebPage\" itemid=\"https://inshorts.com/en/news/spanish-volunteer-abused-online-after-pic-of-her-hugging\\xc2\\xa0african-migrant-goes-viral-1621657112018\"></span>\\n  <span itemtype=\"https://schema.org/Person\" itemscope=\"itemscope\" itemprop=\"author\">\\n    <span itemprop=\"name\" content=\"Anmol Sharma\"></span>\\n  </span>\\n  <span itemprop=\"description\" content=\"Spanish volunteer abused online after pic of her hugging\\xc2\\xa0African migrant goes viral\"></span>\\n  <span itemprop=\"image\" itemscope itemtype=\"https://schema.org/ImageObject\">\\n    <meta itemprop=\"url\" content=\"https://static.inshorts.com/inshorts/images/v1/variants/jpg/m/2021/05_may/22_sat/img_1621655224040_26.jpg?\"></meta>\\n    <meta itemprop=\"width\" content=\"864\"></meta>\\n    <meta itemprop=\"height\" content=\"483\"></meta>\\n  </span>\\n  <span itemtype=\"https://schema.org/Organization\" itemscope=\"itemscope\" itemprop=\"publisher\">\\n    <span itemprop=\"url\" content=\"https://inshorts.com/\"></span>\\n    <span itemprop=\"name\" content=\"Inshorts\"></span>\\n    <span itemprop=\"logo\" itemscope itemtype=\"https://schema.org/ImageObject\">\\n      <span itemprop=\"url\" content=\"https://assets.inshorts.com/inshorts/images/v1/variants/jpg/m/2018/11_nov/21_wed/img_1542823931298_497.jpg\"></span>\\n      <meta itemprop=\"width\" content=\"400\"></meta>\\n      <meta itemprop=\"height\" content=\"60\"></meta>\\n    </span>\\n  </span>\\n  <div class=\"news-card-image\" style= \"background-image: url(\\'https://static.inshorts.com/inshorts/images/v1/variants/jpg/m/2021/05_may/22_sat/img_1621655224040_26.jpg?\\')\">\\n  </div>\\n  <div class=\"news-card-title news-right-box\">\\n    <a class=\"clickable\" onclick=\"track_GA_Mixpanel({\\'hitType\\': \\'event\\', \\'category\\': \\'TitleOfNews\\', \\'action\\': \\'clicked\\', \\'label\\': \\'Spanish%20volunteer%20abused%20online%20after%20pic%20of%20her%20hugging%C2%A0African%20migrant%20goes%20viral)\\' });\"  style=\"color:#44444d!important\" href=\"/en/news/spanish-volunteer-abused-online-after-pic-of-her-hugging\\xc2\\xa0african-migrant-goes-viral-1621657112018\">\\n      <span itemprop=\"headline\">Spanish volunteer abused online after pic of her hugging\\xc2\\xa0African migrant goes viral</span>\\n    </a>\\n    <div class=\"news-card-author-time news-card-author-time-in-title\">\\n      <a href=\"/prev/en/news/spanish-volunteer-abused-online-after-pic-of-her-hugging\\xc2\\xa0african-migrant-goes-viral-1621657112018\"><span class=\"short\">short</span></a> by <span class=\"author\">Anmol Sharma</span> / \\n      <span class=\"time\" itemprop=\"datePublished\" content=\"2021-05-22T04:18:32.000Z\">09:48 am</span> on <span clas=\"date\">22 May 2021,Saturday</span>\\n    </div>\\n  </div>\\n  <div class=\"news-card-content news-right-box\">\\n    <div itemprop=\"articleBody\">Luna Reyes, a 20-year-old Spanish Red Cross volunteer, said she has been abused on social media with sexist and racist comments after a picture of her comforting a Senegalese migrant went viral. She was targeted by supporters of Spain&#39;s far-right Vox party after record 8,000 migrants entered Ceuta from Morocco. &#34;He hugged me...That embrace was his lifeline,&#34; the volunteer said.</div>\\n    <div class=\"news-card-author-time news-card-author-time-in-content\">\\n      <a href=\"/prev/en/news/spanish-volunteer-abused-online-after-pic-of-her-hugging\\xc2\\xa0african-migrant-goes-viral-1621657112018\"><span class=\"short\">short</span></a> by <span class=\"author\">Anmol Sharma</span> / \\n      <span class=\"time\" itemprop=\"dateModified\" content=\"2021-05-22T04:18:32.000Z\" >09:48 am</span> on <span class=\"date\">22 May</span>\\n    </div>\\n  </div>\\n  \\n    <div class=\"news-card-footer news-right-box\">\\n      <div class=\"read-more\">read more at <a class=\"source\" onclick=\"track_GA_Mixpanel({\\'hitType\\': \\'event\\', \\'category\\': \\'ReadMore\\', \\'action\\': \\'clicked\\', \\'label\\': \\'Twitter\\' });\" target=\"_blank\" href=\"https://twitter.com/CruzRojaEsp/status/1395124633247047684?ref_src=twsrc%5Etfw%7Ctwcamp%5Etweetembed%7Ctwterm%5E1395124633247047684%7Ctwgr%5E%7Ctwcon%5Es1_&amp;utm_campaign=fullarticle&amp;utm_medium=referral&amp;ref_url=https%3A%2F%2Fwww.theguardian.com%2Fworld%2F2021%2Fmay%2F20%2Fspanish-aid-volunteer-luna-reyes-abused-online-for-hugging-african-migrant&amp;utm_source=inshorts \">Twitter</a></div>\\n    </div>\\n  \\n\\n</div>\\n\\n  \\n</div>\\n\\n\\n\\n\\n  \\n    <div id=\\'div-gpt-ad-1536748319959-7ymi9st9-1\\' style=\\'height:250px; width:900px; margin: auto; margin-bottom: 2%;\\'>\\n      <script>\\n        googletag.cmd.push(function() { \\n          //News banner for desktop\\n          var slotIdWeb = \\'div-gpt-ad-1536748319959-7ymi9st9-1\\';\\n          var slot = googletag.defineSlot(\\'/142919096/inshorts_website_900x250\\', [900, 250], slotIdWeb)\\n          .addService(googletag.pubads())\\n          .setCollapseEmptyDiv(true,true);\\n\\n          googletag.display(\\'div-gpt-ad-1536748319959-7ymi9st9-1\\');\\n          googletag.pubads().refresh([slot]);\\n        });\\n      </script>\\n    </div>\\n  \\n\\n<div class=\"\">\\n<div class=\"news-card z-depth-1\" itemscope itemtype=\"http://schema.org/NewsArticle\">\\n  <span content=\"\" itemscope itemprop=\"mainEntityOfPage\" itemType=\"https://schema.org/WebPage\" itemid=\"https://inshorts.com/en/news/us-flight-makes-emergency-landing-after-passenger-snorts-white-substance-gropes-woman-1621653851950\"></span>\\n  <span itemtype=\"https://schema.org/Person\" itemscope=\"itemscope\" itemprop=\"author\">\\n    <span itemprop=\"name\" content=\"Anmol Sharma\"></span>\\n  </span>\\n  <span itemprop=\"description\" content=\"US flight makes emergency landing after passenger snorts white substance, gropes woman\"></span>\\n  <span itemprop=\"image\" itemscope itemtype=\"https://schema.org/ImageObject\">\\n    <meta itemprop=\"url\" content=\"https://static.inshorts.com/inshorts/images/v1/variants/jpg/m/2021/05_may/22_sat/img_1621653539779_928.jpg?\"></meta>\\n    <meta itemprop=\"width\" content=\"864\"></meta>\\n    <meta itemprop=\"height\" content=\"483\"></meta>\\n  </span>\\n  <span itemtype=\"https://schema.org/Organization\" itemscope=\"itemscope\" itemprop=\"publisher\">\\n    <span itemprop=\"url\" content=\"https://inshorts.com/\"></span>\\n    <span itemprop=\"name\" content=\"Inshorts\"></span>\\n    <span itemprop=\"logo\" itemscope itemtype=\"https://schema.org/ImageObject\">\\n      <span itemprop=\"url\" content=\"https://assets.inshorts.com/inshorts/images/v1/variants/jpg/m/2018/11_nov/21_wed/img_1542823931298_497.jpg\"></span>\\n      <meta itemprop=\"width\" content=\"400\"></meta>\\n      <meta itemprop=\"height\" content=\"60\"></meta>\\n    </span>\\n  </span>\\n  <div class=\"news-card-image\" style= \"background-image: url(\\'https://static.inshorts.com/inshorts/images/v1/variants/jpg/m/2021/05_may/22_sat/img_1621653539779_928.jpg?\\')\">\\n  </div>\\n  <div class=\"news-card-title news-right-box\">\\n    <a class=\"clickable\" onclick=\"track_GA_Mixpanel({\\'hitType\\': \\'event\\', \\'category\\': \\'TitleOfNews\\', \\'action\\': \\'clicked\\', \\'label\\': \\'US%20flight%20makes%20emergency%20landing%20after%20passenger%20snorts%20white%20substance%2C%20gropes%20woman)\\' });\"  style=\"color:#44444d!important\" href=\"/en/news/us-flight-makes-emergency-landing-after-passenger-snorts-white-substance-gropes-woman-1621653851950\">\\n      <span itemprop=\"headline\">US flight makes emergency landing after passenger snorts white substance, gropes woman</span>\\n    </a>\\n    <div class=\"news-card-author-time news-card-author-time-in-title\">\\n      <a href=\"/prev/en/news/us-flight-makes-emergency-landing-after-passenger-snorts-white-substance-gropes-woman-1621653851950\"><span class=\"short\">short</span></a> by <span class=\"author\">Anmol Sharma</span> / \\n      <span class=\"time\" itemprop=\"datePublished\" content=\"2021-05-22T03:24:11.000Z\">08:54 am</span> on <span clas=\"date\">22 May 2021,Saturday</span>\\n    </div>\\n  </div>\\n  <div class=\"news-card-content news-right-box\">\\n    <div itemprop=\"articleBody\">A JetBlue flight was forced to make an emergency landing in US&#39; Minneapolis after a man was acting &#34;erratically and aggressively&#34; towards passengers and crew members, the airline said. The man refused to keep his mask on, groped a woman and was also seen snorting a white substance, as per officials. He was arrested at the Minneapolis Airport.</div>\\n    <div class=\"news-card-author-time news-card-author-time-in-content\">\\n      <a href=\"/prev/en/news/us-flight-makes-emergency-landing-after-passenger-snorts-white-substance-gropes-woman-1621653851950\"><span class=\"short\">short</span></a> by <span class=\"author\">Anmol Sharma</span> / \\n      <span class=\"time\" itemprop=\"dateModified\" content=\"2021-05-22T03:24:11.000Z\" >08:54 am</span> on <span class=\"date\">22 May</span>\\n    </div>\\n  </div>\\n  \\n    <div class=\"news-card-footer news-right-box\">\\n      <div class=\"read-more\">read more at <a class=\"source\" onclick=\"track_GA_Mixpanel({\\'hitType\\': \\'event\\', \\'category\\': \\'ReadMore\\', \\'action\\': \\'clicked\\', \\'label\\': \\'Business%20Insider\\' });\" target=\"_blank\" href=\"https://www.businessinsider.in/thelife/news/a-jetblue-was-forced-to-divert-after-a-passenger-was-seen-snorting-a-white-substance-and-acting-erratically/amp_articleshow/82755637.cms?utm_campaign=fullarticle&amp;utm_medium=referral&amp;utm_source=inshorts \">Business Insider</a></div>\\n    </div>\\n  \\n\\n</div>\\n\\n  \\n</div>\\n\\n\\n\\n\\n<div class=\"\">\\n<div class=\"news-card z-depth-1\" itemscope itemtype=\"http://schema.org/NewsArticle\">\\n  <span content=\"\" itemscope itemprop=\"mainEntityOfPage\" itemType=\"https://schema.org/WebPage\" itemid=\"https://inshorts.com/en/news/dubai-crown-prince-blessed-with-twins-shares-pic-1621653367723\"></span>\\n  <span itemtype=\"https://schema.org/Person\" itemscope=\"itemscope\" itemprop=\"author\">\\n    <span itemprop=\"name\" content=\"Anmol Sharma\"></span>\\n  </span>\\n  <span itemprop=\"description\" content=\"Dubai Crown Prince blessed with twins, shares pic\"></span>\\n  <span itemprop=\"image\" itemscope itemtype=\"https://schema.org/ImageObject\">\\n    <meta itemprop=\"url\" content=\"https://static.inshorts.com/inshorts/images/v1/variants/jpg/m/2021/05_may/22_sat/img_1621652019959_552.jpg?\"></meta>\\n    <meta itemprop=\"width\" content=\"864\"></meta>\\n    <meta itemprop=\"height\" content=\"483\"></meta>\\n  </span>\\n  <span itemtype=\"https://schema.org/Organization\" itemscope=\"itemscope\" itemprop=\"publisher\">\\n    <span itemprop=\"url\" content=\"https://inshorts.com/\"></span>\\n    <span itemprop=\"name\" content=\"Inshorts\"></span>\\n    <span itemprop=\"logo\" itemscope itemtype=\"https://schema.org/ImageObject\">\\n      <span itemprop=\"url\" content=\"https://assets.inshorts.com/inshorts/images/v1/variants/jpg/m/2018/11_nov/21_wed/img_1542823931298_497.jpg\"></span>\\n      <meta itemprop=\"width\" content=\"400\"></meta>\\n      <meta itemprop=\"height\" content=\"60\"></meta>\\n    </span>\\n  </span>\\n  <div class=\"news-card-image\" style= \"background-image: url(\\'https://static.inshorts.com/inshorts/images/v1/variants/jpg/m/2021/05_may/22_sat/img_1621652019959_552.jpg?\\')\">\\n  </div>\\n  <div class=\"news-card-title news-right-box\">\\n    <a class=\"clickable\" onclick=\"track_GA_Mixpanel({\\'hitType\\': \\'event\\', \\'category\\': \\'TitleOfNews\\', \\'action\\': \\'clicked\\', \\'label\\': \\'Dubai%20Crown%20Prince%20blessed%20with%20twins%2C%20shares%20pic)\\' });\"  style=\"color:#44444d!important\" href=\"/en/news/dubai-crown-prince-blessed-with-twins-shares-pic-1621653367723\">\\n      <span itemprop=\"headline\">Dubai Crown Prince blessed with twins, shares pic</span>\\n    </a>\\n    <div class=\"news-card-author-time news-card-author-time-in-title\">\\n      <a href=\"/prev/en/news/dubai-crown-prince-blessed-with-twins-shares-pic-1621653367723\"><span class=\"short\">short</span></a> by <span class=\"author\">Anmol Sharma</span> / \\n      <span class=\"time\" itemprop=\"datePublished\" content=\"2021-05-22T03:16:07.000Z\">08:46 am</span> on <span clas=\"date\">22 May 2021,Saturday</span>\\n    </div>\\n  </div>\\n  <div class=\"news-card-content news-right-box\">\\n    <div itemprop=\"articleBody\">Sheikh Hamdan Bin Mohammed Bin Rashid Al Maktoum, Dubai Crown Prince and Chairman of the Dubai Executive Council, has been blessed with twins, a boy and a girl. He took to social media to share a picture of himself with the twins. The baby boy has been named Rashid, while the baby girl is named Sheikha.</div>\\n    <div class=\"news-card-author-time news-card-author-time-in-content\">\\n      <a href=\"/prev/en/news/dubai-crown-prince-blessed-with-twins-shares-pic-1621653367723\"><span class=\"short\">short</span></a> by <span class=\"author\">Anmol Sharma</span> / \\n      <span class=\"time\" itemprop=\"dateModified\" content=\"2021-05-22T03:16:07.000Z\" >08:46 am</span> on <span class=\"date\">22 May</span>\\n    </div>\\n  </div>\\n  \\n    <div class=\"news-card-footer news-right-box\">\\n      <div class=\"read-more\">read more at <a class=\"source\" onclick=\"track_GA_Mixpanel({\\'hitType\\': \\'event\\', \\'category\\': \\'ReadMore\\', \\'action\\': \\'clicked\\', \\'label\\': \\'Instagram\\' });\" target=\"_blank\" href=\"https://www.instagram.com/p/CPJDTDPJwjG/?utm_campaign=fullarticle&amp;utm_medium=referral&amp;utm_source=inshorts \">Instagram</a></div>\\n    </div>\\n  \\n\\n</div>\\n\\n  \\n</div>\\n\\n\\n\\n\\n<div class=\"\">\\n<div class=\"news-card z-depth-1\" itemscope itemtype=\"http://schema.org/NewsArticle\">\\n  <span content=\"\" itemscope itemprop=\"mainEntityOfPage\" itemType=\"https://schema.org/WebPage\" itemid=\"https://inshorts.com/en/news/spain-to-allow-all-vaccinated-travellers-in-from-jun-7-pm-sanchez-1621656892317\"></span>\\n  <span itemtype=\"https://schema.org/Person\" itemscope=\"itemscope\" itemprop=\"author\">\\n    <span itemprop=\"name\" content=\"Athira Sasidharan\"></span>\\n  </span>\\n  <span itemprop=\"description\" content=\"Spain to allow all vaccinated travellers in from Jun 7: PM Sanchez\"></span>\\n  <span itemprop=\"image\" itemscope itemtype=\"https://schema.org/ImageObject\">\\n    <meta itemprop=\"url\" content=\"https://static.inshorts.com/inshorts/images/v1/variants/jpg/m/2021/05_may/22_sat/img_1621654095199_982.jpg?\"></meta>\\n    <meta itemprop=\"width\" content=\"864\"></meta>\\n    <meta itemprop=\"height\" content=\"483\"></meta>\\n  </span>\\n  <span itemtype=\"https://schema.org/Organization\" itemscope=\"itemscope\" itemprop=\"publisher\">\\n    <span itemprop=\"url\" content=\"https://inshorts.com/\"></span>\\n    <span itemprop=\"name\" content=\"Inshorts\"></span>\\n    <span itemprop=\"logo\" itemscope itemtype=\"https://schema.org/ImageObject\">\\n      <span itemprop=\"url\" content=\"https://assets.inshorts.com/inshorts/images/v1/variants/jpg/m/2018/11_nov/21_wed/img_1542823931298_497.jpg\"></span>\\n      <meta itemprop=\"width\" content=\"400\"></meta>\\n      <meta itemprop=\"height\" content=\"60\"></meta>\\n    </span>\\n  </span>\\n  <div class=\"news-card-image\" style= \"background-image: url(\\'https://static.inshorts.com/inshorts/images/v1/variants/jpg/m/2021/05_may/22_sat/img_1621654095199_982.jpg?\\')\">\\n  </div>\\n  <div class=\"news-card-title news-right-box\">\\n    <a class=\"clickable\" onclick=\"track_GA_Mixpanel({\\'hitType\\': \\'event\\', \\'category\\': \\'TitleOfNews\\', \\'action\\': \\'clicked\\', \\'label\\': \\'Spain%20to%20allow%20all%20vaccinated%20travellers%20in%20from%20Jun%207%3A%20PM%20Sanchez)\\' });\"  style=\"color:#44444d!important\" href=\"/en/news/spain-to-allow-all-vaccinated-travellers-in-from-jun-7-pm-sanchez-1621656892317\">\\n      <span itemprop=\"headline\">Spain to allow all vaccinated travellers in from Jun 7: PM Sanchez</span>\\n    </a>\\n    <div class=\"news-card-author-time news-card-author-time-in-title\">\\n      <a href=\"/prev/en/news/spain-to-allow-all-vaccinated-travellers-in-from-jun-7-pm-sanchez-1621656892317\"><span class=\"short\">short</span></a> by <span class=\"author\">Athira Sasidharan</span> / \\n      <span class=\"time\" itemprop=\"datePublished\" content=\"2021-05-22T04:14:52.000Z\">09:44 am</span> on <span clas=\"date\">22 May 2021,Saturday</span>\\n    </div>\\n  </div>\\n  <div class=\"news-card-content news-right-box\">\\n    <div itemprop=\"articleBody\">Spain will allow all vaccinated travellers from June 7 &#34;regardless of their country of origin&#34;, PM Pedro Sanchez said. Tourists from 10 non-EU countries deemed low-risk, including UK and Israel, will be allowed to enter without a negative COVID-19 test from May 24, he added. Spain, the second-most visited country before pandemic, expects around 4.5 crore foreign tourists this year. </div>\\n    <div class=\"news-card-author-time news-card-author-time-in-content\">\\n      <a href=\"/prev/en/news/spain-to-allow-all-vaccinated-travellers-in-from-jun-7-pm-sanchez-1621656892317\"><span class=\"short\">short</span></a> by <span class=\"author\">Athira Sasidharan</span> / \\n      <span class=\"time\" itemprop=\"dateModified\" content=\"2021-05-22T04:14:52.000Z\" >09:44 am</span> on <span class=\"date\">22 May</span>\\n    </div>\\n  </div>\\n  \\n    <div class=\"news-card-footer news-right-box\">\\n      <div class=\"read-more\">read more at <a class=\"source\" onclick=\"track_GA_Mixpanel({\\'hitType\\': \\'event\\', \\'category\\': \\'ReadMore\\', \\'action\\': \\'clicked\\', \\'label\\': \\'Reuters\\' });\" target=\"_blank\" href=\"https://www.reuters.com/world/europe/spain-let-vaccinated-travellers-non-eu-countries-june-7-2021-05-21/?utm_campaign=fullarticle&amp;utm_medium=referral&amp;utm_source=inshorts \">Reuters</a></div>\\n    </div>\\n  \\n\\n</div>\\n\\n  \\n</div>\\n\\n\\n\\n\\n<div class=\"\">\\n<div class=\"news-card z-depth-1\" itemscope itemtype=\"http://schema.org/NewsArticle\">\\n  <span content=\"\" itemscope itemprop=\"mainEntityOfPage\" itemType=\"https://schema.org/WebPage\" itemid=\"https://inshorts.com/en/news/canada-extends-ban-on-passenger-flights-from-india-pak-till-jun-21-1621653406213\"></span>\\n  <span itemtype=\"https://schema.org/Person\" itemscope=\"itemscope\" itemprop=\"author\">\\n    <span itemprop=\"name\" content=\"Athira Sasidharan\"></span>\\n  </span>\\n  <span itemprop=\"description\" content=\"Canada extends ban on passenger flights from India, Pak till Jun 21\"></span>\\n  <span itemprop=\"image\" itemscope itemtype=\"https://schema.org/ImageObject\">\\n    <meta itemprop=\"url\" content=\"https://static.inshorts.com/inshorts/images/v1/variants/jpg/m/2021/05_may/22_sat/img_1621651847793_905.jpg?\"></meta>\\n    <meta itemprop=\"width\" content=\"864\"></meta>\\n    <meta itemprop=\"height\" content=\"483\"></meta>\\n  </span>\\n  <span itemtype=\"https://schema.org/Organization\" itemscope=\"itemscope\" itemprop=\"publisher\">\\n    <span itemprop=\"url\" content=\"https://inshorts.com/\"></span>\\n    <span itemprop=\"name\" content=\"Inshorts\"></span>\\n    <span itemprop=\"logo\" itemscope itemtype=\"https://schema.org/ImageObject\">\\n      <span itemprop=\"url\" content=\"https://assets.inshorts.com/inshorts/images/v1/variants/jpg/m/2018/11_nov/21_wed/img_1542823931298_497.jpg\"></span>\\n      <meta itemprop=\"width\" content=\"400\"></meta>\\n      <meta itemprop=\"height\" content=\"60\"></meta>\\n    </span>\\n  </span>\\n  <div class=\"news-card-image\" style= \"background-image: url(\\'https://static.inshorts.com/inshorts/images/v1/variants/jpg/m/2021/05_may/22_sat/img_1621651847793_905.jpg?\\')\">\\n  </div>\\n  <div class=\"news-card-title news-right-box\">\\n    <a class=\"clickable\" onclick=\"track_GA_Mixpanel({\\'hitType\\': \\'event\\', \\'category\\': \\'TitleOfNews\\', \\'action\\': \\'clicked\\', \\'label\\': \\'Canada%20extends%20ban%20on%20passenger%20flights%20from%20India%2C%20Pak%20till%20Jun%2021)\\' });\"  style=\"color:#44444d!important\" href=\"/en/news/canada-extends-ban-on-passenger-flights-from-india-pak-till-jun-21-1621653406213\">\\n      <span itemprop=\"headline\">Canada extends ban on passenger flights from India, Pak till Jun 21</span>\\n    </a>\\n    <div class=\"news-card-author-time news-card-author-time-in-title\">\\n      <a href=\"/prev/en/news/canada-extends-ban-on-passenger-flights-from-india-pak-till-jun-21-1621653406213\"><span class=\"short\">short</span></a> by <span class=\"author\">Athira Sasidharan</span> / \\n      <span class=\"time\" itemprop=\"datePublished\" content=\"2021-05-22T03:16:46.000Z\">08:46 am</span> on <span clas=\"date\">22 May 2021,Saturday</span>\\n    </div>\\n  </div>\\n  <div class=\"news-card-content news-right-box\">\\n    <div itemprop=\"articleBody\">Canada has extended its ban on passenger flights from India and Pakistan until June 21 to combat coronavirus spread, the country&#39;s Transport Minister Omar Alghabra said. Canada has seen a &#34;significant reduction&#34; in COVID-19 cases among arriving airline passengers since the ban was first imposed on April 22, Alghabra added. However, the move will not apply to cargo flights. </div>\\n    <div class=\"news-card-author-time news-card-author-time-in-content\">\\n      <a href=\"/prev/en/news/canada-extends-ban-on-passenger-flights-from-india-pak-till-jun-21-1621653406213\"><span class=\"short\">short</span></a> by <span class=\"author\">Athira Sasidharan</span> / \\n      <span class=\"time\" itemprop=\"dateModified\" content=\"2021-05-22T03:16:46.000Z\" >08:46 am</span> on <span class=\"date\">22 May</span>\\n    </div>\\n  </div>\\n  \\n    <div class=\"news-card-footer news-right-box\">\\n      <div class=\"read-more\">read more at <a class=\"source\" onclick=\"track_GA_Mixpanel({\\'hitType\\': \\'event\\', \\'category\\': \\'ReadMore\\', \\'action\\': \\'clicked\\', \\'label\\': \\'Zee%20News\\' });\" target=\"_blank\" href=\"https://zeenews.india.com/world/canada-extends-ban-on-passenger-flights-from-india-till-june-21-2363552.html/amp?utm_campaign=fullarticle&amp;utm_medium=referral&amp;utm_source=inshorts \">Zee News</a></div>\\n    </div>\\n  \\n\\n</div>\\n\\n  \\n</div>\\n\\n\\n\\n\\n<div class=\"\">\\n<div class=\"news-card z-depth-1\" itemscope itemtype=\"http://schema.org/NewsArticle\">\\n  <span content=\"\" itemscope itemprop=\"mainEntityOfPage\" itemType=\"https://schema.org/WebPage\" itemid=\"https://inshorts.com/en/news/\\xe2\\x82\\xb936cr-lottery-offered-to-new-york-people-to-take-covid19-vaccine-1621662037362\"></span>\\n  <span itemtype=\"https://schema.org/Person\" itemscope=\"itemscope\" itemprop=\"author\">\\n    <span itemprop=\"name\" content=\"Athira Sasidharan\"></span>\\n  </span>\\n  <span itemprop=\"description\" content=\"\\xe2\\x82\\xb936-cr lottery offered to New York people to take COVID-19 vaccine\"></span>\\n  <span itemprop=\"image\" itemscope itemtype=\"https://schema.org/ImageObject\">\\n    <meta itemprop=\"url\" content=\"https://static.inshorts.com/inshorts/images/v1/variants/jpg/m/2021/05_may/22_sat/img_1621659248149_323.jpg?\"></meta>\\n    <meta itemprop=\"width\" content=\"864\"></meta>\\n    <meta itemprop=\"height\" content=\"483\"></meta>\\n  </span>\\n  <span itemtype=\"https://schema.org/Organization\" itemscope=\"itemscope\" itemprop=\"publisher\">\\n    <span itemprop=\"url\" content=\"https://inshorts.com/\"></span>\\n    <span itemprop=\"name\" content=\"Inshorts\"></span>\\n    <span itemprop=\"logo\" itemscope itemtype=\"https://schema.org/ImageObject\">\\n      <span itemprop=\"url\" content=\"https://assets.inshorts.com/inshorts/images/v1/variants/jpg/m/2018/11_nov/21_wed/img_1542823931298_497.jpg\"></span>\\n      <meta itemprop=\"width\" content=\"400\"></meta>\\n      <meta itemprop=\"height\" content=\"60\"></meta>\\n    </span>\\n  </span>\\n  <div class=\"news-card-image\" style= \"background-image: url(\\'https://static.inshorts.com/inshorts/images/v1/variants/jpg/m/2021/05_may/22_sat/img_1621659248149_323.jpg?\\')\">\\n  </div>\\n  <div class=\"news-card-title news-right-box\">\\n    <a class=\"clickable\" onclick=\"track_GA_Mixpanel({\\'hitType\\': \\'event\\', \\'category\\': \\'TitleOfNews\\', \\'action\\': \\'clicked\\', \\'label\\': \\'%E2%82%B936-cr%20lottery%20offered%20to%20New%20York%20people%20to%20take%20COVID-19%20vaccine)\\' });\"  style=\"color:#44444d!important\" href=\"/en/news/\\xe2\\x82\\xb936cr-lottery-offered-to-new-york-people-to-take-covid19-vaccine-1621662037362\">\\n      <span itemprop=\"headline\">\\xe2\\x82\\xb936-cr lottery offered to New York people to take COVID-19 vaccine</span>\\n    </a>\\n    <div class=\"news-card-author-time news-card-author-time-in-title\">\\n      <a href=\"/prev/en/news/\\xe2\\x82\\xb936cr-lottery-offered-to-new-york-people-to-take-covid19-vaccine-1621662037362\"><span class=\"short\">short</span></a> by <span class=\"author\">Athira Sasidharan</span> / \\n      <span class=\"time\" itemprop=\"datePublished\" content=\"2021-05-22T05:40:37.000Z\">11:10 am</span> on <span clas=\"date\">22 May 2021,Saturday</span>\\n    </div>\\n  </div>\\n  <div class=\"news-card-content news-right-box\">\\n    <div itemprop=\"articleBody\">People in New York could win up to $5 million (over \\xe2\\x82\\xb936 crore) from the state lottery if they get COVID-19 vaccine at a state-run clinic, Governor Andrew Cuomo said. &#34;As vaccination rates slow across...state, we&#39;re going to have to get creative to put even more shots in arms,&#34; Cuomo added. &#39;Vax &amp; Scratch&#39; programme will run from May 24-28. </div>\\n    <div class=\"news-card-author-time news-card-author-time-in-content\">\\n      <a href=\"/prev/en/news/\\xe2\\x82\\xb936cr-lottery-offered-to-new-york-people-to-take-covid19-vaccine-1621662037362\"><span class=\"short\">short</span></a> by <span class=\"author\">Athira Sasidharan</span> / \\n      <span class=\"time\" itemprop=\"dateModified\" content=\"2021-05-22T05:40:37.000Z\" >11:10 am</span> on <span class=\"date\">22 May</span>\\n    </div>\\n  </div>\\n  \\n    <div class=\"news-card-footer news-right-box\">\\n      <div class=\"read-more\">read more at <a class=\"source\" onclick=\"track_GA_Mixpanel({\\'hitType\\': \\'event\\', \\'category\\': \\'ReadMore\\', \\'action\\': \\'clicked\\', \\'label\\': \\'Reuters\\' });\" target=\"_blank\" href=\"https://www.reuters.com/world/us/vax-scratch-lottery-scheme-aims-up-new-york-covid-19-shots-2021-05-20/?utm_campaign=fullarticle&amp;utm_medium=referral&amp;utm_source=inshorts \">Reuters</a></div>\\n    </div>\\n  \\n\\n</div>\\n\\n  \\n</div>\\n\\n\\n\\n\\n<div class=\"\">\\n<div class=\"news-card z-depth-1\" itemscope itemtype=\"http://schema.org/NewsArticle\">\\n  <span content=\"\" itemscope itemprop=\"mainEntityOfPage\" itemType=\"https://schema.org/WebPage\" itemid=\"https://inshorts.com/en/news/germany-declares-uk-as-a-virus-variant-region-1621659900506\"></span>\\n  <span itemtype=\"https://schema.org/Person\" itemscope=\"itemscope\" itemprop=\"author\">\\n    <span itemprop=\"name\" content=\"Athira Sasidharan\"></span>\\n  </span>\\n  <span itemprop=\"description\" content=\"Germany declares UK as a &#39;virus variant region&#39; \"></span>\\n  <span itemprop=\"image\" itemscope itemtype=\"https://schema.org/ImageObject\">\\n    <meta itemprop=\"url\" content=\"https://static.inshorts.com/inshorts/images/v1/variants/jpg/m/2021/05_may/22_sat/img_1621656820077_882.jpg?\"></meta>\\n    <meta itemprop=\"width\" content=\"864\"></meta>\\n    <meta itemprop=\"height\" content=\"483\"></meta>\\n  </span>\\n  <span itemtype=\"https://schema.org/Organization\" itemscope=\"itemscope\" itemprop=\"publisher\">\\n    <span itemprop=\"url\" content=\"https://inshorts.com/\"></span>\\n    <span itemprop=\"name\" content=\"Inshorts\"></span>\\n    <span itemprop=\"logo\" itemscope itemtype=\"https://schema.org/ImageObject\">\\n      <span itemprop=\"url\" content=\"https://assets.inshorts.com/inshorts/images/v1/variants/jpg/m/2018/11_nov/21_wed/img_1542823931298_497.jpg\"></span>\\n      <meta itemprop=\"width\" content=\"400\"></meta>\\n      <meta itemprop=\"height\" content=\"60\"></meta>\\n    </span>\\n  </span>\\n  <div class=\"news-card-image\" style= \"background-image: url(\\'https://static.inshorts.com/inshorts/images/v1/variants/jpg/m/2021/05_may/22_sat/img_1621656820077_882.jpg?\\')\">\\n  </div>\\n  <div class=\"news-card-title news-right-box\">\\n    <a class=\"clickable\" onclick=\"track_GA_Mixpanel({\\'hitType\\': \\'event\\', \\'category\\': \\'TitleOfNews\\', \\'action\\': \\'clicked\\', \\'label\\': \\'Germany%20declares%20UK%20as%20a%20&#39;virus%20variant%20region&#39;%20)\\' });\"  style=\"color:#44444d!important\" href=\"/en/news/germany-declares-uk-as-a-virus-variant-region-1621659900506\">\\n      <span itemprop=\"headline\">Germany declares UK as a &#39;virus variant region&#39; </span>\\n    </a>\\n    <div class=\"news-card-author-time news-card-author-time-in-title\">\\n      <a href=\"/prev/en/news/germany-declares-uk-as-a-virus-variant-region-1621659900506\"><span class=\"short\">short</span></a> by <span class=\"author\">Athira Sasidharan</span> / \\n      <span class=\"time\" itemprop=\"datePublished\" content=\"2021-05-22T05:05:00.000Z\">10:35 am</span> on <span clas=\"date\">22 May 2021,Saturday</span>\\n    </div>\\n  </div>\\n  <div class=\"news-card-content news-right-box\">\\n    <div itemprop=\"articleBody\">Germany&#39;s public health institute on Friday declared the UK and Northern Ireland as &#34;a virus variant region&#34; over concerns about the spread of coronavirus variant first detected in India. Britain has reported over 3,400 cases of the variant. The move, which will come into force on Sunday, came just a week after Germany declared UK as a coronavirus &#34;risk area&#34;. </div>\\n    <div class=\"news-card-author-time news-card-author-time-in-content\">\\n      <a href=\"/prev/en/news/germany-declares-uk-as-a-virus-variant-region-1621659900506\"><span class=\"short\">short</span></a> by <span class=\"author\">Athira Sasidharan</span> / \\n      <span class=\"time\" itemprop=\"dateModified\" content=\"2021-05-22T05:05:00.000Z\" >10:35 am</span> on <span class=\"date\">22 May</span>\\n    </div>\\n  </div>\\n  \\n    <div class=\"news-card-footer news-right-box\">\\n      <div class=\"read-more\">read more at <a class=\"source\" onclick=\"track_GA_Mixpanel({\\'hitType\\': \\'event\\', \\'category\\': \\'ReadMore\\', \\'action\\': \\'clicked\\', \\'label\\': \\'DW\\' });\" target=\"_blank\" href=\"https://amp.dw.com/en/coronavirus-germany-declares-uk-a-virus-variant-region/a-57628027?utm_campaign=fullarticle&amp;utm_medium=referral&amp;utm_source=inshorts \">DW</a></div>\\n    </div>\\n  \\n\\n</div>\\n\\n  \\n</div>\\n\\n\\n\\n\\n  \\n    <div id=\\'div-gpt-ad-1536748319959-6qxdotiu-1\\' style=\\'height:250px; width:900px; margin: auto; margin-bottom: 2%;\\'>\\n      <script>\\n        googletag.cmd.push(function() { \\n          //News banner for desktop\\n          var slotIdWeb = \\'div-gpt-ad-1536748319959-6qxdotiu-1\\';\\n          var slot = googletag.defineSlot(\\'/142919096/inshorts_website_900x250\\', [900, 250], slotIdWeb)\\n          .addService(googletag.pubads())\\n          .setCollapseEmptyDiv(true,true);\\n\\n          googletag.display(\\'div-gpt-ad-1536748319959-6qxdotiu-1\\');\\n          googletag.pubads().refresh([slot]);\\n        });\\n      </script>\\n    </div>\\n  \\n\\n<div class=\"\">\\n<div class=\"news-card z-depth-1\" itemscope itemtype=\"http://schema.org/NewsArticle\">\\n  <span content=\"\" itemscope itemprop=\"mainEntityOfPage\" itemType=\"https://schema.org/WebPage\" itemid=\"https://inshorts.com/en/news/covid19-deaths-in-latin-america-exceed-10-lakh-amid-rising-cases-1621676898631\"></span>\\n  <span itemtype=\"https://schema.org/Person\" itemscope=\"itemscope\" itemprop=\"author\">\\n    <span itemprop=\"name\" content=\"Shailesh\"></span>\\n  </span>\\n  <span itemprop=\"description\" content=\"COVID-19 deaths in Latin America exceed 10 lakh amid rising cases\"></span>\\n  <span itemprop=\"image\" itemscope itemtype=\"https://schema.org/ImageObject\">\\n    <meta itemprop=\"url\" content=\"https://static.inshorts.com/inshorts/images/v1/variants/jpg/m/2021/05_may/22_sat/img_1621674013056_776.jpg?\"></meta>\\n    <meta itemprop=\"width\" content=\"864\"></meta>\\n    <meta itemprop=\"height\" content=\"483\"></meta>\\n  </span>\\n  <span itemtype=\"https://schema.org/Organization\" itemscope=\"itemscope\" itemprop=\"publisher\">\\n    <span itemprop=\"url\" content=\"https://inshorts.com/\"></span>\\n    <span itemprop=\"name\" content=\"Inshorts\"></span>\\n    <span itemprop=\"logo\" itemscope itemtype=\"https://schema.org/ImageObject\">\\n      <span itemprop=\"url\" content=\"https://assets.inshorts.com/inshorts/images/v1/variants/jpg/m/2018/11_nov/21_wed/img_1542823931298_497.jpg\"></span>\\n      <meta itemprop=\"width\" content=\"400\"></meta>\\n      <meta itemprop=\"height\" content=\"60\"></meta>\\n    </span>\\n  </span>\\n  <div class=\"news-card-image\" style= \"background-image: url(\\'https://static.inshorts.com/inshorts/images/v1/variants/jpg/m/2021/05_may/22_sat/img_1621674013056_776.jpg?\\')\">\\n  </div>\\n  <div class=\"news-card-title news-right-box\">\\n    <a class=\"clickable\" onclick=\"track_GA_Mixpanel({\\'hitType\\': \\'event\\', \\'category\\': \\'TitleOfNews\\', \\'action\\': \\'clicked\\', \\'label\\': \\'COVID-19%20deaths%20in%20Latin%20America%20exceed%2010%20lakh%20amid%20rising%20cases)\\' });\"  style=\"color:#44444d!important\" href=\"/en/news/covid19-deaths-in-latin-america-exceed-10-lakh-amid-rising-cases-1621676898631\">\\n      <span itemprop=\"headline\">COVID-19 deaths in Latin America exceed 10 lakh amid rising cases</span>\\n    </a>\\n    <div class=\"news-card-author-time news-card-author-time-in-title\">\\n      <a href=\"/prev/en/news/covid19-deaths-in-latin-america-exceed-10-lakh-amid-rising-cases-1621676898631\"><span class=\"short\">short</span></a> by <span class=\"author\">Shailesh</span> / \\n      <span class=\"time\" itemprop=\"datePublished\" content=\"2021-05-22T09:48:18.000Z\">03:18 pm</span> on <span clas=\"date\">22 May 2021,Saturday</span>\\n    </div>\\n  </div>\\n  <div class=\"news-card-content news-right-box\">\\n    <div itemprop=\"articleBody\">The death toll from COVID-19 in Latin America and the Caribbean exceeded 10 lakh on Friday, according to a Reuters tally. South America is the only region where new infections are rising rapidly on a per capita basis, Our World in Data reported. &#34;Just 3% of Latin Americans have been fully vaccinated against COVID-19,&#34; Pan American Health Organization (PAHO) said.</div>\\n    <div class=\"news-card-author-time news-card-author-time-in-content\">\\n      <a href=\"/prev/en/news/covid19-deaths-in-latin-america-exceed-10-lakh-amid-rising-cases-1621676898631\"><span class=\"short\">short</span></a> by <span class=\"author\">Shailesh</span> / \\n      <span class=\"time\" itemprop=\"dateModified\" content=\"2021-05-22T09:48:18.000Z\" >03:18 pm</span> on <span class=\"date\">22 May</span>\\n    </div>\\n  </div>\\n  \\n    <div class=\"news-card-footer news-right-box\">\\n      <div class=\"read-more\">read more at <a class=\"source\" onclick=\"track_GA_Mixpanel({\\'hitType\\': \\'event\\', \\'category\\': \\'ReadMore\\', \\'action\\': \\'clicked\\', \\'label\\': \\'Reuters\\' });\" target=\"_blank\" href=\"https://www.reuters.com/world/americas/covid-19-deaths-latin-america-set-surpass-1-mln-outbreak-worsens-2021-05-21/?utm_campaign=fullarticle&amp;utm_medium=referral&amp;utm_source=inshorts \">Reuters</a></div>\\n    </div>\\n  \\n\\n</div>\\n\\n  \\n</div>\\n\\n\\n\\n\\n<div class=\"\">\\n<div class=\"news-card z-depth-1\" itemscope itemtype=\"http://schema.org/NewsArticle\">\\n  <span content=\"\" itemscope itemprop=\"mainEntityOfPage\" itemType=\"https://schema.org/WebPage\" itemid=\"https://inshorts.com/en/news/french-prez-emmanuel-macron-will-attend-tokyo-olympics-minister-1621666886163\"></span>\\n  <span itemtype=\"https://schema.org/Person\" itemscope=\"itemscope\" itemprop=\"author\">\\n    <span itemprop=\"name\" content=\"Athira Sasidharan\"></span>\\n  </span>\\n  <span itemprop=\"description\" content=\"French Prez Emmanuel Macron will attend Tokyo Olympics: Minister\"></span>\\n  <span itemprop=\"image\" itemscope itemtype=\"https://schema.org/ImageObject\">\\n    <meta itemprop=\"url\" content=\"https://static.inshorts.com/inshorts/images/v1/variants/jpg/m/2021/05_may/22_sat/img_1621664807897_349.jpg?\"></meta>\\n    <meta itemprop=\"width\" content=\"864\"></meta>\\n    <meta itemprop=\"height\" content=\"483\"></meta>\\n  </span>\\n  <span itemtype=\"https://schema.org/Organization\" itemscope=\"itemscope\" itemprop=\"publisher\">\\n    <span itemprop=\"url\" content=\"https://inshorts.com/\"></span>\\n    <span itemprop=\"name\" content=\"Inshorts\"></span>\\n    <span itemprop=\"logo\" itemscope itemtype=\"https://schema.org/ImageObject\">\\n      <span itemprop=\"url\" content=\"https://assets.inshorts.com/inshorts/images/v1/variants/jpg/m/2018/11_nov/21_wed/img_1542823931298_497.jpg\"></span>\\n      <meta itemprop=\"width\" content=\"400\"></meta>\\n      <meta itemprop=\"height\" content=\"60\"></meta>\\n    </span>\\n  </span>\\n  <div class=\"news-card-image\" style= \"background-image: url(\\'https://static.inshorts.com/inshorts/images/v1/variants/jpg/m/2021/05_may/22_sat/img_1621664807897_349.jpg?\\')\">\\n  </div>\\n  <div class=\"news-card-title news-right-box\">\\n    <a class=\"clickable\" onclick=\"track_GA_Mixpanel({\\'hitType\\': \\'event\\', \\'category\\': \\'TitleOfNews\\', \\'action\\': \\'clicked\\', \\'label\\': \\'French%20Prez%20Emmanuel%20Macron%20will%20attend%20Tokyo%20Olympics%3A%20Minister)\\' });\"  style=\"color:#44444d!important\" href=\"/en/news/french-prez-emmanuel-macron-will-attend-tokyo-olympics-minister-1621666886163\">\\n      <span itemprop=\"headline\">French Prez Emmanuel Macron will attend Tokyo Olympics: Minister</span>\\n    </a>\\n    <div class=\"news-card-author-time news-card-author-time-in-title\">\\n      <a href=\"/prev/en/news/french-prez-emmanuel-macron-will-attend-tokyo-olympics-minister-1621666886163\"><span class=\"short\">short</span></a> by <span class=\"author\">Athira Sasidharan</span> / \\n      <span class=\"time\" itemprop=\"datePublished\" content=\"2021-05-22T07:01:26.000Z\">12:31 pm</span> on <span clas=\"date\">22 May 2021,Saturday</span>\\n    </div>\\n  </div>\\n  <div class=\"news-card-content news-right-box\">\\n    <div itemprop=\"articleBody\">French President Emmanuel Macron will attend the opening ceremony of the Tokyo 2020 Olympic Games, Sports Minister Roxana Maracineanu said. &#34;We have to take the torch for Paris 2024 at the end of the Games,&#34; she added. The Games, scheduled to be held from July 23-August 8, are facing growing opposition from the public amid rising coronavirus cases in Japan.</div>\\n    <div class=\"news-card-author-time news-card-author-time-in-content\">\\n      <a href=\"/prev/en/news/french-prez-emmanuel-macron-will-attend-tokyo-olympics-minister-1621666886163\"><span class=\"short\">short</span></a> by <span class=\"author\">Athira Sasidharan</span> / \\n      <span class=\"time\" itemprop=\"dateModified\" content=\"2021-05-22T07:01:26.000Z\" >12:31 pm</span> on <span class=\"date\">22 May</span>\\n    </div>\\n  </div>\\n  \\n    <div class=\"news-card-footer news-right-box\">\\n      <div class=\"read-more\">read more at <a class=\"source\" onclick=\"track_GA_Mixpanel({\\'hitType\\': \\'event\\', \\'category\\': \\'ReadMore\\', \\'action\\': \\'clicked\\', \\'label\\': \\'Reuters\\' });\" target=\"_blank\" href=\"https://www.reuters.com/lifestyle/sports/french-president-macron-attend-tokyo-olympics-minister-2021-05-21/?utm_campaign=fullarticle&amp;utm_medium=referral&amp;utm_source=inshorts \">Reuters</a></div>\\n    </div>\\n  \\n\\n</div>\\n\\n  \\n</div>\\n\\n\\n\\n\\n<div class=\"\">\\n<div class=\"news-card z-depth-1\" itemscope itemtype=\"http://schema.org/NewsArticle\">\\n  <span content=\"\" itemscope itemprop=\"mainEntityOfPage\" itemType=\"https://schema.org/WebPage\" itemid=\"https://inshorts.com/en/news/80-people-want-tokyo-olympics-to-be-postponed-or-cancelled-son-1621677563704\"></span>\\n  <span itemtype=\"https://schema.org/Person\" itemscope=\"itemscope\" itemprop=\"author\">\\n    <span itemprop=\"name\" content=\"Aishwarya Awasthi\"></span>\\n  </span>\\n  <span itemprop=\"description\" content=\"80% people want Tokyo Olympics to be postponed or cancelled: Son\"></span>\\n  <span itemprop=\"image\" itemscope itemtype=\"https://schema.org/ImageObject\">\\n    <meta itemprop=\"url\" content=\"https://static.inshorts.com/inshorts/images/v1/variants/jpg/m/2021/05_may/22_sat/img_1621675038190_590.jpg?\"></meta>\\n    <meta itemprop=\"width\" content=\"864\"></meta>\\n    <meta itemprop=\"height\" content=\"483\"></meta>\\n  </span>\\n  <span itemtype=\"https://schema.org/Organization\" itemscope=\"itemscope\" itemprop=\"publisher\">\\n    <span itemprop=\"url\" content=\"https://inshorts.com/\"></span>\\n    <span itemprop=\"name\" content=\"Inshorts\"></span>\\n    <span itemprop=\"logo\" itemscope itemtype=\"https://schema.org/ImageObject\">\\n      <span itemprop=\"url\" content=\"https://assets.inshorts.com/inshorts/images/v1/variants/jpg/m/2018/11_nov/21_wed/img_1542823931298_497.jpg\"></span>\\n      <meta itemprop=\"width\" content=\"400\"></meta>\\n      <meta itemprop=\"height\" content=\"60\"></meta>\\n    </span>\\n  </span>\\n  <div class=\"news-card-image\" style= \"background-image: url(\\'https://static.inshorts.com/inshorts/images/v1/variants/jpg/m/2021/05_may/22_sat/img_1621675038190_590.jpg?\\')\">\\n  </div>\\n  <div class=\"news-card-title news-right-box\">\\n    <a class=\"clickable\" onclick=\"track_GA_Mixpanel({\\'hitType\\': \\'event\\', \\'category\\': \\'TitleOfNews\\', \\'action\\': \\'clicked\\', \\'label\\': \\'80%25%20people%20want%20Tokyo%20Olympics%20to%20be%20postponed%20or%20cancelled%3A%20Son)\\' });\"  style=\"color:#44444d!important\" href=\"/en/news/80-people-want-tokyo-olympics-to-be-postponed-or-cancelled-son-1621677563704\">\\n      <span itemprop=\"headline\">80% people want Tokyo Olympics to be postponed or cancelled: Son</span>\\n    </a>\\n    <div class=\"news-card-author-time news-card-author-time-in-title\">\\n      <a href=\"/prev/en/news/80-people-want-tokyo-olympics-to-be-postponed-or-cancelled-son-1621677563704\"><span class=\"short\">short</span></a> by <span class=\"author\">Aishwarya Awasthi</span> / \\n      <span class=\"time\" itemprop=\"datePublished\" content=\"2021-05-22T09:59:23.000Z\">03:29 pm</span> on <span clas=\"date\">22 May 2021,Saturday</span>\\n    </div>\\n  </div>\\n  <div class=\"news-card-content news-right-box\">\\n    <div itemprop=\"articleBody\">SoftBank Founder Masayoshi Son in a tweet against the Tokyo Olympics said, &#34;Now, more than 80% of the people want to postpone or call off the Olympics. Who is going to push for it, with what rights?&#34; Earlier, Son had said he was &#34;afraid&#34; of having the Olympics during COVID-19 and expressed concern for both Japan and other countries.</div>\\n    <div class=\"news-card-author-time news-card-author-time-in-content\">\\n      <a href=\"/prev/en/news/80-people-want-tokyo-olympics-to-be-postponed-or-cancelled-son-1621677563704\"><span class=\"short\">short</span></a> by <span class=\"author\">Aishwarya Awasthi</span> / \\n      <span class=\"time\" itemprop=\"dateModified\" content=\"2021-05-22T09:59:23.000Z\" >03:29 pm</span> on <span class=\"date\">22 May</span>\\n    </div>\\n  </div>\\n  \\n    <div class=\"news-card-footer news-right-box\">\\n      <div class=\"read-more\">read more at <a class=\"source\" onclick=\"track_GA_Mixpanel({\\'hitType\\': \\'event\\', \\'category\\': \\'ReadMore\\', \\'action\\': \\'clicked\\', \\'label\\': \\'Reuters\\' });\" target=\"_blank\" href=\"https://mobile.reuters.com/article/amp/idUSKCN2D3048?utm_campaign=fullarticle&amp;utm_medium=referral&amp;utm_source=inshorts \">Reuters</a></div>\\n    </div>\\n  \\n\\n</div>\\n\\n  \\n</div>\\n\\n\\n\\n\\n<div class=\"\">\\n<div class=\"news-card z-depth-1\" itemscope itemtype=\"http://schema.org/NewsArticle\">\\n  <span content=\"\" itemscope itemprop=\"mainEntityOfPage\" itemType=\"https://schema.org/WebPage\" itemid=\"https://inshorts.com/en/news/nigerian-army-chief-attahiru-10-officers-killed-in-plane-crash-1621679040933\"></span>\\n  <span itemtype=\"https://schema.org/Person\" itemscope=\"itemscope\" itemprop=\"author\">\\n    <span itemprop=\"name\" content=\"Shailesh\"></span>\\n  </span>\\n  <span itemprop=\"description\" content=\"Nigerian Army chief Attahiru, 10 officers killed in plane crash\"></span>\\n  <span itemprop=\"image\" itemscope itemtype=\"https://schema.org/ImageObject\">\\n    <meta itemprop=\"url\" content=\"https://static.inshorts.com/inshorts/images/v1/variants/jpg/m/2021/05_may/22_sat/img_1621676032852_196.jpg?\"></meta>\\n    <meta itemprop=\"width\" content=\"864\"></meta>\\n    <meta itemprop=\"height\" content=\"483\"></meta>\\n  </span>\\n  <span itemtype=\"https://schema.org/Organization\" itemscope=\"itemscope\" itemprop=\"publisher\">\\n    <span itemprop=\"url\" content=\"https://inshorts.com/\"></span>\\n    <span itemprop=\"name\" content=\"Inshorts\"></span>\\n    <span itemprop=\"logo\" itemscope itemtype=\"https://schema.org/ImageObject\">\\n      <span itemprop=\"url\" content=\"https://assets.inshorts.com/inshorts/images/v1/variants/jpg/m/2018/11_nov/21_wed/img_1542823931298_497.jpg\"></span>\\n      <meta itemprop=\"width\" content=\"400\"></meta>\\n      <meta itemprop=\"height\" content=\"60\"></meta>\\n    </span>\\n  </span>\\n  <div class=\"news-card-image\" style= \"background-image: url(\\'https://static.inshorts.com/inshorts/images/v1/variants/jpg/m/2021/05_may/22_sat/img_1621676032852_196.jpg?\\')\">\\n  </div>\\n  <div class=\"news-card-title news-right-box\">\\n    <a class=\"clickable\" onclick=\"track_GA_Mixpanel({\\'hitType\\': \\'event\\', \\'category\\': \\'TitleOfNews\\', \\'action\\': \\'clicked\\', \\'label\\': \\'Nigerian%20Army%20chief%20Attahiru%2C%2010%20officers%20killed%20in%20plane%20crash)\\' });\"  style=\"color:#44444d!important\" href=\"/en/news/nigerian-army-chief-attahiru-10-officers-killed-in-plane-crash-1621679040933\">\\n      <span itemprop=\"headline\">Nigerian Army chief Attahiru, 10 officers killed in plane crash</span>\\n    </a>\\n    <div class=\"news-card-author-time news-card-author-time-in-title\">\\n      <a href=\"/prev/en/news/nigerian-army-chief-attahiru-10-officers-killed-in-plane-crash-1621679040933\"><span class=\"short\">short</span></a> by <span class=\"author\">Shailesh</span> / \\n      <span class=\"time\" itemprop=\"datePublished\" content=\"2021-05-22T10:24:00.000Z\">03:54 pm</span> on <span clas=\"date\">22 May 2021,Saturday</span>\\n    </div>\\n  </div>\\n  <div class=\"news-card-content news-right-box\">\\n    <div itemprop=\"articleBody\">Nigerian Army chief Lieutenant General Ibrahim Attahiru and 10 other officers were killed in a plane crash on Friday after making an official trip to Kaduna state, the military said. &#34;This crash is...mortal blow to our underbelly, at a time our Armed Forces are poised to end the security challenges facing the country,&#34; Nigeria&#39;s President Muhammadu Buhari tweeted.</div>\\n    <div class=\"news-card-author-time news-card-author-time-in-content\">\\n      <a href=\"/prev/en/news/nigerian-army-chief-attahiru-10-officers-killed-in-plane-crash-1621679040933\"><span class=\"short\">short</span></a> by <span class=\"author\">Shailesh</span> / \\n      <span class=\"time\" itemprop=\"dateModified\" content=\"2021-05-22T10:24:00.000Z\" >03:54 pm</span> on <span class=\"date\">22 May</span>\\n    </div>\\n  </div>\\n  \\n    <div class=\"news-card-footer news-right-box\">\\n      <div class=\"read-more\">read more at <a class=\"source\" onclick=\"track_GA_Mixpanel({\\'hitType\\': \\'event\\', \\'category\\': \\'ReadMore\\', \\'action\\': \\'clicked\\', \\'label\\': \\'DW\\' });\" target=\"_blank\" href=\"https://amp.dw.com/en/nigeria-army-chief-ibrahim-attahiru-dies-in-plane-crash/a-57627775?utm_campaign=fullarticle&amp;utm_medium=referral&amp;utm_source=inshorts \">DW</a></div>\\n    </div>\\n  \\n\\n</div>\\n\\n  \\n</div>\\n\\n\\n\\n\\n<div class=\"\">\\n<div class=\"news-card z-depth-1\" itemscope itemtype=\"http://schema.org/NewsArticle\">\\n  <span content=\"\" itemscope itemprop=\"mainEntityOfPage\" itemType=\"https://schema.org/WebPage\" itemid=\"https://inshorts.com/en/news/pak-delivers-3-domesticallymade-jf17-fighter-jets-to-nigeria-1621614183034\"></span>\\n  <span itemtype=\"https://schema.org/Person\" itemscope=\"itemscope\" itemprop=\"author\">\\n    <span itemprop=\"name\" content=\"Shailesh\"></span>\\n  </span>\\n  <span itemprop=\"description\" content=\"Pak delivers 3 domestically-made JF-17 fighter jets to Nigeria\"></span>\\n  <span itemprop=\"image\" itemscope itemtype=\"https://schema.org/ImageObject\">\\n    <meta itemprop=\"url\" content=\"https://static.inshorts.com/inshorts/images/v1/variants/jpg/m/2021/05_may/21_fri/img_1621607908937_126.jpg?\"></meta>\\n    <meta itemprop=\"width\" content=\"864\"></meta>\\n    <meta itemprop=\"height\" content=\"483\"></meta>\\n  </span>\\n  <span itemtype=\"https://schema.org/Organization\" itemscope=\"itemscope\" itemprop=\"publisher\">\\n    <span itemprop=\"url\" content=\"https://inshorts.com/\"></span>\\n    <span itemprop=\"name\" content=\"Inshorts\"></span>\\n    <span itemprop=\"logo\" itemscope itemtype=\"https://schema.org/ImageObject\">\\n      <span itemprop=\"url\" content=\"https://assets.inshorts.com/inshorts/images/v1/variants/jpg/m/2018/11_nov/21_wed/img_1542823931298_497.jpg\"></span>\\n      <meta itemprop=\"width\" content=\"400\"></meta>\\n      <meta itemprop=\"height\" content=\"60\"></meta>\\n    </span>\\n  </span>\\n  <div class=\"news-card-image\" style= \"background-image: url(\\'https://static.inshorts.com/inshorts/images/v1/variants/jpg/m/2021/05_may/21_fri/img_1621607908937_126.jpg?\\')\">\\n  </div>\\n  <div class=\"news-card-title news-right-box\">\\n    <a class=\"clickable\" onclick=\"track_GA_Mixpanel({\\'hitType\\': \\'event\\', \\'category\\': \\'TitleOfNews\\', \\'action\\': \\'clicked\\', \\'label\\': \\'Pak%20delivers%203%20domestically-made%20JF-17%20fighter%20jets%20to%20Nigeria)\\' });\"  style=\"color:#44444d!important\" href=\"/en/news/pak-delivers-3-domesticallymade-jf17-fighter-jets-to-nigeria-1621614183034\">\\n      <span itemprop=\"headline\">Pak delivers 3 domestically-made JF-17 fighter jets to Nigeria</span>\\n    </a>\\n    <div class=\"news-card-author-time news-card-author-time-in-title\">\\n      <a href=\"/prev/en/news/pak-delivers-3-domesticallymade-jf17-fighter-jets-to-nigeria-1621614183034\"><span class=\"short\">short</span></a> by <span class=\"author\">Shailesh</span> / \\n      <span class=\"time\" itemprop=\"datePublished\" content=\"2021-05-21T16:23:03.000Z\">09:53 pm</span> on <span clas=\"date\">21 May 2021,Friday</span>\\n    </div>\\n  </div>\\n  <div class=\"news-card-content news-right-box\">\\n    <div itemprop=\"articleBody\">Pakistan on Friday officially handed over to Nigeria three domestically-made JF-17 Thunder fighter jets, developed in collaboration with China. Nigerian Defence Minister Major General (Rtd) Bashir Magashi said, &#34;We are happy and excited on the addition of...[fighter jets] from Pakistan.&#34; The jets were inducted during a ceremony to mark the 57th anniversary of the Nigerian Air Force.</div>\\n    <div class=\"news-card-author-time news-card-author-time-in-content\">\\n      <a href=\"/prev/en/news/pak-delivers-3-domesticallymade-jf17-fighter-jets-to-nigeria-1621614183034\"><span class=\"short\">short</span></a> by <span class=\"author\">Shailesh</span> / \\n      <span class=\"time\" itemprop=\"dateModified\" content=\"2021-05-21T16:23:03.000Z\" >09:53 pm</span> on <span class=\"date\">21 May</span>\\n    </div>\\n  </div>\\n  \\n    <div class=\"news-card-footer news-right-box\">\\n      <div class=\"read-more\">read more at <a class=\"source\" onclick=\"track_GA_Mixpanel({\\'hitType\\': \\'event\\', \\'category\\': \\'ReadMore\\', \\'action\\': \\'clicked\\', \\'label\\': \\'LatestLY\\' });\" target=\"_blank\" href=\"https://www.latestly.com/agency-news/world-news-pakistan-hands-over-3-domestically-manufactured-jf-17-thunder-fighter-jets-to-nigeria-2494393.html/amp?utm_campaign=fullarticle&amp;utm_medium=referral&amp;utm_source=inshorts \">LatestLY</a></div>\\n    </div>\\n  \\n\\n</div>\\n\\n  \\n</div>\\n\\n\\n\\n\\n<div class=\"\">\\n<div class=\"news-card z-depth-1\" itemscope itemtype=\"http://schema.org/NewsArticle\">\\n  <span content=\"\" itemscope itemprop=\"mainEntityOfPage\" itemType=\"https://schema.org/WebPage\" itemid=\"https://inshorts.com/en/news/twostate-solution-only-answer-to-israelpalestine-conflict-biden-1621673066928\"></span>\\n  <span itemtype=\"https://schema.org/Person\" itemscope=\"itemscope\" itemprop=\"author\">\\n    <span itemprop=\"name\" content=\"Athira Sasidharan\"></span>\\n  </span>\\n  <span itemprop=\"description\" content=\"Two-state solution only answer to Israel-Palestine conflict: Biden\"></span>\\n  <span itemprop=\"image\" itemscope itemtype=\"https://schema.org/ImageObject\">\\n    <meta itemprop=\"url\" content=\"https://static.inshorts.com/inshorts/images/v1/variants/jpg/m/2021/05_may/22_sat/img_1621669051566_476.jpg?\"></meta>\\n    <meta itemprop=\"width\" content=\"864\"></meta>\\n    <meta itemprop=\"height\" content=\"483\"></meta>\\n  </span>\\n  <span itemtype=\"https://schema.org/Organization\" itemscope=\"itemscope\" itemprop=\"publisher\">\\n    <span itemprop=\"url\" content=\"https://inshorts.com/\"></span>\\n    <span itemprop=\"name\" content=\"Inshorts\"></span>\\n    <span itemprop=\"logo\" itemscope itemtype=\"https://schema.org/ImageObject\">\\n      <span itemprop=\"url\" content=\"https://assets.inshorts.com/inshorts/images/v1/variants/jpg/m/2018/11_nov/21_wed/img_1542823931298_497.jpg\"></span>\\n      <meta itemprop=\"width\" content=\"400\"></meta>\\n      <meta itemprop=\"height\" content=\"60\"></meta>\\n    </span>\\n  </span>\\n  <div class=\"news-card-image\" style= \"background-image: url(\\'https://static.inshorts.com/inshorts/images/v1/variants/jpg/m/2021/05_may/22_sat/img_1621669051566_476.jpg?\\')\">\\n  </div>\\n  <div class=\"news-card-title news-right-box\">\\n    <a class=\"clickable\" onclick=\"track_GA_Mixpanel({\\'hitType\\': \\'event\\', \\'category\\': \\'TitleOfNews\\', \\'action\\': \\'clicked\\', \\'label\\': \\'Two-state%20solution%20only%20answer%20to%20Israel-Palestine%20conflict%3A%20Biden)\\' });\"  style=\"color:#44444d!important\" href=\"/en/news/twostate-solution-only-answer-to-israelpalestine-conflict-biden-1621673066928\">\\n      <span itemprop=\"headline\">Two-state solution only answer to Israel-Palestine conflict: Biden</span>\\n    </a>\\n    <div class=\"news-card-author-time news-card-author-time-in-title\">\\n      <a href=\"/prev/en/news/twostate-solution-only-answer-to-israelpalestine-conflict-biden-1621673066928\"><span class=\"short\">short</span></a> by <span class=\"author\">Athira Sasidharan</span> / \\n      <span class=\"time\" itemprop=\"datePublished\" content=\"2021-05-22T08:44:26.000Z\">02:14 pm</span> on <span clas=\"date\">22 May 2021,Saturday</span>\\n    </div>\\n  </div>\\n  <div class=\"news-card-content news-right-box\">\\n    <div itemprop=\"articleBody\">US President Joe Biden said a &#34;two-state solution&#34;, with a sovereign Palestinian state alongside Israel and Jerusalem as their shared capital, was the &#34;only answer&#34; to resolve conflict between the two sides. Biden stressed &#34;there is no shift in my commitment...to the security of Israel&#34; and added that until the region &#34;unequivocally&#34; acknowledges Israel&#39;s existence &#34;there will be no peace&#34;. </div>\\n    <div class=\"news-card-author-time news-card-author-time-in-content\">\\n      <a href=\"/prev/en/news/twostate-solution-only-answer-to-israelpalestine-conflict-biden-1621673066928\"><span class=\"short\">short</span></a> by <span class=\"author\">Athira Sasidharan</span> / \\n      <span class=\"time\" itemprop=\"dateModified\" content=\"2021-05-22T08:44:26.000Z\" >02:14 pm</span> on <span class=\"date\">22 May</span>\\n    </div>\\n  </div>\\n  \\n    <div class=\"news-card-footer news-right-box\">\\n      <div class=\"read-more\">read more at <a class=\"source\" onclick=\"track_GA_Mixpanel({\\'hitType\\': \\'event\\', \\'category\\': \\'ReadMore\\', \\'action\\': \\'clicked\\', \\'label\\': \\'India.com\\' });\" target=\"_blank\" href=\"https://www.india.com/news/world/two-state-solution-is-only-answer-joe-biden-on-israel-palestine-conflict-as-he-pledges-help-to-rebuild-gaza-4682543/amp/?utm_campaign=fullarticle&amp;utm_medium=referral&amp;utm_source=inshorts \">India.com</a></div>\\n    </div>\\n  \\n\\n</div>\\n\\n  \\n</div>\\n\\n\\n\\n\\n  \\n    <div id=\\'div-gpt-ad-1536748319959-7d2rqcom-1\\' style=\\'height:250px; width:900px; margin: auto; margin-bottom: 2%;\\'>\\n      <script>\\n        googletag.cmd.push(function() { \\n          //News banner for desktop\\n          var slotIdWeb = \\'div-gpt-ad-1536748319959-7d2rqcom-1\\';\\n          var slot = googletag.defineSlot(\\'/142919096/inshorts_website_900x250\\', [900, 250], slotIdWeb)\\n          .addService(googletag.pubads())\\n          .setCollapseEmptyDiv(true,true);\\n\\n          googletag.display(\\'div-gpt-ad-1536748319959-7d2rqcom-1\\');\\n          googletag.pubads().refresh([slot]);\\n        });\\n      </script>\\n    </div>\\n  \\n\\n<div class=\"\">\\n<div class=\"news-card z-depth-1\" itemscope itemtype=\"http://schema.org/NewsArticle\">\\n  <span content=\"\" itemscope itemprop=\"mainEntityOfPage\" itemType=\"https://schema.org/WebPage\" itemid=\"https://inshorts.com/en/news/she-should-be-here-prince-harry-on-son-archies-first-word-grandma-1621660095757\"></span>\\n  <span itemtype=\"https://schema.org/Person\" itemscope=\"itemscope\" itemprop=\"author\">\\n    <span itemprop=\"name\" content=\"Kriti Sharma\"></span>\\n  </span>\\n  <span itemprop=\"description\" content=\"She should be here: Prince Harry on son Archie&#39;s first word &#39;Grandma&#39;\"></span>\\n  <span itemprop=\"image\" itemscope itemtype=\"https://schema.org/ImageObject\">\\n    <meta itemprop=\"url\" content=\"https://static.inshorts.com/inshorts/images/v1/variants/jpg/m/2021/05_may/22_sat/img_1621659059865_602.jpg?\"></meta>\\n    <meta itemprop=\"width\" content=\"864\"></meta>\\n    <meta itemprop=\"height\" content=\"483\"></meta>\\n  </span>\\n  <span itemtype=\"https://schema.org/Organization\" itemscope=\"itemscope\" itemprop=\"publisher\">\\n    <span itemprop=\"url\" content=\"https://inshorts.com/\"></span>\\n    <span itemprop=\"name\" content=\"Inshorts\"></span>\\n    <span itemprop=\"logo\" itemscope itemtype=\"https://schema.org/ImageObject\">\\n      <span itemprop=\"url\" content=\"https://assets.inshorts.com/inshorts/images/v1/variants/jpg/m/2018/11_nov/21_wed/img_1542823931298_497.jpg\"></span>\\n      <meta itemprop=\"width\" content=\"400\"></meta>\\n      <meta itemprop=\"height\" content=\"60\"></meta>\\n    </span>\\n  </span>\\n  <div class=\"news-card-image\" style= \"background-image: url(\\'https://static.inshorts.com/inshorts/images/v1/variants/jpg/m/2021/05_may/22_sat/img_1621659059865_602.jpg?\\')\">\\n  </div>\\n  <div class=\"news-card-title news-right-box\">\\n    <a class=\"clickable\" onclick=\"track_GA_Mixpanel({\\'hitType\\': \\'event\\', \\'category\\': \\'TitleOfNews\\', \\'action\\': \\'clicked\\', \\'label\\': \\'She%20should%20be%20here%3A%20Prince%20Harry%20on%20son%20Archie&#39;s%20first%20word%20&#39;Grandma&#39;)\\' });\"  style=\"color:#44444d!important\" href=\"/en/news/she-should-be-here-prince-harry-on-son-archies-first-word-grandma-1621660095757\">\\n      <span itemprop=\"headline\">She should be here: Prince Harry on son Archie&#39;s first word &#39;Grandma&#39;</span>\\n    </a>\\n    <div class=\"news-card-author-time news-card-author-time-in-title\">\\n      <a href=\"/prev/en/news/she-should-be-here-prince-harry-on-son-archies-first-word-grandma-1621660095757\"><span class=\"short\">short</span></a> by <span class=\"author\">Kriti Sharma</span> / \\n      <span class=\"time\" itemprop=\"datePublished\" content=\"2021-05-22T05:08:15.000Z\">10:38 am</span> on <span clas=\"date\">22 May 2021,Saturday</span>\\n    </div>\\n  </div>\\n  <div class=\"news-card-content news-right-box\">\\n    <div itemprop=\"articleBody\">While speaking about his late mother, Princess Diana, Prince Harry revealed that one of his son Archie&#39;s first words was &#39;grandma&#39;. In the documentary series &#39;The Me You Can&#39;t See&#39;, Harry said, &#34;It&#39;s the sweetest thing, but at the same time, it makes me really sad because she should be here.&#34; He also said, &#34;I wish she could&#39;ve met Meghan.&#34;</div>\\n    <div class=\"news-card-author-time news-card-author-time-in-content\">\\n      <a href=\"/prev/en/news/she-should-be-here-prince-harry-on-son-archies-first-word-grandma-1621660095757\"><span class=\"short\">short</span></a> by <span class=\"author\">Kriti Sharma</span> / \\n      <span class=\"time\" itemprop=\"dateModified\" content=\"2021-05-22T05:08:15.000Z\" >10:38 am</span> on <span class=\"date\">22 May</span>\\n    </div>\\n  </div>\\n  \\n    <div class=\"news-card-footer news-right-box\">\\n      <div class=\"read-more\">read more at <a class=\"source\" onclick=\"track_GA_Mixpanel({\\'hitType\\': \\'event\\', \\'category\\': \\'ReadMore\\', \\'action\\': \\'clicked\\', \\'label\\': \\'ANI%20News\\' });\" target=\"_blank\" href=\"https://aninews.in/news/entertainment/out-of-box/prince-harry-reveals-one-of-son-archies-first-words-was-grandma20210521160717/?utm_campaign=fullarticle&amp;utm_medium=referral&amp;utm_source=inshorts \">ANI News</a></div>\\n    </div>\\n  \\n\\n</div>\\n\\n  \\n</div>\\n\\n\\n\\n\\n<div class=\"\">\\n<div class=\"news-card z-depth-1\" itemscope itemtype=\"http://schema.org/NewsArticle\">\\n  <span content=\"\" itemscope itemprop=\"mainEntityOfPage\" itemType=\"https://schema.org/WebPage\" itemid=\"https://inshorts.com/en/news/spain-returns-6600-migrants-to-morocco-from-its-enclave-in-africa-1621620979927\"></span>\\n  <span itemtype=\"https://schema.org/Person\" itemscope=\"itemscope\" itemprop=\"author\">\\n    <span itemprop=\"name\" content=\"Shailesh\"></span>\\n  </span>\\n  <span itemprop=\"description\" content=\"Spain returns 6,600 migrants to Morocco from its enclave in Africa\"></span>\\n  <span itemprop=\"image\" itemscope itemtype=\"https://schema.org/ImageObject\">\\n    <meta itemprop=\"url\" content=\"https://static.inshorts.com/inshorts/images/v1/variants/jpg/m/2021/05_may/21_fri/img_1621617301791_853.jpg?\"></meta>\\n    <meta itemprop=\"width\" content=\"864\"></meta>\\n    <meta itemprop=\"height\" content=\"483\"></meta>\\n  </span>\\n  <span itemtype=\"https://schema.org/Organization\" itemscope=\"itemscope\" itemprop=\"publisher\">\\n    <span itemprop=\"url\" content=\"https://inshorts.com/\"></span>\\n    <span itemprop=\"name\" content=\"Inshorts\"></span>\\n    <span itemprop=\"logo\" itemscope itemtype=\"https://schema.org/ImageObject\">\\n      <span itemprop=\"url\" content=\"https://assets.inshorts.com/inshorts/images/v1/variants/jpg/m/2018/11_nov/21_wed/img_1542823931298_497.jpg\"></span>\\n      <meta itemprop=\"width\" content=\"400\"></meta>\\n      <meta itemprop=\"height\" content=\"60\"></meta>\\n    </span>\\n  </span>\\n  <div class=\"news-card-image\" style= \"background-image: url(\\'https://static.inshorts.com/inshorts/images/v1/variants/jpg/m/2021/05_may/21_fri/img_1621617301791_853.jpg?\\')\">\\n  </div>\\n  <div class=\"news-card-title news-right-box\">\\n    <a class=\"clickable\" onclick=\"track_GA_Mixpanel({\\'hitType\\': \\'event\\', \\'category\\': \\'TitleOfNews\\', \\'action\\': \\'clicked\\', \\'label\\': \\'Spain%20returns%206%2C600%20migrants%20to%20Morocco%20from%20its%20enclave%20in%20Africa)\\' });\"  style=\"color:#44444d!important\" href=\"/en/news/spain-returns-6600-migrants-to-morocco-from-its-enclave-in-africa-1621620979927\">\\n      <span itemprop=\"headline\">Spain returns 6,600 migrants to Morocco from its enclave in Africa</span>\\n    </a>\\n    <div class=\"news-card-author-time news-card-author-time-in-title\">\\n      <a href=\"/prev/en/news/spain-returns-6600-migrants-to-morocco-from-its-enclave-in-africa-1621620979927\"><span class=\"short\">short</span></a> by <span class=\"author\">Shailesh</span> / \\n      <span class=\"time\" itemprop=\"datePublished\" content=\"2021-05-21T18:16:19.000Z\">11:46 pm</span> on <span clas=\"date\">21 May 2021,Friday</span>\\n    </div>\\n  </div>\\n  <div class=\"news-card-content news-right-box\">\\n    <div itemprop=\"articleBody\">Speaking about the recent influx of migrants in its African enclave of Ceuta, Spain said that more than 6,600 migrants have been returned to Morocco. Over 8,000 people had arrived in Ceuta from Morocco between Monday and Wednesday by scaling a border fence or swimming around it. Spanish authorities identified 438 unaccompanied minors among the migrants.</div>\\n    <div class=\"news-card-author-time news-card-author-time-in-content\">\\n      <a href=\"/prev/en/news/spain-returns-6600-migrants-to-morocco-from-its-enclave-in-africa-1621620979927\"><span class=\"short\">short</span></a> by <span class=\"author\">Shailesh</span> / \\n      <span class=\"time\" itemprop=\"dateModified\" content=\"2021-05-21T18:16:19.000Z\" >11:46 pm</span> on <span class=\"date\">21 May</span>\\n    </div>\\n  </div>\\n  \\n    <div class=\"news-card-footer news-right-box\">\\n      <div class=\"read-more\">read more at <a class=\"source\" onclick=\"track_GA_Mixpanel({\\'hitType\\': \\'event\\', \\'category\\': \\'ReadMore\\', \\'action\\': \\'clicked\\', \\'label\\': \\'AP\\' });\" target=\"_blank\" href=\"https://apnews.com/article/morocco-europe-spain-africa-migration-80180bf9ec520904302b3407a0fa8b76?utm_campaign=fullarticle&amp;utm_medium=referral&amp;utm_source=inshorts \">AP</a></div>\\n    </div>\\n  \\n\\n</div>\\n\\n  \\n</div>\\n\\n\\n\\n\\n<div class=\"\">\\n<div class=\"news-card z-depth-1\" itemscope itemtype=\"http://schema.org/NewsArticle\">\\n  <span content=\"\" itemscope itemprop=\"mainEntityOfPage\" itemType=\"https://schema.org/WebPage\" itemid=\"https://inshorts.com/en/news/un-allocates-$225-mn-to-gaza-for-emergency-humanitarian-needs-1621674926843\"></span>\\n  <span itemtype=\"https://schema.org/Person\" itemscope=\"itemscope\" itemprop=\"author\">\\n    <span itemprop=\"name\" content=\"Athira Sasidharan\"></span>\\n  </span>\\n  <span itemprop=\"description\" content=\"UN allocates $22.5 mn to Gaza for emergency humanitarian needs\"></span>\\n  <span itemprop=\"image\" itemscope itemtype=\"https://schema.org/ImageObject\">\\n    <meta itemprop=\"url\" content=\"https://static.inshorts.com/inshorts/images/v1/variants/jpg/m/2021/05_may/22_sat/img_1621670981228_864.jpg?\"></meta>\\n    <meta itemprop=\"width\" content=\"864\"></meta>\\n    <meta itemprop=\"height\" content=\"483\"></meta>\\n  </span>\\n  <span itemtype=\"https://schema.org/Organization\" itemscope=\"itemscope\" itemprop=\"publisher\">\\n    <span itemprop=\"url\" content=\"https://inshorts.com/\"></span>\\n    <span itemprop=\"name\" content=\"Inshorts\"></span>\\n    <span itemprop=\"logo\" itemscope itemtype=\"https://schema.org/ImageObject\">\\n      <span itemprop=\"url\" content=\"https://assets.inshorts.com/inshorts/images/v1/variants/jpg/m/2018/11_nov/21_wed/img_1542823931298_497.jpg\"></span>\\n      <meta itemprop=\"width\" content=\"400\"></meta>\\n      <meta itemprop=\"height\" content=\"60\"></meta>\\n    </span>\\n  </span>\\n  <div class=\"news-card-image\" style= \"background-image: url(\\'https://static.inshorts.com/inshorts/images/v1/variants/jpg/m/2021/05_may/22_sat/img_1621670981228_864.jpg?\\')\">\\n  </div>\\n  <div class=\"news-card-title news-right-box\">\\n    <a class=\"clickable\" onclick=\"track_GA_Mixpanel({\\'hitType\\': \\'event\\', \\'category\\': \\'TitleOfNews\\', \\'action\\': \\'clicked\\', \\'label\\': \\'UN%20allocates%20%2422.5%20mn%20to%20Gaza%20for%20emergency%20humanitarian%20needs)\\' });\"  style=\"color:#44444d!important\" href=\"/en/news/un-allocates-$225-mn-to-gaza-for-emergency-humanitarian-needs-1621674926843\">\\n      <span itemprop=\"headline\">UN allocates $22.5 mn to Gaza for emergency humanitarian needs</span>\\n    </a>\\n    <div class=\"news-card-author-time news-card-author-time-in-title\">\\n      <a href=\"/prev/en/news/un-allocates-$225-mn-to-gaza-for-emergency-humanitarian-needs-1621674926843\"><span class=\"short\">short</span></a> by <span class=\"author\">Athira Sasidharan</span> / \\n      <span class=\"time\" itemprop=\"datePublished\" content=\"2021-05-22T09:15:26.000Z\">02:45 pm</span> on <span clas=\"date\">22 May 2021,Saturday</span>\\n    </div>\\n  </div>\\n  <div class=\"news-card-content news-right-box\">\\n    <div itemprop=\"articleBody\">The United Nations has allocated $22.5 million to Gaza for emergency humanitarian needs. &#34;The funds released...will help provide affected people with essential services and humanitarian assistance and dispose of explosive ordnance,&#34; a UN statement read. Israel and Hamas ended 11 days of fighting on Friday, in which more than 240 people were killed and over 77,000 Palestinians were displaced. </div>\\n    <div class=\"news-card-author-time news-card-author-time-in-content\">\\n      <a href=\"/prev/en/news/un-allocates-$225-mn-to-gaza-for-emergency-humanitarian-needs-1621674926843\"><span class=\"short\">short</span></a> by <span class=\"author\">Athira Sasidharan</span> / \\n      <span class=\"time\" itemprop=\"dateModified\" content=\"2021-05-22T09:15:26.000Z\" >02:45 pm</span> on <span class=\"date\">22 May</span>\\n    </div>\\n  </div>\\n  \\n    <div class=\"news-card-footer news-right-box\">\\n      <div class=\"read-more\">read more at <a class=\"source\" onclick=\"track_GA_Mixpanel({\\'hitType\\': \\'event\\', \\'category\\': \\'ReadMore\\', \\'action\\': \\'clicked\\', \\'label\\': \\'UN\\' });\" target=\"_blank\" href=\"https://www.unocha.org/story/un-releases-us225m-rising-humanitarian-needs-gaza?utm_campaign=fullarticle&amp;utm_medium=referral&amp;utm_source=inshorts \">UN</a></div>\\n    </div>\\n  \\n\\n</div>\\n\\n  \\n</div>\\n\\n\\n\\n\\n<div class=\"\">\\n<div class=\"news-card z-depth-1\" itemscope itemtype=\"http://schema.org/NewsArticle\">\\n  <span content=\"\" itemscope itemprop=\"mainEntityOfPage\" itemType=\"https://schema.org/WebPage\" itemid=\"https://inshorts.com/en/news/is-fighters-in-nigeria-cant-claim-reward-for-boko-haram-leader-us-1621620538869\"></span>\\n  <span itemtype=\"https://schema.org/Person\" itemscope=\"itemscope\" itemprop=\"author\">\\n    <span itemprop=\"name\" content=\"Shailesh\"></span>\\n  </span>\\n  <span itemprop=\"description\" content=\"IS fighters in Nigeria can&#39;t claim bounty on Boko Haram leader: US\"></span>\\n  <span itemprop=\"image\" itemscope itemtype=\"https://schema.org/ImageObject\">\\n    <meta itemprop=\"url\" content=\"https://static.inshorts.com/inshorts/images/v1/variants/jpg/m/2021/05_may/21_fri/img_1621620152858_466.jpg?\"></meta>\\n    <meta itemprop=\"width\" content=\"864\"></meta>\\n    <meta itemprop=\"height\" content=\"483\"></meta>\\n  </span>\\n  <span itemtype=\"https://schema.org/Organization\" itemscope=\"itemscope\" itemprop=\"publisher\">\\n    <span itemprop=\"url\" content=\"https://inshorts.com/\"></span>\\n    <span itemprop=\"name\" content=\"Inshorts\"></span>\\n    <span itemprop=\"logo\" itemscope itemtype=\"https://schema.org/ImageObject\">\\n      <span itemprop=\"url\" content=\"https://assets.inshorts.com/inshorts/images/v1/variants/jpg/m/2018/11_nov/21_wed/img_1542823931298_497.jpg\"></span>\\n      <meta itemprop=\"width\" content=\"400\"></meta>\\n      <meta itemprop=\"height\" content=\"60\"></meta>\\n    </span>\\n  </span>\\n  <div class=\"news-card-image\" style= \"background-image: url(\\'https://static.inshorts.com/inshorts/images/v1/variants/jpg/m/2021/05_may/21_fri/img_1621620152858_466.jpg?\\')\">\\n  </div>\\n  <div class=\"news-card-title news-right-box\">\\n    <a class=\"clickable\" onclick=\"track_GA_Mixpanel({\\'hitType\\': \\'event\\', \\'category\\': \\'TitleOfNews\\', \\'action\\': \\'clicked\\', \\'label\\': \\'IS%20fighters%20in%20Nigeria%20can&#39;t%20claim%20bounty%20on%20Boko%20Haram%20leader%3A%20US)\\' });\"  style=\"color:#44444d!important\" href=\"/en/news/is-fighters-in-nigeria-cant-claim-reward-for-boko-haram-leader-us-1621620538869\">\\n      <span itemprop=\"headline\">IS fighters in Nigeria can&#39;t claim bounty on Boko Haram leader: US</span>\\n    </a>\\n    <div class=\"news-card-author-time news-card-author-time-in-title\">\\n      <a href=\"/prev/en/news/is-fighters-in-nigeria-cant-claim-reward-for-boko-haram-leader-us-1621620538869\"><span class=\"short\">short</span></a> by <span class=\"author\">Shailesh</span> / \\n      <span class=\"time\" itemprop=\"datePublished\" content=\"2021-05-21T18:08:58.000Z\">11:38 pm</span> on <span clas=\"date\">21 May 2021,Friday</span>\\n    </div>\\n  </div>\\n  <div class=\"news-card-content news-right-box\">\\n    <div itemprop=\"articleBody\">Speaking on reports of Boko Haram leader Abubakar Shekau&#39;s death during clashes with Islamic State-linked fighters in Nigeria, the US announced that the fighters aren&#39;t eligible for the $7-million reward placed on Shekau. &#34;Hey, IS guys. To clarify:  no - you aren&#39;t eligible for...reward for information on his identity or location. That&#39;s not how the program works,&#34; it said.</div>\\n    <div class=\"news-card-author-time news-card-author-time-in-content\">\\n      <a href=\"/prev/en/news/is-fighters-in-nigeria-cant-claim-reward-for-boko-haram-leader-us-1621620538869\"><span class=\"short\">short</span></a> by <span class=\"author\">Shailesh</span> / \\n      <span class=\"time\" itemprop=\"dateModified\" content=\"2021-05-21T18:08:58.000Z\" >11:38 pm</span> on <span class=\"date\">21 May</span>\\n    </div>\\n  </div>\\n  \\n    <div class=\"news-card-footer news-right-box\">\\n      <div class=\"read-more\">read more at <a class=\"source\" onclick=\"track_GA_Mixpanel({\\'hitType\\': \\'event\\', \\'category\\': \\'ReadMore\\', \\'action\\': \\'clicked\\', \\'label\\': \\'Twitter\\' });\" target=\"_blank\" href=\"https://twitter.com/RFJ_USA/status/1395484344140156931?utm_campaign=fullarticle&amp;utm_medium=referral&amp;utm_source=inshorts \">Twitter</a></div>\\n    </div>\\n  \\n\\n</div>\\n\\n  \\n</div>\\n\\n\\n\\n\\n<div class=\"\">\\n<div class=\"news-card z-depth-1\" itemscope itemtype=\"http://schema.org/NewsArticle\">\\n  <span content=\"\" itemscope itemprop=\"mainEntityOfPage\" itemType=\"https://schema.org/WebPage\" itemid=\"https://inshorts.com/en/news/yoga-ban-revoked-after-28-years-in-us-state-namaste-prohibited-1621679487853\"></span>\\n  <span itemtype=\"https://schema.org/Person\" itemscope=\"itemscope\" itemprop=\"author\">\\n    <span itemprop=\"name\" content=\"Athira Sasidharan\"></span>\\n  </span>\\n  <span itemprop=\"description\" content=\"Yoga ban revoked after 28 years in US state, namaste prohibited\"></span>\\n  <span itemprop=\"image\" itemscope itemtype=\"https://schema.org/ImageObject\">\\n    <meta itemprop=\"url\" content=\"https://static.inshorts.com/inshorts/images/v1/variants/jpg/m/2021/05_may/22_sat/img_1621674045316_760.jpg?\"></meta>\\n    <meta itemprop=\"width\" content=\"864\"></meta>\\n    <meta itemprop=\"height\" content=\"483\"></meta>\\n  </span>\\n  <span itemtype=\"https://schema.org/Organization\" itemscope=\"itemscope\" itemprop=\"publisher\">\\n    <span itemprop=\"url\" content=\"https://inshorts.com/\"></span>\\n    <span itemprop=\"name\" content=\"Inshorts\"></span>\\n    <span itemprop=\"logo\" itemscope itemtype=\"https://schema.org/ImageObject\">\\n      <span itemprop=\"url\" content=\"https://assets.inshorts.com/inshorts/images/v1/variants/jpg/m/2018/11_nov/21_wed/img_1542823931298_497.jpg\"></span>\\n      <meta itemprop=\"width\" content=\"400\"></meta>\\n      <meta itemprop=\"height\" content=\"60\"></meta>\\n    </span>\\n  </span>\\n  <div class=\"news-card-image\" style= \"background-image: url(\\'https://static.inshorts.com/inshorts/images/v1/variants/jpg/m/2021/05_may/22_sat/img_1621674045316_760.jpg?\\')\">\\n  </div>\\n  <div class=\"news-card-title news-right-box\">\\n    <a class=\"clickable\" onclick=\"track_GA_Mixpanel({\\'hitType\\': \\'event\\', \\'category\\': \\'TitleOfNews\\', \\'action\\': \\'clicked\\', \\'label\\': \\'Yoga%20ban%20revoked%20after%2028%20years%20in%20US%20state%2C%20namaste%20prohibited)\\' });\"  style=\"color:#44444d!important\" href=\"/en/news/yoga-ban-revoked-after-28-years-in-us-state-namaste-prohibited-1621679487853\">\\n      <span itemprop=\"headline\">Yoga ban revoked after 28 years in US state, namaste prohibited</span>\\n    </a>\\n    <div class=\"news-card-author-time news-card-author-time-in-title\">\\n      <a href=\"/prev/en/news/yoga-ban-revoked-after-28-years-in-us-state-namaste-prohibited-1621679487853\"><span class=\"short\">short</span></a> by <span class=\"author\">Athira Sasidharan</span> / \\n      <span class=\"time\" itemprop=\"datePublished\" content=\"2021-05-22T10:31:27.000Z\">04:01 pm</span> on <span clas=\"date\">22 May 2021,Saturday</span>\\n    </div>\\n  </div>\\n  <div class=\"news-card-content news-right-box\">\\n    <div itemprop=\"articleBody\">US&#39; Alabama state has lifted a ban on teaching yoga in schools, ending a 28-year-old ban. However, the teachers will have to use English names for yoga poses and the use of chanting, mantras and salutation &#34;namaste&#34; is forbidden. The law also limits yoga in schools to poses, stretches and exercises. The measure was introduced by Democrat Jeremy Gray. </div>\\n    <div class=\"news-card-author-time news-card-author-time-in-content\">\\n      <a href=\"/prev/en/news/yoga-ban-revoked-after-28-years-in-us-state-namaste-prohibited-1621679487853\"><span class=\"short\">short</span></a> by <span class=\"author\">Athira Sasidharan</span> / \\n      <span class=\"time\" itemprop=\"dateModified\" content=\"2021-05-22T10:31:27.000Z\" >04:01 pm</span> on <span class=\"date\">22 May</span>\\n    </div>\\n  </div>\\n  \\n    <div class=\"news-card-footer news-right-box\">\\n      <div class=\"read-more\">read more at <a class=\"source\" onclick=\"track_GA_Mixpanel({\\'hitType\\': \\'event\\', \\'category\\': \\'ReadMore\\', \\'action\\': \\'clicked\\', \\'label\\': \\'WION\\' });\" target=\"_blank\" href=\"https://www.wionews.com/world/alabama-revokes-28-year-old-ban-on-yoga-prohibits-namaste-386684/amp?utm_campaign=fullarticle&amp;utm_medium=referral&amp;utm_source=inshorts \">WION</a></div>\\n    </div>\\n  \\n\\n</div>\\n\\n  \\n</div>\\n\\n\\n\\n\\n<div class=\"\">\\n<div class=\"news-card z-depth-1\" itemscope itemtype=\"http://schema.org/NewsArticle\">\\n  <span content=\"\" itemscope itemprop=\"mainEntityOfPage\" itemType=\"https://schema.org/WebPage\" itemid=\"https://inshorts.com/en/news/257-killed-8538-injured-in-gaza-during-conflict-with-israel-who-1621616515981\"></span>\\n  <span itemtype=\"https://schema.org/Person\" itemscope=\"itemscope\" itemprop=\"author\">\\n    <span itemprop=\"name\" content=\"Shailesh\"></span>\\n  </span>\\n  <span itemprop=\"description\" content=\"257 killed, 8,538 injured in Gaza during conflict with Israel: WHO\"></span>\\n  <span itemprop=\"image\" itemscope itemtype=\"https://schema.org/ImageObject\">\\n    <meta itemprop=\"url\" content=\"https://static.inshorts.com/inshorts/images/v1/variants/jpg/m/2021/05_may/21_fri/img_1621615121896_56.jpg?\"></meta>\\n    <meta itemprop=\"width\" content=\"864\"></meta>\\n    <meta itemprop=\"height\" content=\"483\"></meta>\\n  </span>\\n  <span itemtype=\"https://schema.org/Organization\" itemscope=\"itemscope\" itemprop=\"publisher\">\\n    <span itemprop=\"url\" content=\"https://inshorts.com/\"></span>\\n    <span itemprop=\"name\" content=\"Inshorts\"></span>\\n    <span itemprop=\"logo\" itemscope itemtype=\"https://schema.org/ImageObject\">\\n      <span itemprop=\"url\" content=\"https://assets.inshorts.com/inshorts/images/v1/variants/jpg/m/2018/11_nov/21_wed/img_1542823931298_497.jpg\"></span>\\n      <meta itemprop=\"width\" content=\"400\"></meta>\\n      <meta itemprop=\"height\" content=\"60\"></meta>\\n    </span>\\n  </span>\\n  <div class=\"news-card-image\" style= \"background-image: url(\\'https://static.inshorts.com/inshorts/images/v1/variants/jpg/m/2021/05_may/21_fri/img_1621615121896_56.jpg?\\')\">\\n  </div>\\n  <div class=\"news-card-title news-right-box\">\\n    <a class=\"clickable\" onclick=\"track_GA_Mixpanel({\\'hitType\\': \\'event\\', \\'category\\': \\'TitleOfNews\\', \\'action\\': \\'clicked\\', \\'label\\': \\'257%20killed%2C%208%2C538%20injured%20in%20Gaza%20during%20conflict%20with%20Israel%3A%20WHO)\\' });\"  style=\"color:#44444d!important\" href=\"/en/news/257-killed-8538-injured-in-gaza-during-conflict-with-israel-who-1621616515981\">\\n      <span itemprop=\"headline\">257 killed, 8,538 injured in Gaza during conflict with Israel: WHO</span>\\n    </a>\\n    <div class=\"news-card-author-time news-card-author-time-in-title\">\\n      <a href=\"/prev/en/news/257-killed-8538-injured-in-gaza-during-conflict-with-israel-who-1621616515981\"><span class=\"short\">short</span></a> by <span class=\"author\">Shailesh</span> / \\n      <span class=\"time\" itemprop=\"datePublished\" content=\"2021-05-21T17:01:55.000Z\">10:31 pm</span> on <span clas=\"date\">21 May 2021,Friday</span>\\n    </div>\\n  </div>\\n  <div class=\"news-card-content news-right-box\">\\n    <div itemprop=\"articleBody\">The World Health Organization (WHO) on Friday said that 257 people were killed and 8,538 others were injured in the Gaza Strip during the conflict between Palestinian armed groups and Israel. Separately, 30 health facilities had been damaged, with most of them operating at a partial capacity, it added. Thousands of Palestinian injuries risk &#34;overwhelming health facilities&#34;, it further said.</div>\\n    <div class=\"news-card-author-time news-card-author-time-in-content\">\\n      <a href=\"/prev/en/news/257-killed-8538-injured-in-gaza-during-conflict-with-israel-who-1621616515981\"><span class=\"short\">short</span></a> by <span class=\"author\">Shailesh</span> / \\n      <span class=\"time\" itemprop=\"dateModified\" content=\"2021-05-21T17:01:55.000Z\" >10:31 pm</span> on <span class=\"date\">21 May</span>\\n    </div>\\n  </div>\\n  \\n    <div class=\"news-card-footer news-right-box\">\\n      <div class=\"read-more\">read more at <a class=\"source\" onclick=\"track_GA_Mixpanel({\\'hitType\\': \\'event\\', \\'category\\': \\'ReadMore\\', \\'action\\': \\'clicked\\', \\'label\\': \\'Reuters\\' });\" target=\"_blank\" href=\"https://www.reuters.com/world/middle-east/palestinian-conflict-injuries-risk-overwhelming-health-facilities-who-2021-05-21/?utm_campaign=fullarticle&amp;utm_medium=referral&amp;utm_source=inshorts \">Reuters</a></div>\\n    </div>\\n  \\n\\n</div>\\n\\n  \\n</div>\\n\\n\\n\\n\\n  \\n    <div id=\\'div-gpt-ad-1536748319959-rn69iipo-1\\' style=\\'height:250px; width:900px; margin: auto; margin-bottom: 2%;\\'>\\n      <script>\\n        googletag.cmd.push(function() { \\n          //News banner for desktop\\n          var slotIdWeb = \\'div-gpt-ad-1536748319959-rn69iipo-1\\';\\n          var slot = googletag.defineSlot(\\'/142919096/inshorts_website_900x250\\', [900, 250], slotIdWeb)\\n          .addService(googletag.pubads())\\n          .setCollapseEmptyDiv(true,true);\\n\\n          googletag.display(\\'div-gpt-ad-1536748319959-rn69iipo-1\\');\\n          googletag.pubads().refresh([slot]);\\n        });\\n      </script>\\n    </div>\\n  \\n\\n<div class=\"\">\\n<div class=\"news-card z-depth-1\" itemscope itemtype=\"http://schema.org/NewsArticle\">\\n  <span content=\"\" itemscope itemprop=\"mainEntityOfPage\" itemType=\"https://schema.org/WebPage\" itemid=\"https://inshorts.com/en/news/nepal-president-dissolves-parliament-election-to-be-held-in-nov-1621668783275\"></span>\\n  <span itemtype=\"https://schema.org/Person\" itemscope=\"itemscope\" itemprop=\"author\">\\n    <span itemprop=\"name\" content=\"Athira Sasidharan\"></span>\\n  </span>\\n  <span itemprop=\"description\" content=\"Nepal President dissolves Parliament; election to be held in Nov\"></span>\\n  <span itemprop=\"image\" itemscope itemtype=\"https://schema.org/ImageObject\">\\n    <meta itemprop=\"url\" content=\"https://static.inshorts.com/inshorts/images/v1/variants/jpg/m/2021/05_may/22_sat/img_1621662421178_56.jpg?\"></meta>\\n    <meta itemprop=\"width\" content=\"864\"></meta>\\n    <meta itemprop=\"height\" content=\"483\"></meta>\\n  </span>\\n  <span itemtype=\"https://schema.org/Organization\" itemscope=\"itemscope\" itemprop=\"publisher\">\\n    <span itemprop=\"url\" content=\"https://inshorts.com/\"></span>\\n    <span itemprop=\"name\" content=\"Inshorts\"></span>\\n    <span itemprop=\"logo\" itemscope itemtype=\"https://schema.org/ImageObject\">\\n      <span itemprop=\"url\" content=\"https://assets.inshorts.com/inshorts/images/v1/variants/jpg/m/2018/11_nov/21_wed/img_1542823931298_497.jpg\"></span>\\n      <meta itemprop=\"width\" content=\"400\"></meta>\\n      <meta itemprop=\"height\" content=\"60\"></meta>\\n    </span>\\n  </span>\\n  <div class=\"news-card-image\" style= \"background-image: url(\\'https://static.inshorts.com/inshorts/images/v1/variants/jpg/m/2021/05_may/22_sat/img_1621662421178_56.jpg?\\')\">\\n  </div>\\n  <div class=\"news-card-title news-right-box\">\\n    <a class=\"clickable\" onclick=\"track_GA_Mixpanel({\\'hitType\\': \\'event\\', \\'category\\': \\'TitleOfNews\\', \\'action\\': \\'clicked\\', \\'label\\': \\'Nepal%20President%20dissolves%20Parliament%3B%20election%20to%20be%20held%20in%20Nov)\\' });\"  style=\"color:#44444d!important\" href=\"/en/news/nepal-president-dissolves-parliament-election-to-be-held-in-nov-1621668783275\">\\n      <span itemprop=\"headline\">Nepal President dissolves Parliament; election to be held in Nov</span>\\n    </a>\\n    <div class=\"news-card-author-time news-card-author-time-in-title\">\\n      <a href=\"/prev/en/news/nepal-president-dissolves-parliament-election-to-be-held-in-nov-1621668783275\"><span class=\"short\">short</span></a> by <span class=\"author\">Athira Sasidharan</span> / \\n      <span class=\"time\" itemprop=\"datePublished\" content=\"2021-05-22T07:33:03.000Z\">01:03 pm</span> on <span clas=\"date\">22 May 2021,Saturday</span>\\n    </div>\\n  </div>\\n  <div class=\"news-card-content news-right-box\">\\n    <div itemprop=\"articleBody\">Nepal President Bidya Devi Bhandari has dissolved the Parliament and announced mid-term polls on November 12 and 19. The decision was taken after both, caretaker PM KP Sharma Oli and opposition leader Sher Bahadur Deuba, were unable to demonstrate majority to form a new government by Friday, she said. The announcement came after PM Oli recommended dissolution of the Parliament. </div>\\n    <div class=\"news-card-author-time news-card-author-time-in-content\">\\n      <a href=\"/prev/en/news/nepal-president-dissolves-parliament-election-to-be-held-in-nov-1621668783275\"><span class=\"short\">short</span></a> by <span class=\"author\">Athira Sasidharan</span> / \\n      <span class=\"time\" itemprop=\"dateModified\" content=\"2021-05-22T07:33:03.000Z\" >01:03 pm</span> on <span class=\"date\">22 May</span>\\n    </div>\\n  </div>\\n  \\n    <div class=\"news-card-footer news-right-box\">\\n      <div class=\"read-more\">read more at <a class=\"source\" onclick=\"track_GA_Mixpanel({\\'hitType\\': \\'event\\', \\'category\\': \\'ReadMore\\', \\'action\\': \\'clicked\\', \\'label\\': \\'Zee%20News\\' });\" target=\"_blank\" href=\"https://zeenews.india.com/world/nepal-president-bidya-devi-bhandari-dissolves-parliament-new-election-in-november-2363555.html/amp?utm_campaign=fullarticle&amp;utm_medium=referral&amp;utm_source=inshorts \">Zee News</a></div>\\n    </div>\\n  \\n\\n</div>\\n\\n  \\n</div>\\n\\n\\n\\n\\n<div class=\"\">\\n<div class=\"news-card z-depth-1\" itemscope itemtype=\"http://schema.org/NewsArticle\">\\n  <span content=\"\" itemscope itemprop=\"mainEntityOfPage\" itemType=\"https://schema.org/WebPage\" itemid=\"https://inshorts.com/en/news/chinas-xi-pledges-$3-bn-pandemic-aid-for-poor-nations-1621662055126\"></span>\\n  <span itemtype=\"https://schema.org/Person\" itemscope=\"itemscope\" itemprop=\"author\">\\n    <span itemprop=\"name\" content=\"Ravi Dutta Mishra\"></span>\\n  </span>\\n  <span itemprop=\"description\" content=\"China&#39;s Xi pledges $3 bn pandemic aid for poor nations\"></span>\\n  <span itemprop=\"image\" itemscope itemtype=\"https://schema.org/ImageObject\">\\n    <meta itemprop=\"url\" content=\"https://static.inshorts.com/inshorts/images/v1/variants/jpg/m/2021/05_may/22_sat/img_1621657236390_44.jpg?\"></meta>\\n    <meta itemprop=\"width\" content=\"864\"></meta>\\n    <meta itemprop=\"height\" content=\"483\"></meta>\\n  </span>\\n  <span itemtype=\"https://schema.org/Organization\" itemscope=\"itemscope\" itemprop=\"publisher\">\\n    <span itemprop=\"url\" content=\"https://inshorts.com/\"></span>\\n    <span itemprop=\"name\" content=\"Inshorts\"></span>\\n    <span itemprop=\"logo\" itemscope itemtype=\"https://schema.org/ImageObject\">\\n      <span itemprop=\"url\" content=\"https://assets.inshorts.com/inshorts/images/v1/variants/jpg/m/2018/11_nov/21_wed/img_1542823931298_497.jpg\"></span>\\n      <meta itemprop=\"width\" content=\"400\"></meta>\\n      <meta itemprop=\"height\" content=\"60\"></meta>\\n    </span>\\n  </span>\\n  <div class=\"news-card-image\" style= \"background-image: url(\\'https://static.inshorts.com/inshorts/images/v1/variants/jpg/m/2021/05_may/22_sat/img_1621657236390_44.jpg?\\')\">\\n  </div>\\n  <div class=\"news-card-title news-right-box\">\\n    <a class=\"clickable\" onclick=\"track_GA_Mixpanel({\\'hitType\\': \\'event\\', \\'category\\': \\'TitleOfNews\\', \\'action\\': \\'clicked\\', \\'label\\': \\'China&#39;s%20Xi%20pledges%20%243%20bn%20pandemic%20aid%20for%20poor%20nations)\\' });\"  style=\"color:#44444d!important\" href=\"/en/news/chinas-xi-pledges-$3-bn-pandemic-aid-for-poor-nations-1621662055126\">\\n      <span itemprop=\"headline\">China&#39;s Xi pledges $3 bn pandemic aid for poor nations</span>\\n    </a>\\n    <div class=\"news-card-author-time news-card-author-time-in-title\">\\n      <a href=\"/prev/en/news/chinas-xi-pledges-$3-bn-pandemic-aid-for-poor-nations-1621662055126\"><span class=\"short\">short</span></a> by <span class=\"author\">Ravi Dutta Mishra</span> / \\n      <span class=\"time\" itemprop=\"datePublished\" content=\"2021-05-22T05:40:55.000Z\">11:10 am</span> on <span clas=\"date\">22 May 2021,Saturday</span>\\n    </div>\\n  </div>\\n  <div class=\"news-card-content news-right-box\">\\n    <div itemprop=\"articleBody\">China&#39;s President Xi Jinping on Friday pledged an additional $3 billion in aid over the next three years to help developing countries recover from the COVID-19 pandemic. He also proposed setting up an international forum on vaccine cooperation. &#34;It is imperative for us to reject vaccine nationalism and make vaccines more accessible and affordable for developing countries,&#34; Xi Jinping added. </div>\\n    <div class=\"news-card-author-time news-card-author-time-in-content\">\\n      <a href=\"/prev/en/news/chinas-xi-pledges-$3-bn-pandemic-aid-for-poor-nations-1621662055126\"><span class=\"short\">short</span></a> by <span class=\"author\">Ravi Dutta Mishra</span> / \\n      <span class=\"time\" itemprop=\"dateModified\" content=\"2021-05-22T05:40:55.000Z\" >11:10 am</span> on <span class=\"date\">22 May</span>\\n    </div>\\n  </div>\\n  \\n    <div class=\"news-card-footer news-right-box\">\\n      <div class=\"read-more\">read more at <a class=\"source\" onclick=\"track_GA_Mixpanel({\\'hitType\\': \\'event\\', \\'category\\': \\'ReadMore\\', \\'action\\': \\'clicked\\', \\'label\\': \\'Hindustan%20Times\\' });\" target=\"_blank\" href=\"https://www.hindustantimes.com/world-news/xi-pledges-3-bn-covid-aid-for-poor-nations-proposes-vaccine-cooperation-forum-101621605554427-amp.html?utm_campaign=fullarticle&amp;utm_medium=referral&amp;utm_source=inshorts \">Hindustan Times</a></div>\\n    </div>\\n  \\n\\n</div>\\n\\n  \\n</div>\\n\\n\\n\\n\\n<div class=\"\">\\n<div class=\"news-card z-depth-1\" itemscope itemtype=\"http://schema.org/NewsArticle\">\\n  <span content=\"\" itemscope itemprop=\"mainEntityOfPage\" itemType=\"https://schema.org/WebPage\" itemid=\"https://inshorts.com/en/news/dalai-lamas-successor-has-to-be-approved-by-china-chinese-document-1621614838668\"></span>\\n  <span itemtype=\"https://schema.org/Person\" itemscope=\"itemscope\" itemprop=\"author\">\\n    <span itemprop=\"name\" content=\"Shailesh\"></span>\\n  </span>\\n  <span itemprop=\"description\" content=\"Dalai Lama&#39;s successor has to be approved by China: Chinese document\"></span>\\n  <span itemprop=\"image\" itemscope itemtype=\"https://schema.org/ImageObject\">\\n    <meta itemprop=\"url\" content=\"https://static.inshorts.com/inshorts/images/v1/variants/jpg/m/2021/05_may/21_fri/img_1621612526842_523.jpg?\"></meta>\\n    <meta itemprop=\"width\" content=\"864\"></meta>\\n    <meta itemprop=\"height\" content=\"483\"></meta>\\n  </span>\\n  <span itemtype=\"https://schema.org/Organization\" itemscope=\"itemscope\" itemprop=\"publisher\">\\n    <span itemprop=\"url\" content=\"https://inshorts.com/\"></span>\\n    <span itemprop=\"name\" content=\"Inshorts\"></span>\\n    <span itemprop=\"logo\" itemscope itemtype=\"https://schema.org/ImageObject\">\\n      <span itemprop=\"url\" content=\"https://assets.inshorts.com/inshorts/images/v1/variants/jpg/m/2018/11_nov/21_wed/img_1542823931298_497.jpg\"></span>\\n      <meta itemprop=\"width\" content=\"400\"></meta>\\n      <meta itemprop=\"height\" content=\"60\"></meta>\\n    </span>\\n  </span>\\n  <div class=\"news-card-image\" style= \"background-image: url(\\'https://static.inshorts.com/inshorts/images/v1/variants/jpg/m/2021/05_may/21_fri/img_1621612526842_523.jpg?\\')\">\\n  </div>\\n  <div class=\"news-card-title news-right-box\">\\n    <a class=\"clickable\" onclick=\"track_GA_Mixpanel({\\'hitType\\': \\'event\\', \\'category\\': \\'TitleOfNews\\', \\'action\\': \\'clicked\\', \\'label\\': \\'Dalai%20Lama&#39;s%20successor%20has%20to%20be%20approved%20by%20China%3A%20Chinese%20document)\\' });\"  style=\"color:#44444d!important\" href=\"/en/news/dalai-lamas-successor-has-to-be-approved-by-china-chinese-document-1621614838668\">\\n      <span itemprop=\"headline\">Dalai Lama&#39;s successor has to be approved by China: Chinese document</span>\\n    </a>\\n    <div class=\"news-card-author-time news-card-author-time-in-title\">\\n      <a href=\"/prev/en/news/dalai-lamas-successor-has-to-be-approved-by-china-chinese-document-1621614838668\"><span class=\"short\">short</span></a> by <span class=\"author\">Shailesh</span> / \\n      <span class=\"time\" itemprop=\"datePublished\" content=\"2021-05-21T16:33:58.000Z\">10:03 pm</span> on <span clas=\"date\">21 May 2021,Friday</span>\\n    </div>\\n  </div>\\n  <div class=\"news-card-content news-right-box\">\\n    <div itemprop=\"articleBody\">Any successor to the present Dalai Lama should be approved by China, a white paper on Tibet by the Chinese government said. The reincarnation of Dalai Lama and other grand Living Buddhas has been subjected to approval by China&#39;s central government since the Qing Dynasty, it said. Tibet has been an integral part of China since ancient times, it added.</div>\\n    <div class=\"news-card-author-time news-card-author-time-in-content\">\\n      <a href=\"/prev/en/news/dalai-lamas-successor-has-to-be-approved-by-china-chinese-document-1621614838668\"><span class=\"short\">short</span></a> by <span class=\"author\">Shailesh</span> / \\n      <span class=\"time\" itemprop=\"dateModified\" content=\"2021-05-21T16:33:58.000Z\" >10:03 pm</span> on <span class=\"date\">21 May</span>\\n    </div>\\n  </div>\\n  \\n\\n</div>\\n\\n  \\n</div>\\n\\n      </div>\\n      \\n      \\n      <div class=\"load-more-wrapper\">\\n        <div id=\"load-more-btn\" onclick=\"loadMoreNews()\" class=\"clickable unselectable load-more z-depth-1 hoverable\">Load More</div>\\n        <div id=\"load-more-gif\" style=\"display:none;\" class=\"clickable unselectable load-more\"><img id=\"load-more-gif\" src=\"https://assets.inshorts.com/website_assets/images/ajax-loader.gif\"/></div>\\n      </div>\\n      \\n\\n      \\n      <div class=\"my-red app-download-pane  hide-on-large-only\">\\n        <div class=\"container\">\\n          <div class=\"row\">\\n            <div class=\"col s12 center\" style=\"color:white;font-weight: 300;font-size:14px;margin-top: 28px;margin-bottom: 18px;\">\\n              For the best experience use <a target=\"_blank\" href=\"/mobile\" style=\"color:white;appearance: none;font-weight: 500;\">inshorts</a> app on your smartphone\\n            </div>\\n            \\n            \\n          </div>\\n        </div>\\n      </div>\\n      \\n\\n    </div>\\n  </div>\\n  <!-- BODY END -->\\n  <footer class=\"page-footer teals\"> \\n  <div class=\"container\">\\n    <div class=\"row\" style=\"margin-bottom: 0px; padding-bottom: 5px;\">\\n\\n      <div class=\"col offset-l3 l3 m4 s12 right social-admin\">\\n        <div class=\"social-share\"><a onclick=\"track_GA_Mixpanel({\\'hitType\\': \\'event\\', \\'category\\': \\'LinkToFaceBookPage\\', \\'action\\': \\'clicked\\', \\'label\\': \\'RedirectedToFaceBook\\' });\" target=\"_blank\" href=\"https://www.facebook.com/inshortsapp\"><img src=\"https://assets.inshorts.com/website_assets/images/facebook.png\"/></a></div>\\n        <div class=\"social-share\"><a onclick=\"track_GA_Mixpanel({\\'hitType\\': \\'event\\', \\'category\\': \\'LinkToTwitterPage\\', \\'action\\': \\'clicked\\', \\'label\\': \\'RedirectedToTwitter\\' });\" target=\"_blank\" href=\"https://twitter.com/inshorts\"><img src=\"https://assets.inshorts.com/website_assets/images/twitter.png\"/></a></div>\\n        <div class=\"social-share\"><a onclick=\"track_GA_Mixpanel({\\'hitType\\': \\'event\\', \\'category\\': \\'LinkToLinkedinPage\\', \\'action\\': \\'clicked\\', \\'label\\': \\'RedirectedToLinkedin\\' });\" target=\"_blank\" href=\"https://www.linkedin.com/company/news-in-shorts\"><img src=\"https://assets.inshorts.com/website_assets/images/linkedin.png\"/></a></div>\\n      </div>\\n\\n\\n      <div class=\"col m4 l3 s6 footer-left-pane\">\\n        <div class=\"right\"><img width=\"160px\" height=\"48px\" src=\"https://assets.inshorts.com/website_assets/images/logo_footer.png\"/></div>\\n\\n        <div class=\"copy-text\" >\\n          <span><span style=\"color:#cfcfcf;font-family: \\'Conv_ClanPro-Bold\\'\">inshorts</span> medialabs pvt. ltd.</span><br/>\\n          &copy;<span style=\"font-size:12px\">COPYRIGHT 2021</span>\\n        </div>\\n      </div>\\n      <div class=\"col m4 l3 s6 footer-right-pane\">\\n        <div id=\"contactUsBtn\" class=\"left clickable\" style=\"margin-top: -5px;\"><img width=\"132px\" height=\"48px\" src=\"https://assets.inshorts.com/website_assets/images/contact_icon.png\"/></div>              \\n        <div class=\"terms-text\">\\n          <a class=\"tnc\" style=\"color: #fff;\" onclick=\"track_GA_Mixpanel({\\'hitType\\': \\'event\\', \\'category\\': \\'LinkToTermsAndConditionsAndPP\\', \\'action\\': \\'clicked\\', \\'label\\': \\'RedirectedToTermsAndConditions\\' });\" target=\"_blank\" href=\"/tnc\"><span>Terms &amp; conditions</span><br/>\\n          <span>Privacy Policies</span>\\n          </a>\\n          <br/>\\n          <a class=\"tnc\" style=\"color: #fff;\" onclick=\"track_GA_Mixpanel({\\'hitType\\': \\'event\\', \\'category\\': \\'LinkToSitemap\\', \\'action\\': \\'clicked\\', \\'label\\': \\'RedirectedToSitemap\\' });\" target=\"_blank\" href=\"/editorial_policy\">\\n          <span>Editorial Policy</span>\\n          </a>\\n        </div>\\n      </div>\\n    </div>\\n  </div>\\n  <div id=\"contactUsModal\" class=\"modal_contact row\">\\n    <!-- Modal content -->\\n      <div class=\"modal-content col l4 m4 s8 offset-s2 offset-l4 offset-m4\">\\n        <span class=\"close\">&times;</span>\\n        <div class=\"contact\">\\n          <a target=\"_blank\" href=\"mailto:careers@inshorts.com?subject=Inshorts%20website%20contact%20form\">\\n            <button id=\"myBtn\">Contact Hiring Team</button>\\n          </a>\\n        </div>\\n        <div class=\"contact\">\\n          <a target=\"_blank\" href=\"mailto:Admin@inshorts.com?subject=Inshorts%20website%20contact%20form\">\\n            <button id=\"myBtn\">Contact Admin Team</button>\\n          </a>\\n        </div>\\n        <div class=\"contact\">\\n          <a target=\"_blank\" href=\"mailto:Marketing@inshorts.com?subject=Inshorts%20website%20contact%20form\">\\n            <button id=\"myBtn\">Contact Marketing Team</button>\\n          </a>\\n        </div>\\n        <div class=\"contact\">\\n          <a target=\"_blank\" href=\"mailto:Editorial@inshorts.com?subject=Inshorts%20website%20contact%20form\">\\n            <button id=\"myBtn\">Contact Editorial Team</button>\\n          </a>\\n        </div>\\n        <div class=\"contact\">\\n          <a target=\"_blank\" href=\"mailto:Sales@inshorts.com?subject=Inshorts%20website%20contact%20form\">\\n            <button id=\"myBtn\">Contact Sales Team</button>\\n          </a>\\n        </div>\\n        <div class=\"contact\">\\n          <a target=\"_blank\" href=\"mailto:Contact@inshorts.com?subject=Inshorts%20website%20contact%20form\">\\n            <button id=\"myBtn\">Contact For Any Other Query</button>\\n          </a>\\n        </div>\\n      </div>\\n  </div>\\n</footer>\\n<script>\\nvar modal = document.getElementById(\\'contactUsModal\\');\\n\\n// Get the button that opens the modal\\nvar btn = document.getElementById(\"contactUsBtn\");\\n\\n// Get the <span> element that closes the modal\\nvar span = document.getElementsByClassName(\"close\")[0];\\n\\n// When the user clicks on the button, open the modal \\nbtn.onclick = function() {\\n    modal.style.display = \"block\";\\n}\\n\\n// When the user clicks on <span> (x), close the modal\\nspan.onclick = function() {\\n    modal.style.display = \"none\";\\n}\\n\\n// When the user clicks anywhere outside of the modal, close it\\nwindow.onclick = function(event) {\\n    if (event.target == modal) {\\n        modal.style.display = \"none\";\\n    }\\n}\\n</script>\\n\\n\\n  <!-- Eliminate render-blocking JavaScript and CSS in above-the-fold content -->\\n  <script src=\"https://ajax.googleapis.com/ajax/libs/jquery/1.8/jquery.min.js\"></script>\\n  <script src=\"https://cdnjs.cloudflare.com/ajax/libs/materialize/0.97.0/js/materialize.min.js\"></script>\\n  \\n  <script type=\"text/javascript\" src=\"/dist/scripts/index.js\"></script>\\n  <script type=\"text/javascript\" src=\"/dist/scripts/read.js\"></script>\\n  <script src=\"/dist/scripts/jquery.scrolldepth.min.js\"></script>\\n  <script type=\"text/javascript\">\\n\\n    var min_news_id = \"9wxbxr5h-1\";\\n    function loadMoreNews(){\\n      $(\"#load-more-btn\").hide();\\n      $(\"#load-more-gif\").show();\\n      $.post(\"/en/ajax/more_news\",{\\'category\\':\\'world\\',\\'news_offset\\':min_news_id},function(data){\\n          data = JSON.parse(data);\\n          min_news_id = data.min_news_id||min_news_id;\\n          $(\".card-stack\").append(data.html);\\n      })\\n      .fail(function(){alert(\"Error : unable to load more news\");})\\n      .always(function(){$(\"#load-more-btn\").show();$(\"#load-more-gif\").hide();});\\n    }\\n    jQuery.scrollDepth();\\n  </script>\\n\\n  <!-- Eliminate render-blocking JavaScript and CSS in above-the-fold content -->\\n\\n</body>\\n</html>\\n'"
      ]
     },
     "execution_count": 116,
     "metadata": {},
     "output_type": "execute_result"
    }
   ],
   "source": [
    "data=requests.get(url)\n",
    "data.content"
   ]
  },
  {
   "cell_type": "code",
   "execution_count": 117,
   "metadata": {},
   "outputs": [],
   "source": [
    "soup=BeautifulSoup(data.content,'html.parser')"
   ]
  },
  {
   "cell_type": "code",
   "execution_count": 118,
   "metadata": {},
   "outputs": [],
   "source": [
    "news_articles = [{'news_headline': headline.find('span', attrs={'itemprop': 'headline'}).string,\n",
    "                  'news_article': article.find('div', attrs={'itemprop': 'articleBody'}).string,\n",
    "                  'news_category': news_category} \n",
    "                 for headline, article in zip(soup.find_all('div', \n",
    "                                                            class_ = ['news-card-title news-right-box']), \n",
    "                                              soup.find_all('div', class_=['news-card-content news-right-box']))]"
   ]
  },
  {
   "cell_type": "code",
   "execution_count": 119,
   "metadata": {},
   "outputs": [
    {
     "data": {
      "text/plain": [
       "[{'news_headline': \"India's COVID-19 crisis a warning for low & middle-income nations: IMF\",\n",
       "  'news_article': 'The International Monetary Fund has said that the ongoing second COVID-19 wave in India, following a \"terrible wave\" in Brazil, is a \"sign the worst may be yet to come\" for developing countries. \"India is a warning of possible events in other low and middle-income countries that so far have seemingly escaped the pandemic, including in Africa,\" the IMF added.',\n",
       "  'news_category': 'world'},\n",
       " {'news_headline': \"What is 'vaccine tourism' and can Indians go abroad for Covid-19 vaccine shots?\",\n",
       "  'news_article': \"Vaccine tourism usually refers to visiting another country or state to get a vaccine. Recently, an agency launched a ₹1.3-lakh tour package promising Indian tourists trip to Russia and two Sputnik V vaccine doses. Several Indians recently visited Dubai to avail China's Sinopharm vaccine shots. It's currently not illegal to travel abroad to get vaccinated if air travel is allowed.\",\n",
       "  'news_category': 'world'},\n",
       " {'news_headline': \"Pak min accused of anti-Semitism over interview, Israel says 'sorry to hear his remarks'\",\n",
       "  'news_article': 'Israel has expressed regret over Pakistan Foreign Minister Shah Mahmood Qureshi\\'s alleged anti-Semitic remark. During a CNN interview, Qureshi said, \"Israel is losing...media war despite...connections, deep pockets and [ability to] control media.\" \"I\\'m sorry to hear [Qureshi]...expressed himself in anti-Semitic manner,\" Rony Yedidia Clein, Deputy Chief of Mission, Israel Embassy in India, said.\\n\\n\\n',\n",
       "  'news_category': 'world'},\n",
       " {'news_headline': 'Spanish volunteer abused online after pic of her hugging\\xa0African migrant goes viral',\n",
       "  'news_article': 'Luna Reyes, a 20-year-old Spanish Red Cross volunteer, said she has been abused on social media with sexist and racist comments after a picture of her comforting a Senegalese migrant went viral. She was targeted by supporters of Spain\\'s far-right Vox party after record 8,000 migrants entered Ceuta from Morocco. \"He hugged me...That embrace was his lifeline,\" the volunteer said.',\n",
       "  'news_category': 'world'},\n",
       " {'news_headline': 'US flight makes emergency landing after passenger snorts white substance, gropes woman',\n",
       "  'news_article': 'A JetBlue flight was forced to make an emergency landing in US\\' Minneapolis after a man was acting \"erratically and aggressively\" towards passengers and crew members, the airline said. The man refused to keep his mask on, groped a woman and was also seen snorting a white substance, as per officials. He was arrested at the Minneapolis Airport.',\n",
       "  'news_category': 'world'},\n",
       " {'news_headline': 'Dubai Crown Prince blessed with twins, shares pic',\n",
       "  'news_article': 'Sheikh Hamdan Bin Mohammed Bin Rashid Al Maktoum, Dubai Crown Prince and Chairman of the Dubai Executive Council, has been blessed with twins, a boy and a girl. He took to social media to share a picture of himself with the twins. The baby boy has been named Rashid, while the baby girl is named Sheikha.',\n",
       "  'news_category': 'world'},\n",
       " {'news_headline': 'Spain to allow all vaccinated travellers in from Jun 7: PM Sanchez',\n",
       "  'news_article': 'Spain will allow all vaccinated travellers from June 7 \"regardless of their country of origin\", PM Pedro Sanchez said. Tourists from 10 non-EU countries deemed low-risk, including UK and Israel, will be allowed to enter without a negative COVID-19 test from May 24, he added. Spain, the second-most visited country before pandemic, expects around 4.5 crore foreign tourists this year. ',\n",
       "  'news_category': 'world'},\n",
       " {'news_headline': 'Canada extends ban on passenger flights from India, Pak till Jun 21',\n",
       "  'news_article': 'Canada has extended its ban on passenger flights from India and Pakistan until June 21 to combat coronavirus spread, the country\\'s Transport Minister Omar Alghabra said. Canada has seen a \"significant reduction\" in COVID-19 cases among arriving airline passengers since the ban was first imposed on April 22, Alghabra added. However, the move will not apply to cargo flights. ',\n",
       "  'news_category': 'world'},\n",
       " {'news_headline': '₹36-cr lottery offered to New York people to take COVID-19 vaccine',\n",
       "  'news_article': 'People in New York could win up to $5 million (over ₹36 crore) from the state lottery if they get COVID-19 vaccine at a state-run clinic, Governor Andrew Cuomo said. \"As vaccination rates slow across...state, we\\'re going to have to get creative to put even more shots in arms,\" Cuomo added. \\'Vax & Scratch\\' programme will run from May 24-28. ',\n",
       "  'news_category': 'world'},\n",
       " {'news_headline': \"Germany declares UK as a 'virus variant region' \",\n",
       "  'news_article': 'Germany\\'s public health institute on Friday declared the UK and Northern Ireland as \"a virus variant region\" over concerns about the spread of coronavirus variant first detected in India. Britain has reported over 3,400 cases of the variant. The move, which will come into force on Sunday, came just a week after Germany declared UK as a coronavirus \"risk area\". ',\n",
       "  'news_category': 'world'},\n",
       " {'news_headline': 'COVID-19 deaths in Latin America exceed 10 lakh amid rising cases',\n",
       "  'news_article': 'The death toll from COVID-19 in Latin America and the Caribbean exceeded 10 lakh on Friday, according to a Reuters tally. South America is the only region where new infections are rising rapidly on a per capita basis, Our World in Data reported. \"Just 3% of Latin Americans have been fully vaccinated against COVID-19,\" Pan American Health Organization (PAHO) said.',\n",
       "  'news_category': 'world'},\n",
       " {'news_headline': 'French Prez Emmanuel Macron will attend Tokyo Olympics: Minister',\n",
       "  'news_article': 'French President Emmanuel Macron will attend the opening ceremony of the Tokyo 2020 Olympic Games, Sports Minister Roxana Maracineanu said. \"We have to take the torch for Paris 2024 at the end of the Games,\" she added. The Games, scheduled to be held from July 23-August 8, are facing growing opposition from the public amid rising coronavirus cases in Japan.',\n",
       "  'news_category': 'world'},\n",
       " {'news_headline': '80% people want Tokyo Olympics to be postponed or cancelled: Son',\n",
       "  'news_article': 'SoftBank Founder Masayoshi Son in a tweet against the Tokyo Olympics said, \"Now, more than 80% of the people want to postpone or call off the Olympics. Who is going to push for it, with what rights?\" Earlier, Son had said he was \"afraid\" of having the Olympics during COVID-19 and expressed concern for both Japan and other countries.',\n",
       "  'news_category': 'world'},\n",
       " {'news_headline': 'Nigerian Army chief Attahiru, 10 officers killed in plane crash',\n",
       "  'news_article': 'Nigerian Army chief Lieutenant General Ibrahim Attahiru and 10 other officers were killed in a plane crash on Friday after making an official trip to Kaduna state, the military said. \"This crash is...mortal blow to our underbelly, at a time our Armed Forces are poised to end the security challenges facing the country,\" Nigeria\\'s President Muhammadu Buhari tweeted.',\n",
       "  'news_category': 'world'},\n",
       " {'news_headline': 'Pak delivers 3 domestically-made JF-17 fighter jets to Nigeria',\n",
       "  'news_article': 'Pakistan on Friday officially handed over to Nigeria three domestically-made JF-17 Thunder fighter jets, developed in collaboration with China. Nigerian Defence Minister Major General (Rtd) Bashir Magashi said, \"We are happy and excited on the addition of...[fighter jets] from Pakistan.\" The jets were inducted during a ceremony to mark the 57th anniversary of the Nigerian Air Force.',\n",
       "  'news_category': 'world'},\n",
       " {'news_headline': 'Two-state solution only answer to Israel-Palestine conflict: Biden',\n",
       "  'news_article': 'US President Joe Biden said a \"two-state solution\", with a sovereign Palestinian state alongside Israel and Jerusalem as their shared capital, was the \"only answer\" to resolve conflict between the two sides. Biden stressed \"there is no shift in my commitment...to the security of Israel\" and added that until the region \"unequivocally\" acknowledges Israel\\'s existence \"there will be no peace\". ',\n",
       "  'news_category': 'world'},\n",
       " {'news_headline': \"She should be here: Prince Harry on son Archie's first word 'Grandma'\",\n",
       "  'news_article': 'While speaking about his late mother, Princess Diana, Prince Harry revealed that one of his son Archie\\'s first words was \\'grandma\\'. In the documentary series \\'The Me You Can\\'t See\\', Harry said, \"It\\'s the sweetest thing, but at the same time, it makes me really sad because she should be here.\" He also said, \"I wish she could\\'ve met Meghan.\"',\n",
       "  'news_category': 'world'},\n",
       " {'news_headline': 'Spain returns 6,600 migrants to Morocco from its enclave in Africa',\n",
       "  'news_article': 'Speaking about the recent influx of migrants in its African enclave of Ceuta, Spain said that more than 6,600 migrants have been returned to Morocco. Over 8,000 people had arrived in Ceuta from Morocco between Monday and Wednesday by scaling a border fence or swimming around it. Spanish authorities identified 438 unaccompanied minors among the migrants.',\n",
       "  'news_category': 'world'},\n",
       " {'news_headline': 'UN allocates $22.5 mn to Gaza for emergency humanitarian needs',\n",
       "  'news_article': 'The United Nations has allocated $22.5 million to Gaza for emergency humanitarian needs. \"The funds released...will help provide affected people with essential services and humanitarian assistance and dispose of explosive ordnance,\" a UN statement read. Israel and Hamas ended 11 days of fighting on Friday, in which more than 240 people were killed and over 77,000 Palestinians were displaced. ',\n",
       "  'news_category': 'world'},\n",
       " {'news_headline': \"IS fighters in Nigeria can't claim bounty on Boko Haram leader: US\",\n",
       "  'news_article': 'Speaking on reports of Boko Haram leader Abubakar Shekau\\'s death during clashes with Islamic State-linked fighters in Nigeria, the US announced that the fighters aren\\'t eligible for the $7-million reward placed on Shekau. \"Hey, IS guys. To clarify:  no - you aren\\'t eligible for...reward for information on his identity or location. That\\'s not how the program works,\" it said.',\n",
       "  'news_category': 'world'},\n",
       " {'news_headline': 'Yoga ban revoked after 28 years in US state, namaste prohibited',\n",
       "  'news_article': 'US\\' Alabama state has lifted a ban on teaching yoga in schools, ending a 28-year-old ban. However, the teachers will have to use English names for yoga poses and the use of chanting, mantras and salutation \"namaste\" is forbidden. The law also limits yoga in schools to poses, stretches and exercises. The measure was introduced by Democrat Jeremy Gray. ',\n",
       "  'news_category': 'world'},\n",
       " {'news_headline': '257 killed, 8,538 injured in Gaza during conflict with Israel: WHO',\n",
       "  'news_article': 'The World Health Organization (WHO) on Friday said that 257 people were killed and 8,538 others were injured in the Gaza Strip during the conflict between Palestinian armed groups and Israel. Separately, 30 health facilities had been damaged, with most of them operating at a partial capacity, it added. Thousands of Palestinian injuries risk \"overwhelming health facilities\", it further said.',\n",
       "  'news_category': 'world'},\n",
       " {'news_headline': 'Nepal President dissolves Parliament; election to be held in Nov',\n",
       "  'news_article': 'Nepal President Bidya Devi Bhandari has dissolved the Parliament and announced mid-term polls on November 12 and 19. The decision was taken after both, caretaker PM KP Sharma Oli and opposition leader Sher Bahadur Deuba, were unable to demonstrate majority to form a new government by Friday, she said. The announcement came after PM Oli recommended dissolution of the Parliament. ',\n",
       "  'news_category': 'world'},\n",
       " {'news_headline': \"China's Xi pledges $3 bn pandemic aid for poor nations\",\n",
       "  'news_article': 'China\\'s President Xi Jinping on Friday pledged an additional $3 billion in aid over the next three years to help developing countries recover from the COVID-19 pandemic. He also proposed setting up an international forum on vaccine cooperation. \"It is imperative for us to reject vaccine nationalism and make vaccines more accessible and affordable for developing countries,\" Xi Jinping added. ',\n",
       "  'news_category': 'world'},\n",
       " {'news_headline': \"Dalai Lama's successor has to be approved by China: Chinese document\",\n",
       "  'news_article': \"Any successor to the present Dalai Lama should be approved by China, a white paper on Tibet by the Chinese government said. The reincarnation of Dalai Lama and other grand Living Buddhas has been subjected to approval by China's central government since the Qing Dynasty, it said. Tibet has been an integral part of China since ancient times, it added.\",\n",
       "  'news_category': 'world'}]"
      ]
     },
     "execution_count": 119,
     "metadata": {},
     "output_type": "execute_result"
    }
   ],
   "source": [
    "news_data.extend(news_articles)\n",
    "news_data"
   ]
  },
  {
   "cell_type": "code",
   "execution_count": 120,
   "metadata": {},
   "outputs": [],
   "source": [
    "df1=pd.DataFrame(news_data)"
   ]
  },
  {
   "cell_type": "code",
   "execution_count": 122,
   "metadata": {},
   "outputs": [
    {
     "data": {
      "text/html": [
       "<div>\n",
       "<style scoped>\n",
       "    .dataframe tbody tr th:only-of-type {\n",
       "        vertical-align: middle;\n",
       "    }\n",
       "\n",
       "    .dataframe tbody tr th {\n",
       "        vertical-align: top;\n",
       "    }\n",
       "\n",
       "    .dataframe thead th {\n",
       "        text-align: right;\n",
       "    }\n",
       "</style>\n",
       "<table border=\"1\" class=\"dataframe\">\n",
       "  <thead>\n",
       "    <tr style=\"text-align: right;\">\n",
       "      <th></th>\n",
       "      <th>news_headline</th>\n",
       "      <th>news_article</th>\n",
       "      <th>news_category</th>\n",
       "    </tr>\n",
       "  </thead>\n",
       "  <tbody>\n",
       "    <tr>\n",
       "      <th>0</th>\n",
       "      <td>India's COVID-19 crisis a warning for low &amp; mi...</td>\n",
       "      <td>The International Monetary Fund has said that ...</td>\n",
       "      <td>world</td>\n",
       "    </tr>\n",
       "    <tr>\n",
       "      <th>1</th>\n",
       "      <td>What is 'vaccine tourism' and can Indians go a...</td>\n",
       "      <td>Vaccine tourism usually refers to visiting ano...</td>\n",
       "      <td>world</td>\n",
       "    </tr>\n",
       "    <tr>\n",
       "      <th>2</th>\n",
       "      <td>Pak min accused of anti-Semitism over intervie...</td>\n",
       "      <td>Israel has expressed regret over Pakistan Fore...</td>\n",
       "      <td>world</td>\n",
       "    </tr>\n",
       "  </tbody>\n",
       "</table>\n",
       "</div>"
      ],
      "text/plain": [
       "                                       news_headline  \\\n",
       "0  India's COVID-19 crisis a warning for low & mi...   \n",
       "1  What is 'vaccine tourism' and can Indians go a...   \n",
       "2  Pak min accused of anti-Semitism over intervie...   \n",
       "\n",
       "                                        news_article news_category  \n",
       "0  The International Monetary Fund has said that ...         world  \n",
       "1  Vaccine tourism usually refers to visiting ano...         world  \n",
       "2  Israel has expressed regret over Pakistan Fore...         world  "
      ]
     },
     "execution_count": 122,
     "metadata": {},
     "output_type": "execute_result"
    }
   ],
   "source": [
    "df1.head(3)"
   ]
  },
  {
   "cell_type": "code",
   "execution_count": null,
   "metadata": {},
   "outputs": [],
   "source": [
    "#creating user defined data"
   ]
  },
  {
   "cell_type": "code",
   "execution_count": 123,
   "metadata": {},
   "outputs": [],
   "source": [
    "urls_list = ['https://inshorts.com/en/read/technology',\n",
    "             'https://inshorts.com/en/read/sports',\n",
    "             'https://inshorts.com/en/read/world']\n",
    "\n",
    "def datasetPrepare(urls_list):\n",
    "    news_data = []\n",
    "    for url in urls_list:\n",
    "        news_category = url.split('/')[-1]\n",
    "        data = requests.get(url)\n",
    "        soup = BeautifulSoup(data.content, 'html.parser')\n",
    "        news_articles = [{'news_headline': headline.find('span', attrs={\"itemprop\": \"headline\"}).string,\n",
    "                          'news_article': article.find('div', attrs={\"itemprop\": \"articleBody\"}).string,\n",
    "                          'news_category': news_category}\n",
    "                         \n",
    "                            for headline, article in \n",
    "                             zip(soup.find_all('div', class_=[\"news-card-title news-right-box\"]),\n",
    "                                 soup.find_all('div', class_=[\"news-card-content news-right-box\"]))\n",
    "                        ]\n",
    "        news_data.extend(news_articles) \n",
    "    df =  pd.DataFrame(news_data)\n",
    "    df = df[['news_headline', 'news_article', 'news_category']]\n",
    "    return df    "
   ]
  },
  {
   "cell_type": "code",
   "execution_count": 124,
   "metadata": {},
   "outputs": [],
   "source": [
    "news_df = datasetPrepare(urls_list)"
   ]
  },
  {
   "cell_type": "code",
   "execution_count": 125,
   "metadata": {},
   "outputs": [
    {
     "name": "stdout",
     "output_type": "stream",
     "text": [
      "<class 'pandas.core.frame.DataFrame'>\n",
      "RangeIndex: 75 entries, 0 to 74\n",
      "Data columns (total 3 columns):\n",
      " #   Column         Non-Null Count  Dtype \n",
      "---  ------         --------------  ----- \n",
      " 0   news_headline  75 non-null     object\n",
      " 1   news_article   75 non-null     object\n",
      " 2   news_category  75 non-null     object\n",
      "dtypes: object(3)\n",
      "memory usage: 1.9+ KB\n"
     ]
    }
   ],
   "source": [
    "news_df.info()"
   ]
  },
  {
   "cell_type": "code",
   "execution_count": 126,
   "metadata": {},
   "outputs": [
    {
     "data": {
      "text/html": [
       "<div>\n",
       "<style scoped>\n",
       "    .dataframe tbody tr th:only-of-type {\n",
       "        vertical-align: middle;\n",
       "    }\n",
       "\n",
       "    .dataframe tbody tr th {\n",
       "        vertical-align: top;\n",
       "    }\n",
       "\n",
       "    .dataframe thead th {\n",
       "        text-align: right;\n",
       "    }\n",
       "</style>\n",
       "<table border=\"1\" class=\"dataframe\">\n",
       "  <thead>\n",
       "    <tr style=\"text-align: right;\">\n",
       "      <th></th>\n",
       "      <th>news_headline</th>\n",
       "      <th>news_article</th>\n",
       "      <th>news_category</th>\n",
       "    </tr>\n",
       "  </thead>\n",
       "  <tbody>\n",
       "    <tr>\n",
       "      <th>0</th>\n",
       "      <td>Amazon shuts construction at US site after 7 n...</td>\n",
       "      <td>Amazon has halted construction at a facility i...</td>\n",
       "      <td>technology</td>\n",
       "    </tr>\n",
       "    <tr>\n",
       "      <th>1</th>\n",
       "      <td>Leaked data including phone numbers from 18 cr...</td>\n",
       "      <td>Leaked data from around 18 crore orders from D...</td>\n",
       "      <td>technology</td>\n",
       "    </tr>\n",
       "    <tr>\n",
       "      <th>2</th>\n",
       "      <td>I haven't and won't sell any Dogecoin: Elon Musk</td>\n",
       "      <td>Tesla CEO Elon Musk on Thursday said he has no...</td>\n",
       "      <td>technology</td>\n",
       "    </tr>\n",
       "    <tr>\n",
       "      <th>3</th>\n",
       "      <td>Microsoft of 2021 very different from 2000: Na...</td>\n",
       "      <td>Microsoft CEO Satya Nadella has said that powe...</td>\n",
       "      <td>technology</td>\n",
       "    </tr>\n",
       "    <tr>\n",
       "      <th>4</th>\n",
       "      <td>Apple's head of software admits Macs have 'una...</td>\n",
       "      <td>Craig Federighi, Apple's Senior VP of Software...</td>\n",
       "      <td>technology</td>\n",
       "    </tr>\n",
       "  </tbody>\n",
       "</table>\n",
       "</div>"
      ],
      "text/plain": [
       "                                       news_headline  \\\n",
       "0  Amazon shuts construction at US site after 7 n...   \n",
       "1  Leaked data including phone numbers from 18 cr...   \n",
       "2   I haven't and won't sell any Dogecoin: Elon Musk   \n",
       "3  Microsoft of 2021 very different from 2000: Na...   \n",
       "4  Apple's head of software admits Macs have 'una...   \n",
       "\n",
       "                                        news_article news_category  \n",
       "0  Amazon has halted construction at a facility i...    technology  \n",
       "1  Leaked data from around 18 crore orders from D...    technology  \n",
       "2  Tesla CEO Elon Musk on Thursday said he has no...    technology  \n",
       "3  Microsoft CEO Satya Nadella has said that powe...    technology  \n",
       "4  Craig Federighi, Apple's Senior VP of Software...    technology  "
      ]
     },
     "execution_count": 126,
     "metadata": {},
     "output_type": "execute_result"
    }
   ],
   "source": [
    "news_df.head(5)"
   ]
  },
  {
   "cell_type": "code",
   "execution_count": 127,
   "metadata": {
    "scrolled": true
   },
   "outputs": [
    {
     "data": {
      "text/plain": [
       "world         25\n",
       "sports        25\n",
       "technology    25\n",
       "Name: news_category, dtype: int64"
      ]
     },
     "execution_count": 127,
     "metadata": {},
     "output_type": "execute_result"
    }
   ],
   "source": [
    "news_df.news_category.value_counts()"
   ]
  },
  {
   "cell_type": "code",
   "execution_count": 136,
   "metadata": {},
   "outputs": [
    {
     "ename": "SyntaxError",
     "evalue": "invalid syntax (<ipython-input-136-bb456caeb370>, line 1)",
     "output_type": "error",
     "traceback": [
      "\u001b[1;36m  File \u001b[1;32m\"<ipython-input-136-bb456caeb370>\"\u001b[1;36m, line \u001b[1;32m1\u001b[0m\n\u001b[1;33m    pip install spacy && python -m spacy download en\u001b[0m\n\u001b[1;37m        ^\u001b[0m\n\u001b[1;31mSyntaxError\u001b[0m\u001b[1;31m:\u001b[0m invalid syntax\n"
     ]
    }
   ],
   "source": []
  },
  {
   "cell_type": "code",
   "execution_count": 128,
   "metadata": {},
   "outputs": [],
   "source": [
    "#Text Wrangling and preprocessing"
   ]
  },
  {
   "cell_type": "code",
   "execution_count": 131,
   "metadata": {},
   "outputs": [],
   "source": [
    "import spacy \n",
    "import nltk\n",
    "from nltk.tokenize.toktok import ToktokTokenizer"
   ]
  },
  {
   "cell_type": "code",
   "execution_count": 135,
   "metadata": {},
   "outputs": [
    {
     "ename": "OSError",
     "evalue": "[E050] Can't find model 'english'. It doesn't seem to be a Python package or a valid path to a data directory.",
     "output_type": "error",
     "traceback": [
      "\u001b[1;31m---------------------------------------------------------------------------\u001b[0m",
      "\u001b[1;31mOSError\u001b[0m                                   Traceback (most recent call last)",
      "\u001b[1;32m<ipython-input-135-7e84ec205408>\u001b[0m in \u001b[0;36m<module>\u001b[1;34m\u001b[0m\n\u001b[1;32m----> 1\u001b[1;33m \u001b[0mnlp\u001b[0m\u001b[1;33m=\u001b[0m\u001b[0mspacy\u001b[0m\u001b[1;33m.\u001b[0m\u001b[0mload\u001b[0m\u001b[1;33m(\u001b[0m\u001b[1;34m\"english\"\u001b[0m\u001b[1;33m)\u001b[0m\u001b[1;33m\u001b[0m\u001b[1;33m\u001b[0m\u001b[0m\n\u001b[0m",
      "\u001b[1;32m~\\anaconda3\\ana\\lib\\site-packages\\spacy\\__init__.py\u001b[0m in \u001b[0;36mload\u001b[1;34m(name, vocab, disable, exclude, config)\u001b[0m\n\u001b[0;32m     48\u001b[0m     \u001b[0mRETURNS\u001b[0m \u001b[1;33m(\u001b[0m\u001b[0mLanguage\u001b[0m\u001b[1;33m)\u001b[0m\u001b[1;33m:\u001b[0m \u001b[0mThe\u001b[0m \u001b[0mloaded\u001b[0m \u001b[0mnlp\u001b[0m \u001b[0mobject\u001b[0m\u001b[1;33m.\u001b[0m\u001b[1;33m\u001b[0m\u001b[1;33m\u001b[0m\u001b[0m\n\u001b[0;32m     49\u001b[0m     \"\"\"\n\u001b[1;32m---> 50\u001b[1;33m     return util.load_model(\n\u001b[0m\u001b[0;32m     51\u001b[0m         \u001b[0mname\u001b[0m\u001b[1;33m,\u001b[0m \u001b[0mvocab\u001b[0m\u001b[1;33m=\u001b[0m\u001b[0mvocab\u001b[0m\u001b[1;33m,\u001b[0m \u001b[0mdisable\u001b[0m\u001b[1;33m=\u001b[0m\u001b[0mdisable\u001b[0m\u001b[1;33m,\u001b[0m \u001b[0mexclude\u001b[0m\u001b[1;33m=\u001b[0m\u001b[0mexclude\u001b[0m\u001b[1;33m,\u001b[0m \u001b[0mconfig\u001b[0m\u001b[1;33m=\u001b[0m\u001b[0mconfig\u001b[0m\u001b[1;33m\u001b[0m\u001b[1;33m\u001b[0m\u001b[0m\n\u001b[0;32m     52\u001b[0m     )\n",
      "\u001b[1;32m~\\anaconda3\\ana\\lib\\site-packages\\spacy\\util.py\u001b[0m in \u001b[0;36mload_model\u001b[1;34m(name, vocab, disable, exclude, config)\u001b[0m\n\u001b[0;32m    329\u001b[0m     \u001b[1;32mif\u001b[0m \u001b[0mname\u001b[0m \u001b[1;32min\u001b[0m \u001b[0mOLD_MODEL_SHORTCUTS\u001b[0m\u001b[1;33m:\u001b[0m\u001b[1;33m\u001b[0m\u001b[1;33m\u001b[0m\u001b[0m\n\u001b[0;32m    330\u001b[0m         \u001b[1;32mraise\u001b[0m \u001b[0mIOError\u001b[0m\u001b[1;33m(\u001b[0m\u001b[0mErrors\u001b[0m\u001b[1;33m.\u001b[0m\u001b[0mE941\u001b[0m\u001b[1;33m.\u001b[0m\u001b[0mformat\u001b[0m\u001b[1;33m(\u001b[0m\u001b[0mname\u001b[0m\u001b[1;33m=\u001b[0m\u001b[0mname\u001b[0m\u001b[1;33m,\u001b[0m \u001b[0mfull\u001b[0m\u001b[1;33m=\u001b[0m\u001b[0mOLD_MODEL_SHORTCUTS\u001b[0m\u001b[1;33m[\u001b[0m\u001b[0mname\u001b[0m\u001b[1;33m]\u001b[0m\u001b[1;33m)\u001b[0m\u001b[1;33m)\u001b[0m\u001b[1;33m\u001b[0m\u001b[1;33m\u001b[0m\u001b[0m\n\u001b[1;32m--> 331\u001b[1;33m     \u001b[1;32mraise\u001b[0m \u001b[0mIOError\u001b[0m\u001b[1;33m(\u001b[0m\u001b[0mErrors\u001b[0m\u001b[1;33m.\u001b[0m\u001b[0mE050\u001b[0m\u001b[1;33m.\u001b[0m\u001b[0mformat\u001b[0m\u001b[1;33m(\u001b[0m\u001b[0mname\u001b[0m\u001b[1;33m=\u001b[0m\u001b[0mname\u001b[0m\u001b[1;33m)\u001b[0m\u001b[1;33m)\u001b[0m\u001b[1;33m\u001b[0m\u001b[1;33m\u001b[0m\u001b[0m\n\u001b[0m\u001b[0;32m    332\u001b[0m \u001b[1;33m\u001b[0m\u001b[0m\n\u001b[0;32m    333\u001b[0m \u001b[1;33m\u001b[0m\u001b[0m\n",
      "\u001b[1;31mOSError\u001b[0m: [E050] Can't find model 'english'. It doesn't seem to be a Python package or a valid path to a data directory."
     ]
    }
   ],
   "source": [
    "nlp=spacy.load(\"english\")"
   ]
  },
  {
   "cell_type": "code",
   "execution_count": null,
   "metadata": {},
   "outputs": [],
   "source": [
    "nltk.download('stopwords')"
   ]
  },
  {
   "cell_type": "code",
   "execution_count": null,
   "metadata": {},
   "outputs": [],
   "source": [
    "tokenizer=ToktokTokenizer"
   ]
  },
  {
   "cell_type": "code",
   "execution_count": null,
   "metadata": {},
   "outputs": [],
   "source": []
  },
  {
   "cell_type": "code",
   "execution_count": null,
   "metadata": {},
   "outputs": [],
   "source": []
  },
  {
   "cell_type": "code",
   "execution_count": null,
   "metadata": {},
   "outputs": [],
   "source": []
  },
  {
   "cell_type": "code",
   "execution_count": null,
   "metadata": {},
   "outputs": [],
   "source": []
  },
  {
   "cell_type": "code",
   "execution_count": null,
   "metadata": {},
   "outputs": [],
   "source": []
  }
 ],
 "metadata": {
  "kernelspec": {
   "display_name": "Python 3",
   "language": "python",
   "name": "python3"
  },
  "language_info": {
   "codemirror_mode": {
    "name": "ipython",
    "version": 3
   },
   "file_extension": ".py",
   "mimetype": "text/x-python",
   "name": "python",
   "nbconvert_exporter": "python",
   "pygments_lexer": "ipython3",
   "version": "3.8.5"
  }
 },
 "nbformat": 4,
 "nbformat_minor": 4
}
